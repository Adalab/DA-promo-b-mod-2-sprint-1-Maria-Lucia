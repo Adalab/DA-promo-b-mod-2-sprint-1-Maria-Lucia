{
 "cells": [
  {
   "cell_type": "code",
   "execution_count": 2,
   "metadata": {},
   "outputs": [],
   "source": [
    "import numpy as np"
   ]
  },
  {
   "cell_type": "code",
   "execution_count": 3,
   "metadata": {},
   "outputs": [],
   "source": [
    "# En esta lección hemos aprendido algunas de las operaciones matemáticas más importantes que podemos aplicar a un array. \n",
    "# Hoy pondremos en práctica algunas de estas operaciones, además de recordar algunas de los métodos aprendidos en otras lecciones y recordar como podemos iterar por un array.  "
   ]
  },
  {
   "cell_type": "code",
   "execution_count": 4,
   "metadata": {},
   "outputs": [],
   "source": [
    "# Ejercicio 1\n",
    "# Cread un array de tres dimensiones de 2 matrices, 3 filas y 5 columnas cuyos valores solo tengan 1 decimales. Sobre el array creado anteriormente, extraed:"
   ]
  },
  {
   "cell_type": "code",
   "execution_count": 5,
   "metadata": {},
   "outputs": [],
   "source": [
    "array3d = np.random.random_sample((2,3,5)).round(1)"
   ]
  },
  {
   "cell_type": "code",
   "execution_count": 6,
   "metadata": {},
   "outputs": [
    {
     "data": {
      "text/plain": [
       "array([[[0.4, 0.8, 0.5, 0.7, 0.2],\n",
       "        [0.3, 0.2, 0.8, 0.3, 0.2],\n",
       "        [0.2, 0. , 0.1, 0.8, 0.6]],\n",
       "\n",
       "       [[0.2, 0.4, 0.4, 0.5, 1. ],\n",
       "        [0.8, 0.9, 0.5, 0.1, 0.9],\n",
       "        [0.4, 0.1, 0.3, 0.3, 0.5]]])"
      ]
     },
     "execution_count": 6,
     "metadata": {},
     "output_type": "execute_result"
    }
   ],
   "source": [
    "array3d"
   ]
  },
  {
   "cell_type": "code",
   "execution_count": 7,
   "metadata": {},
   "outputs": [],
   "source": [
    "# Ejercicio 2\n",
    "# Calculad la media del array y almacenarlos en una variable. Redondead a un decimal"
   ]
  },
  {
   "cell_type": "code",
   "execution_count": 8,
   "metadata": {},
   "outputs": [
    {
     "data": {
      "text/plain": [
       "0.4"
      ]
     },
     "execution_count": 8,
     "metadata": {},
     "output_type": "execute_result"
    }
   ],
   "source": [
    "media = np.mean(array3d).round(1)\n",
    "media"
   ]
  },
  {
   "cell_type": "code",
   "execution_count": 9,
   "metadata": {},
   "outputs": [],
   "source": [
    "# Ejercicio 3\n",
    "# Calculad el valor máximo del array y almacenarlos en una variable. Redondead a un decimal."
   ]
  },
  {
   "cell_type": "code",
   "execution_count": 10,
   "metadata": {},
   "outputs": [
    {
     "data": {
      "text/plain": [
       "1.0"
      ]
     },
     "execution_count": 10,
     "metadata": {},
     "output_type": "execute_result"
    }
   ],
   "source": [
    "maxi = np.max(array3d).round(1)\n",
    "maxi"
   ]
  },
  {
   "cell_type": "code",
   "execution_count": 11,
   "metadata": {},
   "outputs": [],
   "source": [
    "# Ejercicio 4 \n",
    "# Calculad el valor mínimo del array y almacenarlos en una variable. Redondead a un decimal."
   ]
  },
  {
   "cell_type": "code",
   "execution_count": 12,
   "metadata": {},
   "outputs": [
    {
     "data": {
      "text/plain": [
       "0.0"
      ]
     },
     "execution_count": 12,
     "metadata": {},
     "output_type": "execute_result"
    }
   ],
   "source": [
    "mini = np.min(array3d)\n",
    "mini"
   ]
  },
  {
   "cell_type": "code",
   "execution_count": 13,
   "metadata": {},
   "outputs": [],
   "source": [
    "# Ejercicio 5\n",
    "# Cread un array vacío con la misma forma y dimensiones que el array creado anteriormente\n",
    "# Vamos a reemplazar los valores de la matriz vacía que nos acabamos de crear pero basándonos en los valores del primer array bajo las siguientes condiciones:\n",
    "#Si el valor del array es igual que la media, se reemplaza por \"A\".\n",
    "#Si el valor del array es mayor que la media, se reemplaza por \"B\".\n",
    "#Si el valor del array es menor que la media, se reemplaza por \"C\".\n",
    "#Si el valor es igual que el máximo, se reemplaza por \"D\""
   ]
  },
  {
   "cell_type": "code",
   "execution_count": 14,
   "metadata": {},
   "outputs": [
    {
     "data": {
      "text/plain": [
       "array([[['', '', '', '', ''],\n",
       "        ['', '', '', '', ''],\n",
       "        ['', '', '', '', '']],\n",
       "\n",
       "       [['', '', '', '', ''],\n",
       "        ['', '', '', '', ''],\n",
       "        ['', '', '', '', '']]], dtype='<U1')"
      ]
     },
     "execution_count": 14,
     "metadata": {},
     "output_type": "execute_result"
    }
   ],
   "source": [
    "array3d_vacio = np.empty_like(array3d, dtype = str )\n",
    "array3d_vacio"
   ]
  },
  {
   "cell_type": "code",
   "execution_count": 15,
   "metadata": {},
   "outputs": [],
   "source": [
    "# para ir encontrando los indices generamos un contador. (3 contadores, en este caso) \n",
    "# Le aplicamos las condiciones al elemento elegido y cuando cumpla una, pasamos el contador para ir al siguiente elemento y \"guardar\" su posición\n",
    "\n",
    "c1 = 0\n",
    "c2 = 0\n",
    "c3 = 0\n",
    "\n",
    "for dim1 in array3d:\n",
    "   for dim2 in dim1:\n",
    "    for dim3 in dim2:\n",
    "        if dim3 == maxi:\n",
    "            array3d_vacio[c1][c2][c3] = \"D\"\n",
    "        elif dim3 == media:\n",
    "            array3d_vacio[c1][c2][c3] = \"A\"\n",
    "        elif dim3 > media:\n",
    "            array3d_vacio[c1][c2][c3] = \"B\"\n",
    "        elif dim3 < media:\n",
    "            array3d_vacio[c1][c2][c3] = \"C\"\n",
    "        \n",
    "\n",
    "        c3 += 1\n",
    "        if c3 > 4:\n",
    "            c3 = 0\n",
    "            c2 += 1\n",
    "            if c2 > 2:\n",
    "                c2 = 0\n",
    "                c1 += 1\n",
    "                if c1 > 1:\n",
    "                    break\n",
    "    "
   ]
  },
  {
   "cell_type": "code",
   "execution_count": 16,
   "metadata": {},
   "outputs": [
    {
     "data": {
      "text/plain": [
       "array([[['A', 'B', 'B', 'B', 'C'],\n",
       "        ['C', 'C', 'B', 'C', 'C'],\n",
       "        ['C', 'C', 'C', 'B', 'B']],\n",
       "\n",
       "       [['C', 'A', 'A', 'B', 'D'],\n",
       "        ['B', 'B', 'B', 'C', 'B'],\n",
       "        ['A', 'C', 'C', 'C', 'B']]], dtype='<U1')"
      ]
     },
     "execution_count": 16,
     "metadata": {},
     "output_type": "execute_result"
    }
   ],
   "source": [
    "array3d_vacio"
   ]
  },
  {
   "cell_type": "code",
   "execution_count": 17,
   "metadata": {},
   "outputs": [
    {
     "data": {
      "text/plain": [
       "'n'"
      ]
     },
     "execution_count": 17,
     "metadata": {},
     "output_type": "execute_result"
    }
   ],
   "source": [
    "\n",
    "# DUDA PARA LA REVISIÓN\n",
    "\n",
    "# En mi array tipo string no me permite meter un string de más de len 1. ¿Qué pasa?\n",
    "\n",
    "array3d_vacio[0][0][0] = \"no entiendo nada\"\n",
    "array3d_vacio[0][0][0]\n"
   ]
  },
  {
   "cell_type": "code",
   "execution_count": 18,
   "metadata": {},
   "outputs": [],
   "source": [
    "\n",
    "# teniamos una ayuda de codigo, que nos definía rangos para identificar los índices. Asi que hemos desarrollado las dos formas. \n",
    "\n",
    "for x in range(0,2):\n",
    "    \n",
    "    for y in range (0,3):\n",
    "        \n",
    "        for z in range(0,5):\n",
    "            \n",
    "            \n",
    "            if array3d[x][y][z] == maxi:\n",
    "                array3d_vacio[x][y][z] = \"D\"\n",
    "            elif array3d[x][y][z] == media:\n",
    "                array3d_vacio[x][y][z]= \"A\"\n",
    "            elif array3d[x][y][z] > media:\n",
    "                array3d_vacio[x][y][z]= \"B\"\n",
    "            elif array3d[x][y][z] < media:\n",
    "                array3d_vacio[x][y][z]= \"C\"\n"
   ]
  },
  {
   "cell_type": "code",
   "execution_count": 19,
   "metadata": {},
   "outputs": [
    {
     "data": {
      "text/plain": [
       "array([[['A', 'B', 'B', 'B', 'C'],\n",
       "        ['C', 'C', 'B', 'C', 'C'],\n",
       "        ['C', 'C', 'C', 'B', 'B']],\n",
       "\n",
       "       [['C', 'A', 'A', 'B', 'D'],\n",
       "        ['B', 'B', 'B', 'C', 'B'],\n",
       "        ['A', 'C', 'C', 'C', 'B']]], dtype='<U1')"
      ]
     },
     "execution_count": 19,
     "metadata": {},
     "output_type": "execute_result"
    }
   ],
   "source": [
    "array3d_vacio"
   ]
  },
  {
   "cell_type": "code",
   "execution_count": 20,
   "metadata": {},
   "outputs": [],
   "source": [
    "# Ejercicio 6\n",
    "# Estupendo, tenemos un array con strings. \n",
    "# Ahora realizaremos un ejercicio similar al anterior, pero en este caso nos crearemos un array vacío unidimensional \n",
    "# de 30 elementos. Al final de este ejercicio acabaremos teniendo un array de tres dimensiones \n",
    "# con la misma forma que el primero que nos creamos.\n",
    "# Si el valor del array creado en el ejercicio anterior es \"A\" o \"B\" lo reemplazaremos por 1\n",
    "# Si el valor del array creado en el ejercicio anterior es \"C\" o \"D\" lo reemplazaremos por 2\n",
    "# Si el valor del array creado en el ejercicio anterior es \"E\" lo reemplazaremos por 3.\n",
    "# Una vez que hayas reemplazado todos los valores cambiad la forma del array para que sea de tres dimensiones, con 2 matrices, 3 filas y 5 columnas."
   ]
  },
  {
   "cell_type": "code",
   "execution_count": 21,
   "metadata": {},
   "outputs": [
    {
     "data": {
      "text/plain": [
       "array([4600877379321698714, 4605380978949069210, 4602678819172646912,\n",
       "       4604480259023595110, 4596373779694328218, 4599075939470750515,\n",
       "       4596373779694328218, 4605380978949069210, 4599075939470750515,\n",
       "       4596373779694328218, 4596373779694328218,                   0,\n",
       "       4591870180066957722, 4605380978949069210, 4603579539098121011,\n",
       "       4596373779694328218, 4600877379321698714, 4600877379321698714,\n",
       "       4602678819172646912, 4607182418800017408, 4605380978949069210,\n",
       "       4606281698874543309, 4602678819172646912, 4591870180066957722,\n",
       "       4606281698874543309, 4600877379321698714, 4591870180066957722,\n",
       "       4599075939470750515, 4599075939470750515, 4602678819172646912])"
      ]
     },
     "execution_count": 21,
     "metadata": {},
     "output_type": "execute_result"
    }
   ],
   "source": [
    "arr = np.empty(30, dtype = int)\n",
    "arr"
   ]
  },
  {
   "cell_type": "code",
   "execution_count": 22,
   "metadata": {},
   "outputs": [],
   "source": [
    "# aquí parece mejor opción usar un contador para ir relacionando las posiciones por indices del array de varias dimensiones, \n",
    "# con la posición por índices del array de una sola dimensión\n",
    "\n",
    "contador = 0\n",
    "\n",
    "for x in range(0,2):\n",
    "    \n",
    "    for y in range (0,3):\n",
    "        \n",
    "        for z in range(0,5):\n",
    "\n",
    "            if array3d_vacio[x][y][z] ==\"D\" or array3d_vacio[x][y][z] == \"C\":\n",
    "                arr[contador] = 2\n",
    "            elif array3d_vacio[x][y][z] == \"A\" or array3d_vacio[x][y][z] == \"B\":\n",
    "                arr[contador] = 1\n",
    "            else:\n",
    "                arr[contador] = 3 # el enunciado se refiere a \"E\", pero no existe previamente.\n",
    "            contador += 1\n",
    "\n",
    "            if contador > 29:\n",
    "                break\n",
    "\n"
   ]
  },
  {
   "cell_type": "code",
   "execution_count": 23,
   "metadata": {},
   "outputs": [
    {
     "data": {
      "text/plain": [
       "array([[['A', 'B', 'B', 'B', 'C'],\n",
       "        ['C', 'C', 'B', 'C', 'C'],\n",
       "        ['C', 'C', 'C', 'B', 'B']],\n",
       "\n",
       "       [['C', 'A', 'A', 'B', 'D'],\n",
       "        ['B', 'B', 'B', 'C', 'B'],\n",
       "        ['A', 'C', 'C', 'C', 'B']]], dtype='<U1')"
      ]
     },
     "execution_count": 23,
     "metadata": {},
     "output_type": "execute_result"
    }
   ],
   "source": [
    "array3d_vacio"
   ]
  },
  {
   "cell_type": "code",
   "execution_count": 24,
   "metadata": {},
   "outputs": [
    {
     "data": {
      "text/plain": [
       "array([1, 1, 1, 1, 2, 2, 2, 1, 2, 2, 2, 2, 2, 1, 1, 2, 1, 1, 1, 2, 1, 1,\n",
       "       1, 2, 1, 1, 2, 2, 2, 1])"
      ]
     },
     "execution_count": 24,
     "metadata": {},
     "output_type": "execute_result"
    }
   ],
   "source": [
    "arr"
   ]
  },
  {
   "cell_type": "code",
   "execution_count": 25,
   "metadata": {},
   "outputs": [
    {
     "data": {
      "text/plain": [
       "array([[[1, 1, 1, 1, 2],\n",
       "        [2, 2, 1, 2, 2],\n",
       "        [2, 2, 2, 1, 1]],\n",
       "\n",
       "       [[2, 1, 1, 1, 2],\n",
       "        [1, 1, 1, 2, 1],\n",
       "        [1, 2, 2, 2, 1]]])"
      ]
     },
     "execution_count": 25,
     "metadata": {},
     "output_type": "execute_result"
    }
   ],
   "source": [
    "arr2 = arr.reshape(2,3,5)\n",
    "arr2"
   ]
  }
 ],
 "metadata": {
  "kernelspec": {
   "display_name": "Python 3.9.7 ('base')",
   "language": "python",
   "name": "python3"
  },
  "language_info": {
   "codemirror_mode": {
    "name": "ipython",
    "version": 3
   },
   "file_extension": ".py",
   "mimetype": "text/x-python",
   "name": "python",
   "nbconvert_exporter": "python",
   "pygments_lexer": "ipython3",
   "version": "3.9.7"
  },
  "orig_nbformat": 4,
  "vscode": {
   "interpreter": {
    "hash": "8e1f904fe714ccd05b7907fe541d28c2ec20b612a1af6f34d013e1f0fd7aabf1"
   }
  }
 },
 "nbformat": 4,
 "nbformat_minor": 2
}
