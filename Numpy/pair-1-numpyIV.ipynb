{
 "cells": [
  {
   "cell_type": "code",
   "execution_count": 1,
   "metadata": {},
   "outputs": [],
   "source": [
    "import numpy as np"
   ]
  },
  {
   "cell_type": "code",
   "execution_count": 2,
   "metadata": {},
   "outputs": [
    {
     "data": {
      "text/plain": [
       "array([[0.37, 0.95, 0.73],\n",
       "       [0.6 , 0.16, 0.16]])"
      ]
     },
     "execution_count": 2,
     "metadata": {},
     "output_type": "execute_result"
    }
   ],
   "source": [
    "# Ejercicio: 1\n",
    "# ¿Cómo podemos crear dos arrays de dos dimensiones usando el método random_sample que tengan los mismos valores?\n",
    "\n",
    "# Utilizando la semilla\n",
    "\n",
    "np.random.seed(42)\n",
    "\n",
    "array1 = np.round(np.random.random_sample((2,3)),2)\n",
    "array1\n",
    "\n"
   ]
  },
  {
   "cell_type": "code",
   "execution_count": 3,
   "metadata": {},
   "outputs": [
    {
     "data": {
      "text/plain": [
       "array([[0.06, 0.87, 0.6 ],\n",
       "       [0.71, 0.02, 0.97]])"
      ]
     },
     "execution_count": 3,
     "metadata": {},
     "output_type": "execute_result"
    }
   ],
   "source": [
    "array2 = np.round(np.random.random_sample((2,3)),2)\n",
    "array2"
   ]
  },
  {
   "cell_type": "code",
   "execution_count": null,
   "metadata": {},
   "outputs": [],
   "source": [
    "# Ejercicio: 2\n",
    "# Cread los siguientes arrays:\n",
    "# Un array de tres dimensiones con distribución uniforme de 2 x 3 x 5, con números entre 0 y 10, que no tengan decimales y extrae sus valores únicos almacenándolos en una variable\n",
    "# Un array de tres dimensiones con distribución binomial de 2 x 3 x 5, con probabilidad de 0.3 y número de pruebas igual a 10. Igual que antes guarda los datos en una variable."
   ]
  },
  {
   "cell_type": "code",
   "execution_count": 4,
   "metadata": {},
   "outputs": [
    {
     "data": {
      "text/plain": [
       "array([[[ 8.,  2.,  2.,  2.,  3.],\n",
       "        [ 5.,  4.,  3.,  6.,  1.],\n",
       "        [ 3.,  4.,  5.,  8.,  2.]],\n",
       "\n",
       "       [[ 5.,  6.,  0.,  6.,  2.],\n",
       "        [ 1.,  9., 10.,  8.,  3.],\n",
       "        [ 1.,  7.,  4.,  1.,  5.]]])"
      ]
     },
     "execution_count": 4,
     "metadata": {},
     "output_type": "execute_result"
    }
   ],
   "source": [
    "array_uni = np.round(np.random.uniform(0,10,(2,3,5)),0)\n",
    "array_uni"
   ]
  },
  {
   "cell_type": "code",
   "execution_count": 5,
   "metadata": {},
   "outputs": [
    {
     "data": {
      "text/plain": [
       "array([ 0.,  1.,  2.,  3.,  4.,  5.,  6.,  7.,  8.,  9., 10.])"
      ]
     },
     "execution_count": 5,
     "metadata": {},
     "output_type": "execute_result"
    }
   ],
   "source": [
    "valores_unicos_uni= np.unique(array_uni)\n",
    "valores_unicos_uni"
   ]
  },
  {
   "cell_type": "code",
   "execution_count": 6,
   "metadata": {},
   "outputs": [
    {
     "data": {
      "text/plain": [
       "array([[[1, 5, 2, 4, 2],\n",
       "        [3, 3, 2, 6, 4],\n",
       "        [5, 5, 3, 5, 1]],\n",
       "\n",
       "       [[2, 1, 2, 3, 2],\n",
       "        [4, 2, 2, 3, 1],\n",
       "        [4, 1, 6, 4, 2]]])"
      ]
     },
     "execution_count": 6,
     "metadata": {},
     "output_type": "execute_result"
    }
   ],
   "source": [
    "array_bin = np.random.binomial(10, 0.3, size = (2,3,5))\n",
    "array_bin"
   ]
  },
  {
   "cell_type": "code",
   "execution_count": 7,
   "metadata": {},
   "outputs": [
    {
     "data": {
      "text/plain": [
       "array([1, 2, 3, 4, 5, 6])"
      ]
     },
     "execution_count": 7,
     "metadata": {},
     "output_type": "execute_result"
    }
   ],
   "source": [
    "valores_unicos_bin = np.unique(array_bin)\n",
    "valores_unicos_bin"
   ]
  },
  {
   "cell_type": "code",
   "execution_count": null,
   "metadata": {},
   "outputs": [],
   "source": [
    "# Ejercicio 3\n",
    "# En esta lección hemos aprendido algunos métodos de teórias de conjuntos. Usando los arrays de elementos únicos obtenidos en el ejercicio anterior \n",
    "# realizad las siguientes operaciones:"
   ]
  },
  {
   "cell_type": "code",
   "execution_count": 26,
   "metadata": {},
   "outputs": [
    {
     "data": {
      "text/plain": [
       "array([0., 1., 2., 3., 4., 5.])"
      ]
     },
     "execution_count": 26,
     "metadata": {},
     "output_type": "execute_result"
    }
   ],
   "source": [
    "# Elementos comunes entre los dos arrays\n",
    "\n",
    "np.intersect1d(valores_unicos_uni, valores_unicos_bin)\n",
    "\n",
    "# Estamos extrayendo los valores comunes a los dos arrays, la intersección de ambos. Aparecen ordenados de menor a mayor."
   ]
  },
  {
   "cell_type": "code",
   "execution_count": 27,
   "metadata": {},
   "outputs": [
    {
     "data": {
      "text/plain": [
       "array([ 0.,  1.,  2.,  3.,  4.,  5.,  6.,  7.,  8.,  9., 10.])"
      ]
     },
     "execution_count": 27,
     "metadata": {},
     "output_type": "execute_result"
    }
   ],
   "source": [
    "# Unión de los dos arrays\n",
    "\n",
    "np.union1d(valores_unicos_uni, valores_unicos_bin)\n",
    "\n",
    "# Estamos extrayendo los valores únicos que están en los dos arrays (sin repetidos). Aparecen ordenados de menor a mayor."
   ]
  },
  {
   "cell_type": "code",
   "execution_count": null,
   "metadata": {},
   "outputs": [],
   "source": [
    "# ¿Qué elementos están en el array derivado de la distribución uniforme y no en los únicos de la distribución binomial? Extrae los valores númericos"
   ]
  },
  {
   "cell_type": "code",
   "execution_count": 28,
   "metadata": {},
   "outputs": [
    {
     "data": {
      "text/plain": [
       "array([ 6.,  7.,  8.,  9., 10.])"
      ]
     },
     "execution_count": 28,
     "metadata": {},
     "output_type": "execute_result"
    }
   ],
   "source": [
    "np.setdiff1d(array_uni, array_bin)\n",
    "\n",
    "# Estamos obteniendo los valores únicos que están en el primer array(uniforme) y no están en el segundo(binomial)"
   ]
  },
  {
   "cell_type": "code",
   "execution_count": null,
   "metadata": {},
   "outputs": [],
   "source": [
    "# Ejercicio 4\n",
    "# Cread dos arrays usando el método random.randint de Numpy con 80 elementos cada uno con números del 1-100, con los siguientes nombres array1 y array2"
   ]
  },
  {
   "cell_type": "code",
   "execution_count": 30,
   "metadata": {},
   "outputs": [
    {
     "data": {
      "text/plain": [
       "array([99,  7, 16, 90, 60,  2,  1, 48, 12, 69, 37, 32,  9, 99, 19, 48, 80,\n",
       "        3, 20, 24, 54, 33, 24, 75, 72, 36, 38, 84, 99, 89, 99, 25, 93, 18,\n",
       "       82, 66, 54, 35, 80, 61, 41, 33, 68, 33, 14, 21, 48, 20,  8,  7, 67,\n",
       "       17, 33, 48, 76, 59, 86, 22, 30, 38, 51, 54,  8, 27, 27, 98, 21, 30,\n",
       "       97, 28, 64, 97, 69, 61, 48, 19,  4, 35, 64, 49])"
      ]
     },
     "execution_count": 30,
     "metadata": {},
     "output_type": "execute_result"
    }
   ],
   "source": [
    "arrayA = np.random.randint(1,100, 80)\n",
    "arrayA"
   ]
  },
  {
   "cell_type": "code",
   "execution_count": 31,
   "metadata": {},
   "outputs": [
    {
     "data": {
      "text/plain": [
       "array([17, 44, 92, 30, 93, 46,  6, 99, 37, 24, 93, 46, 53, 95, 99, 60, 97,\n",
       "       63, 85, 32, 87, 33, 67, 18, 25, 95, 54, 58, 67, 46, 24, 32, 47, 86,\n",
       "       23, 66, 27,  2, 90, 17, 33,  9, 43, 48, 39, 93, 42, 26, 99, 50, 25,\n",
       "       24, 13, 60,  7, 57, 36, 45, 20, 65,  8, 16, 14, 76, 87, 15, 92, 98,\n",
       "       66, 32, 87, 63, 86, 51, 25, 58, 63, 62, 22, 58])"
      ]
     },
     "execution_count": 31,
     "metadata": {},
     "output_type": "execute_result"
    }
   ],
   "source": [
    "arrayB = np.random.randint(1,100, 80)\n",
    "arrayB"
   ]
  },
  {
   "cell_type": "code",
   "execution_count": 39,
   "metadata": {},
   "outputs": [],
   "source": [
    "# Extraed los valores únicos de cada uno de los arrays y los guardáis en variables en las que se les llame array1 y array2.\n",
    "\n",
    "arrayA = np.unique(arrayA)\n",
    "arrayA\n",
    "\n",
    "tamA = arrayA.size"
   ]
  },
  {
   "cell_type": "code",
   "execution_count": 45,
   "metadata": {},
   "outputs": [],
   "source": [
    "arrayB = np.unique(arrayB)\n",
    "arrayB\n",
    "\n",
    "tamB = arrayB.size"
   ]
  },
  {
   "cell_type": "code",
   "execution_count": 46,
   "metadata": {},
   "outputs": [],
   "source": [
    "# Identificad los elementos presentes en el array1 pero no en el array2 y asiganarlo a una variable que se llame array3\n",
    "\n",
    "arrayC= np.setdiff1d(arrayA, arrayB)\n",
    "arrayC\n",
    "\n",
    "tamC = arrayC.size\n",
    "\n"
   ]
  },
  {
   "cell_type": "code",
   "execution_count": 47,
   "metadata": {},
   "outputs": [],
   "source": [
    "# Identificad los elementos presentes en el array2 pero no en el array1 y asiganarlo a una variable que se llame array4\n",
    "\n",
    "arrayD= np.setdiff1d(arrayB, arrayA)\n",
    "arrayD\n",
    "\n",
    "tamD = arrayD.size"
   ]
  },
  {
   "cell_type": "code",
   "execution_count": 48,
   "metadata": {},
   "outputs": [],
   "source": [
    "# Identificad los elementos presentes en ambos arrays y asignarlos a una variable que se llame array5\n",
    "\n",
    "arrayE = np.intersect1d(arrayA, arrayB)\n",
    "arrayE\n",
    "\n",
    "tamE= arrayE.size"
   ]
  },
  {
   "cell_type": "code",
   "execution_count": null,
   "metadata": {},
   "outputs": [],
   "source": [
    "# ¿Cuál es la relación que existe entre todos estos arrays? 💡 Pista 💡 Tendréis que usar las longitudes de cada uno de los arrays creados."
   ]
  },
  {
   "cell_type": "code",
   "execution_count": 50,
   "metadata": {},
   "outputs": [
    {
     "name": "stdout",
     "output_type": "stream",
     "text": [
      "53\n",
      "54\n",
      "22\n",
      "23\n",
      "31\n"
     ]
    }
   ],
   "source": [
    "print(tamA) #unicos de A\n",
    "print(tamB) #unicos de B\n",
    "print(tamC) #valores de A que no están en B\n",
    "print(tamD) #valores de B que no están en A\n",
    "print(tamE) #valores comunes"
   ]
  },
  {
   "cell_type": "code",
   "execution_count": 55,
   "metadata": {},
   "outputs": [
    {
     "data": {
      "text/plain": [
       "True"
      ]
     },
     "execution_count": 55,
     "metadata": {},
     "output_type": "execute_result"
    }
   ],
   "source": [
    "# La suma de los valores de A que no están en B + los valores comunes, nos tiene que dar el tamaño de A\n",
    "\n",
    "tamC + tamE == tamA"
   ]
  },
  {
   "cell_type": "code",
   "execution_count": 54,
   "metadata": {},
   "outputs": [
    {
     "data": {
      "text/plain": [
       "True"
      ]
     },
     "execution_count": 54,
     "metadata": {},
     "output_type": "execute_result"
    }
   ],
   "source": [
    "# La suma de los valores de B que no están en A + los valores comunes, nos tiene que dar el tamaño de B\n",
    "\n",
    "tamD + tamE == tamB\n"
   ]
  }
 ],
 "metadata": {
  "kernelspec": {
   "display_name": "Python 3.9.7 ('base')",
   "language": "python",
   "name": "python3"
  },
  "language_info": {
   "codemirror_mode": {
    "name": "ipython",
    "version": 3
   },
   "file_extension": ".py",
   "mimetype": "text/x-python",
   "name": "python",
   "nbconvert_exporter": "python",
   "pygments_lexer": "ipython3",
   "version": "3.9.7"
  },
  "orig_nbformat": 4,
  "vscode": {
   "interpreter": {
    "hash": "8e1f904fe714ccd05b7907fe541d28c2ec20b612a1af6f34d013e1f0fd7aabf1"
   }
  }
 },
 "nbformat": 4,
 "nbformat_minor": 2
}
