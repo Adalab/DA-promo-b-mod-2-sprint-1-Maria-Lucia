{
 "cells": [
  {
   "cell_type": "code",
   "execution_count": 56,
   "metadata": {},
   "outputs": [],
   "source": [
    "import numpy as np\n",
    "from scipy import stats\n",
    "import pandas as pd"
   ]
  },
  {
   "cell_type": "code",
   "execution_count": 57,
   "metadata": {},
   "outputs": [
    {
     "data": {
      "text/html": [
       "<div>\n",
       "<style scoped>\n",
       "    .dataframe tbody tr th:only-of-type {\n",
       "        vertical-align: middle;\n",
       "    }\n",
       "\n",
       "    .dataframe tbody tr th {\n",
       "        vertical-align: top;\n",
       "    }\n",
       "\n",
       "    .dataframe thead th {\n",
       "        text-align: right;\n",
       "    }\n",
       "</style>\n",
       "<table border=\"1\" class=\"dataframe\">\n",
       "  <thead>\n",
       "    <tr style=\"text-align: right;\">\n",
       "      <th></th>\n",
       "      <th>University_name</th>\n",
       "      <th>Region</th>\n",
       "      <th>Founded_year</th>\n",
       "      <th>Motto</th>\n",
       "      <th>UK_rank</th>\n",
       "      <th>World_rank</th>\n",
       "      <th>CWUR_score</th>\n",
       "      <th>Minimum_IELTS_score</th>\n",
       "      <th>UG_average_fees_(in_pounds)</th>\n",
       "      <th>PG_average_fees_(in_pounds)</th>\n",
       "      <th>...</th>\n",
       "      <th>Student_satisfaction</th>\n",
       "      <th>Student_enrollment</th>\n",
       "      <th>Academic_staff</th>\n",
       "      <th>Control_type</th>\n",
       "      <th>Academic_Calender</th>\n",
       "      <th>Campus_setting</th>\n",
       "      <th>Estimated_cost_of_living_per_year_(in_pounds)</th>\n",
       "      <th>Latitude</th>\n",
       "      <th>Longitude</th>\n",
       "      <th>Website</th>\n",
       "    </tr>\n",
       "  </thead>\n",
       "  <tbody>\n",
       "    <tr>\n",
       "      <th>0</th>\n",
       "      <td>University of Cambridge</td>\n",
       "      <td>East of England</td>\n",
       "      <td>1209</td>\n",
       "      <td>From here, light and sacred draughts</td>\n",
       "      <td>1</td>\n",
       "      <td>4</td>\n",
       "      <td>94.1</td>\n",
       "      <td>6.5</td>\n",
       "      <td>21750</td>\n",
       "      <td>23187</td>\n",
       "      <td>...</td>\n",
       "      <td>85.50%</td>\n",
       "      <td>20,000-24,999</td>\n",
       "      <td>over-5,000</td>\n",
       "      <td>Public</td>\n",
       "      <td>Trimesters</td>\n",
       "      <td>Urban</td>\n",
       "      <td>12000</td>\n",
       "      <td>52.2054</td>\n",
       "      <td>0.1132</td>\n",
       "      <td>www.cam.ac.uk</td>\n",
       "    </tr>\n",
       "    <tr>\n",
       "      <th>1</th>\n",
       "      <td>University of Oxford</td>\n",
       "      <td>South East England</td>\n",
       "      <td>1096</td>\n",
       "      <td>The Lord is my light</td>\n",
       "      <td>2</td>\n",
       "      <td>2</td>\n",
       "      <td>93.3</td>\n",
       "      <td>6.5</td>\n",
       "      <td>21770</td>\n",
       "      <td>19888</td>\n",
       "      <td>...</td>\n",
       "      <td>86.50%</td>\n",
       "      <td>25,000-29,999</td>\n",
       "      <td>over-5,000</td>\n",
       "      <td>Public</td>\n",
       "      <td>Trimesters</td>\n",
       "      <td>Urban</td>\n",
       "      <td>11500</td>\n",
       "      <td>51.7548</td>\n",
       "      <td>-1.2544</td>\n",
       "      <td>www.ox.ac.uk</td>\n",
       "    </tr>\n",
       "    <tr>\n",
       "      <th>2</th>\n",
       "      <td>University of St Andrews</td>\n",
       "      <td>Scotland</td>\n",
       "      <td>1413</td>\n",
       "      <td>Ever to excel</td>\n",
       "      <td>3</td>\n",
       "      <td>86</td>\n",
       "      <td>75.8</td>\n",
       "      <td>6.5</td>\n",
       "      <td>17040</td>\n",
       "      <td>15440</td>\n",
       "      <td>...</td>\n",
       "      <td>87.90%</td>\n",
       "      <td>10,000-14,999</td>\n",
       "      <td>1,000-1,499</td>\n",
       "      <td>Public</td>\n",
       "      <td>Semesters</td>\n",
       "      <td>Suburban</td>\n",
       "      <td>12000</td>\n",
       "      <td>56.3417</td>\n",
       "      <td>-2.7943</td>\n",
       "      <td>www.st-andrews.ac.uk</td>\n",
       "    </tr>\n",
       "    <tr>\n",
       "      <th>3</th>\n",
       "      <td>Imperial College London</td>\n",
       "      <td>London</td>\n",
       "      <td>1907</td>\n",
       "      <td>Knowledge is the adornment and safeguard of th...</td>\n",
       "      <td>4</td>\n",
       "      <td>8</td>\n",
       "      <td>86.6</td>\n",
       "      <td>6.5</td>\n",
       "      <td>23500</td>\n",
       "      <td>29900</td>\n",
       "      <td>...</td>\n",
       "      <td>77.90%</td>\n",
       "      <td>15,000-19,999</td>\n",
       "      <td>4,000-4,499</td>\n",
       "      <td>Public</td>\n",
       "      <td>Continuous</td>\n",
       "      <td>Urban</td>\n",
       "      <td>10700</td>\n",
       "      <td>51.4988</td>\n",
       "      <td>-0.1749</td>\n",
       "      <td>www.ic.ac.uk</td>\n",
       "    </tr>\n",
       "    <tr>\n",
       "      <th>4</th>\n",
       "      <td>Loughborough University</td>\n",
       "      <td>East Midlands</td>\n",
       "      <td>1966</td>\n",
       "      <td>With Truth, Knowledge and Labour</td>\n",
       "      <td>5</td>\n",
       "      <td>404</td>\n",
       "      <td>72.8</td>\n",
       "      <td>5.5</td>\n",
       "      <td>16400</td>\n",
       "      <td>16400</td>\n",
       "      <td>...</td>\n",
       "      <td>85.80%</td>\n",
       "      <td>15,000-19,999</td>\n",
       "      <td>1,500-1,999</td>\n",
       "      <td>Public</td>\n",
       "      <td>Semesters</td>\n",
       "      <td>Suburban</td>\n",
       "      <td>9398</td>\n",
       "      <td>52.7650</td>\n",
       "      <td>-1.2321</td>\n",
       "      <td>www.lboro.ac.uk/</td>\n",
       "    </tr>\n",
       "    <tr>\n",
       "      <th>...</th>\n",
       "      <td>...</td>\n",
       "      <td>...</td>\n",
       "      <td>...</td>\n",
       "      <td>...</td>\n",
       "      <td>...</td>\n",
       "      <td>...</td>\n",
       "      <td>...</td>\n",
       "      <td>...</td>\n",
       "      <td>...</td>\n",
       "      <td>...</td>\n",
       "      <td>...</td>\n",
       "      <td>...</td>\n",
       "      <td>...</td>\n",
       "      <td>...</td>\n",
       "      <td>...</td>\n",
       "      <td>...</td>\n",
       "      <td>...</td>\n",
       "      <td>...</td>\n",
       "      <td>...</td>\n",
       "      <td>...</td>\n",
       "      <td>...</td>\n",
       "    </tr>\n",
       "    <tr>\n",
       "      <th>126</th>\n",
       "      <td>University of East London</td>\n",
       "      <td>London</td>\n",
       "      <td>1992</td>\n",
       "      <td>Science and fulfillment of vows</td>\n",
       "      <td>127</td>\n",
       "      <td>971</td>\n",
       "      <td>NaN</td>\n",
       "      <td>4.5</td>\n",
       "      <td>10700</td>\n",
       "      <td>11700</td>\n",
       "      <td>...</td>\n",
       "      <td>76.10%</td>\n",
       "      <td>10,000-14,999</td>\n",
       "      <td>900-999</td>\n",
       "      <td>Public</td>\n",
       "      <td>Semesters</td>\n",
       "      <td>Suburban</td>\n",
       "      <td>10229</td>\n",
       "      <td>51.5076</td>\n",
       "      <td>0.0651</td>\n",
       "      <td>www.uel.ac.uk</td>\n",
       "    </tr>\n",
       "    <tr>\n",
       "      <th>127</th>\n",
       "      <td>University of Bedfordshire</td>\n",
       "      <td>East of England</td>\n",
       "      <td>2006</td>\n",
       "      <td>NaN</td>\n",
       "      <td>128</td>\n",
       "      <td>1281</td>\n",
       "      <td>NaN</td>\n",
       "      <td>4.5</td>\n",
       "      <td>9750</td>\n",
       "      <td>9900</td>\n",
       "      <td>...</td>\n",
       "      <td>77.40%</td>\n",
       "      <td>10,000-14,999</td>\n",
       "      <td>500-599</td>\n",
       "      <td>Public</td>\n",
       "      <td>Semesters</td>\n",
       "      <td>Urban</td>\n",
       "      <td>9415</td>\n",
       "      <td>51.8779</td>\n",
       "      <td>-0.4093</td>\n",
       "      <td>www.beds.ac.uk</td>\n",
       "    </tr>\n",
       "    <tr>\n",
       "      <th>128</th>\n",
       "      <td>University of Suffolk</td>\n",
       "      <td>East of England</td>\n",
       "      <td>2007</td>\n",
       "      <td>Honesty and diligence</td>\n",
       "      <td>129</td>\n",
       "      <td>4030</td>\n",
       "      <td>NaN</td>\n",
       "      <td>4.5</td>\n",
       "      <td>9495</td>\n",
       "      <td>9495</td>\n",
       "      <td>...</td>\n",
       "      <td>76.00%</td>\n",
       "      <td>7,000-7,999</td>\n",
       "      <td>200-299</td>\n",
       "      <td>Public</td>\n",
       "      <td>NaN</td>\n",
       "      <td>NaN</td>\n",
       "      <td>9415</td>\n",
       "      <td>52.0523</td>\n",
       "      <td>1.1629</td>\n",
       "      <td>www.ucs.ac.uk/</td>\n",
       "    </tr>\n",
       "    <tr>\n",
       "      <th>129</th>\n",
       "      <td>Wrexham Glyndwr University</td>\n",
       "      <td>Wales</td>\n",
       "      <td>2008</td>\n",
       "      <td>Confidence through Education</td>\n",
       "      <td>130</td>\n",
       "      <td>2397</td>\n",
       "      <td>NaN</td>\n",
       "      <td>4.5</td>\n",
       "      <td>10250</td>\n",
       "      <td>10500</td>\n",
       "      <td>...</td>\n",
       "      <td>74.30%</td>\n",
       "      <td>5,000-5,999</td>\n",
       "      <td>200-299</td>\n",
       "      <td>Public</td>\n",
       "      <td>NaN</td>\n",
       "      <td>Urban</td>\n",
       "      <td>7771</td>\n",
       "      <td>53.0526</td>\n",
       "      <td>-3.0062</td>\n",
       "      <td>www.glyndwr.ac.uk/</td>\n",
       "    </tr>\n",
       "    <tr>\n",
       "      <th>130</th>\n",
       "      <td>Ravensbourne University London</td>\n",
       "      <td>London</td>\n",
       "      <td>1962</td>\n",
       "      <td>Designed for industry</td>\n",
       "      <td>131</td>\n",
       "      <td>2759</td>\n",
       "      <td>NaN</td>\n",
       "      <td>5.5</td>\n",
       "      <td>9250</td>\n",
       "      <td>9250</td>\n",
       "      <td>...</td>\n",
       "      <td>66.10%</td>\n",
       "      <td>2,000-2,999</td>\n",
       "      <td>100-199</td>\n",
       "      <td>Public</td>\n",
       "      <td>Semesters</td>\n",
       "      <td>Urban</td>\n",
       "      <td>10229</td>\n",
       "      <td>51.5017</td>\n",
       "      <td>0.0055</td>\n",
       "      <td>www.ravensbourne.ac.uk</td>\n",
       "    </tr>\n",
       "  </tbody>\n",
       "</table>\n",
       "<p>131 rows × 21 columns</p>\n",
       "</div>"
      ],
      "text/plain": [
       "                    University_name              Region  Founded_year  \\\n",
       "0           University of Cambridge     East of England          1209   \n",
       "1              University of Oxford  South East England          1096   \n",
       "2          University of St Andrews            Scotland          1413   \n",
       "3           Imperial College London              London          1907   \n",
       "4           Loughborough University       East Midlands          1966   \n",
       "..                              ...                 ...           ...   \n",
       "126       University of East London              London          1992   \n",
       "127      University of Bedfordshire     East of England          2006   \n",
       "128           University of Suffolk     East of England          2007   \n",
       "129      Wrexham Glyndwr University               Wales          2008   \n",
       "130  Ravensbourne University London              London          1962   \n",
       "\n",
       "                                                 Motto  UK_rank  World_rank  \\\n",
       "0                 From here, light and sacred draughts        1           4   \n",
       "1                                 The Lord is my light        2           2   \n",
       "2                                        Ever to excel        3          86   \n",
       "3    Knowledge is the adornment and safeguard of th...        4           8   \n",
       "4                     With Truth, Knowledge and Labour        5         404   \n",
       "..                                                 ...      ...         ...   \n",
       "126                    Science and fulfillment of vows      127         971   \n",
       "127                                                NaN      128        1281   \n",
       "128                              Honesty and diligence      129        4030   \n",
       "129                       Confidence through Education      130        2397   \n",
       "130                              Designed for industry      131        2759   \n",
       "\n",
       "     CWUR_score  Minimum_IELTS_score  UG_average_fees_(in_pounds)  \\\n",
       "0          94.1                  6.5                        21750   \n",
       "1          93.3                  6.5                        21770   \n",
       "2          75.8                  6.5                        17040   \n",
       "3          86.6                  6.5                        23500   \n",
       "4          72.8                  5.5                        16400   \n",
       "..          ...                  ...                          ...   \n",
       "126         NaN                  4.5                        10700   \n",
       "127         NaN                  4.5                         9750   \n",
       "128         NaN                  4.5                         9495   \n",
       "129         NaN                  4.5                        10250   \n",
       "130         NaN                  5.5                         9250   \n",
       "\n",
       "     PG_average_fees_(in_pounds)  ... Student_satisfaction Student_enrollment  \\\n",
       "0                          23187  ...               85.50%      20,000-24,999   \n",
       "1                          19888  ...               86.50%      25,000-29,999   \n",
       "2                          15440  ...               87.90%      10,000-14,999   \n",
       "3                          29900  ...               77.90%      15,000-19,999   \n",
       "4                          16400  ...               85.80%      15,000-19,999   \n",
       "..                           ...  ...                  ...                ...   \n",
       "126                        11700  ...               76.10%      10,000-14,999   \n",
       "127                         9900  ...               77.40%      10,000-14,999   \n",
       "128                         9495  ...               76.00%        7,000-7,999   \n",
       "129                        10500  ...               74.30%        5,000-5,999   \n",
       "130                         9250  ...               66.10%        2,000-2,999   \n",
       "\n",
       "    Academic_staff Control_type Academic_Calender Campus_setting  \\\n",
       "0       over-5,000       Public        Trimesters          Urban   \n",
       "1       over-5,000       Public        Trimesters          Urban   \n",
       "2      1,000-1,499       Public         Semesters       Suburban   \n",
       "3      4,000-4,499       Public        Continuous          Urban   \n",
       "4      1,500-1,999       Public         Semesters       Suburban   \n",
       "..             ...          ...               ...            ...   \n",
       "126        900-999       Public         Semesters       Suburban   \n",
       "127        500-599       Public         Semesters          Urban   \n",
       "128        200-299       Public               NaN            NaN   \n",
       "129        200-299       Public               NaN          Urban   \n",
       "130        100-199       Public         Semesters          Urban   \n",
       "\n",
       "    Estimated_cost_of_living_per_year_(in_pounds)  Latitude  Longitude  \\\n",
       "0                                           12000   52.2054     0.1132   \n",
       "1                                           11500   51.7548    -1.2544   \n",
       "2                                           12000   56.3417    -2.7943   \n",
       "3                                           10700   51.4988    -0.1749   \n",
       "4                                            9398   52.7650    -1.2321   \n",
       "..                                            ...       ...        ...   \n",
       "126                                         10229   51.5076     0.0651   \n",
       "127                                          9415   51.8779    -0.4093   \n",
       "128                                          9415   52.0523     1.1629   \n",
       "129                                          7771   53.0526    -3.0062   \n",
       "130                                         10229   51.5017     0.0055   \n",
       "\n",
       "                    Website  \n",
       "0             www.cam.ac.uk  \n",
       "1              www.ox.ac.uk  \n",
       "2      www.st-andrews.ac.uk  \n",
       "3              www.ic.ac.uk  \n",
       "4          www.lboro.ac.uk/  \n",
       "..                      ...  \n",
       "126           www.uel.ac.uk  \n",
       "127          www.beds.ac.uk  \n",
       "128          www.ucs.ac.uk/  \n",
       "129      www.glyndwr.ac.uk/  \n",
       "130  www.ravensbourne.ac.uk  \n",
       "\n",
       "[131 rows x 21 columns]"
      ]
     },
     "execution_count": 57,
     "metadata": {},
     "output_type": "execute_result"
    }
   ],
   "source": [
    "#Ejecicio 1: encuentra el data set \n",
    "\n",
    "unis = pd.read_csv(\"./Estadística/uk_universities.csv\")\n",
    "unis\n",
    "\n",
    "# Ejercicio 2:\n",
    "# Extraer los siguentes estadísiticos del conjunto de datos para varias de las variables disponibles:\n"
   ]
  },
  {
   "cell_type": "code",
   "execution_count": 58,
   "metadata": {},
   "outputs": [
    {
     "name": "stdout",
     "output_type": "stream",
     "text": [
      "<class 'pandas.core.frame.DataFrame'>\n",
      "RangeIndex: 131 entries, 0 to 130\n",
      "Data columns (total 21 columns):\n",
      " #   Column                                         Non-Null Count  Dtype  \n",
      "---  ------                                         --------------  -----  \n",
      " 0   University_name                                131 non-null    object \n",
      " 1   Region                                         131 non-null    object \n",
      " 2   Founded_year                                   131 non-null    int64  \n",
      " 3   Motto                                          114 non-null    object \n",
      " 4   UK_rank                                        131 non-null    int64  \n",
      " 5   World_rank                                     131 non-null    int64  \n",
      " 6   CWUR_score                                     84 non-null     float64\n",
      " 7   Minimum_IELTS_score                            131 non-null    float64\n",
      " 8   UG_average_fees_(in_pounds)                    131 non-null    int64  \n",
      " 9   PG_average_fees_(in_pounds)                    131 non-null    int64  \n",
      " 10  International_students                         131 non-null    object \n",
      " 11  Student_satisfaction                           131 non-null    object \n",
      " 12  Student_enrollment                             131 non-null    object \n",
      " 13  Academic_staff                                 131 non-null    object \n",
      " 14  Control_type                                   131 non-null    object \n",
      " 15  Academic_Calender                              105 non-null    object \n",
      " 16  Campus_setting                                 113 non-null    object \n",
      " 17  Estimated_cost_of_living_per_year_(in_pounds)  131 non-null    int64  \n",
      " 18  Latitude                                       131 non-null    float64\n",
      " 19  Longitude                                      131 non-null    float64\n",
      " 20  Website                                        131 non-null    object \n",
      "dtypes: float64(4), int64(6), object(11)\n",
      "memory usage: 21.6+ KB\n"
     ]
    }
   ],
   "source": [
    "unis.info()"
   ]
  },
  {
   "cell_type": "code",
   "execution_count": 59,
   "metadata": {},
   "outputs": [
    {
     "data": {
      "text/plain": [
       "(131, 21)"
      ]
     },
     "execution_count": 59,
     "metadata": {},
     "output_type": "execute_result"
    }
   ],
   "source": [
    "unis.shape"
   ]
  },
  {
   "cell_type": "code",
   "execution_count": 60,
   "metadata": {},
   "outputs": [
    {
     "data": {
      "text/plain": [
       "array([21750, 21770, 17040, 23500, 16400, 14900, 14940, 15660, 15820,\n",
       "       14300, 15500, 13500, 13860, 15200, 14500,  8500, 13200, 14660,\n",
       "       14140, 17890, 14200, 12950, 15850, 13000, 12680, 13850, 15600,\n",
       "       13800, 13300, 13020, 14000, 13280, 14250, 12500, 14450, 14350,\n",
       "       12163, 11870, 16880, 10500, 11275, 13650, 10766, 12800, 10650,\n",
       "       12890, 11150, 11500, 11250, 12495, 10800, 12000, 12400, 18630,\n",
       "       12710, 10250, 11750, 11450, 12250, 12300, 11000, 15950, 10000,\n",
       "       10700, 10850, 10750, 10380, 10900, 17160, 11120, 10467, 11300,\n",
       "        9250, 12100, 11200,  8350, 11795,  9500, 10100, 12660, 11400,\n",
       "        9750,  9495])"
      ]
     },
     "execution_count": 60,
     "metadata": {},
     "output_type": "execute_result"
    }
   ],
   "source": [
    "precio = unis[\"UG_average_fees_(in_pounds)\"]\n",
    "precio.unique()\n"
   ]
  },
  {
   "cell_type": "code",
   "execution_count": 61,
   "metadata": {},
   "outputs": [
    {
     "data": {
      "text/plain": [
       "196     2\n",
       "4       1\n",
       "2386    1\n",
       "2190    1\n",
       "1284    1\n",
       "       ..\n",
       "607     1\n",
       "164     1\n",
       "140     1\n",
       "403     1\n",
       "2759    1\n",
       "Name: World_rank, Length: 130, dtype: int64"
      ]
     },
     "execution_count": 61,
     "metadata": {},
     "output_type": "execute_result"
    }
   ],
   "source": [
    "unis[\"World_rank\"].value_counts()"
   ]
  },
  {
   "cell_type": "code",
   "execution_count": 62,
   "metadata": {},
   "outputs": [
    {
     "data": {
      "text/plain": [
       "array([   4,    2,   86,    8,  404,   23,   70,  130,   14,   80,  261,\n",
       "         93,  133,  119,   69,   76, 2840,   56,  129,  110,  143,  128,\n",
       "        149,  185,   24,   97,  172,  196,  157,   27,  422,  342,  314,\n",
       "        182,  200,  384,  403,  140,  164,  607,  167, 2030, 3420,  672,\n",
       "        466,  729,  659,  699,   98,  611,  877, 2319, 1184,  416, 1560,\n",
       "        153,  531,  469,  634, 2103, 1111,  760, 4300,  674,  803,  576,\n",
       "        654, 1273,  542, 2585, 2943,  301,  456,  804, 4608,  734,  691,\n",
       "       1579,  459, 2643, 2494, 1163,  747, 2386, 1040, 1341,  604, 4336,\n",
       "       1682, 1140, 2004, 2346,  782, 2073,  573, 1284, 2190, 1066,  578,\n",
       "        676, 1855, 4547, 3916, 1392,  817,  537, 1905, 1050, 1334,  680,\n",
       "       1821, 2727, 1129, 5253, 1198, 3200, 1578,  801,  730, 2333,  761,\n",
       "        657,  864, 2100, 1025,  971, 1281, 4030, 2397, 2759])"
      ]
     },
     "execution_count": 62,
     "metadata": {},
     "output_type": "execute_result"
    }
   ],
   "source": [
    "unis[\"World_rank\"].unique()\n",
    "\n",
    "\n",
    "\n"
   ]
  },
  {
   "cell_type": "code",
   "execution_count": 63,
   "metadata": {},
   "outputs": [
    {
     "data": {
      "text/html": [
       "<div>\n",
       "<style scoped>\n",
       "    .dataframe tbody tr th:only-of-type {\n",
       "        vertical-align: middle;\n",
       "    }\n",
       "\n",
       "    .dataframe tbody tr th {\n",
       "        vertical-align: top;\n",
       "    }\n",
       "\n",
       "    .dataframe thead th {\n",
       "        text-align: right;\n",
       "    }\n",
       "</style>\n",
       "<table border=\"1\" class=\"dataframe\">\n",
       "  <thead>\n",
       "    <tr style=\"text-align: right;\">\n",
       "      <th></th>\n",
       "      <th>Founded_year</th>\n",
       "      <th>UK_rank</th>\n",
       "      <th>World_rank</th>\n",
       "      <th>CWUR_score</th>\n",
       "      <th>Minimum_IELTS_score</th>\n",
       "      <th>UG_average_fees_(in_pounds)</th>\n",
       "      <th>PG_average_fees_(in_pounds)</th>\n",
       "      <th>Estimated_cost_of_living_per_year_(in_pounds)</th>\n",
       "      <th>Latitude</th>\n",
       "      <th>Longitude</th>\n",
       "    </tr>\n",
       "  </thead>\n",
       "  <tbody>\n",
       "    <tr>\n",
       "      <th>count</th>\n",
       "      <td>131.000000</td>\n",
       "      <td>131.000000</td>\n",
       "      <td>131.00000</td>\n",
       "      <td>84.000000</td>\n",
       "      <td>131.000000</td>\n",
       "      <td>131.000000</td>\n",
       "      <td>131.000000</td>\n",
       "      <td>131.000000</td>\n",
       "      <td>131.000000</td>\n",
       "      <td>131.000000</td>\n",
       "    </tr>\n",
       "    <tr>\n",
       "      <th>mean</th>\n",
       "      <td>1925.221374</td>\n",
       "      <td>65.900763</td>\n",
       "      <td>1097.59542</td>\n",
       "      <td>73.960714</td>\n",
       "      <td>4.946565</td>\n",
       "      <td>12537.450382</td>\n",
       "      <td>13099.763359</td>\n",
       "      <td>8644.732824</td>\n",
       "      <td>52.749708</td>\n",
       "      <td>-1.673287</td>\n",
       "    </tr>\n",
       "    <tr>\n",
       "      <th>std</th>\n",
       "      <td>139.040187</td>\n",
       "      <td>37.922158</td>\n",
       "      <td>1145.00106</td>\n",
       "      <td>6.351473</td>\n",
       "      <td>0.617850</td>\n",
       "      <td>2555.318861</td>\n",
       "      <td>3106.398149</td>\n",
       "      <td>1579.049538</td>\n",
       "      <td>1.638257</td>\n",
       "      <td>1.503049</td>\n",
       "    </tr>\n",
       "    <tr>\n",
       "      <th>min</th>\n",
       "      <td>1096.000000</td>\n",
       "      <td>1.000000</td>\n",
       "      <td>2.00000</td>\n",
       "      <td>65.900000</td>\n",
       "      <td>4.000000</td>\n",
       "      <td>8350.000000</td>\n",
       "      <td>6000.000000</td>\n",
       "      <td>5500.000000</td>\n",
       "      <td>50.171300</td>\n",
       "      <td>-6.675200</td>\n",
       "    </tr>\n",
       "    <tr>\n",
       "      <th>25%</th>\n",
       "      <td>1896.000000</td>\n",
       "      <td>33.500000</td>\n",
       "      <td>196.00000</td>\n",
       "      <td>68.675000</td>\n",
       "      <td>4.500000</td>\n",
       "      <td>10758.000000</td>\n",
       "      <td>11250.000000</td>\n",
       "      <td>7710.500000</td>\n",
       "      <td>51.499700</td>\n",
       "      <td>-2.748000</td>\n",
       "    </tr>\n",
       "    <tr>\n",
       "      <th>50%</th>\n",
       "      <td>1966.000000</td>\n",
       "      <td>65.000000</td>\n",
       "      <td>691.00000</td>\n",
       "      <td>72.600000</td>\n",
       "      <td>4.500000</td>\n",
       "      <td>12000.000000</td>\n",
       "      <td>12500.000000</td>\n",
       "      <td>8217.000000</td>\n",
       "      <td>52.407400</td>\n",
       "      <td>-1.551600</td>\n",
       "    </tr>\n",
       "    <tr>\n",
       "      <th>75%</th>\n",
       "      <td>1992.000000</td>\n",
       "      <td>98.000000</td>\n",
       "      <td>1569.00000</td>\n",
       "      <td>77.700000</td>\n",
       "      <td>5.500000</td>\n",
       "      <td>13825.000000</td>\n",
       "      <td>14182.500000</td>\n",
       "      <td>9457.500000</td>\n",
       "      <td>53.608500</td>\n",
       "      <td>-0.388150</td>\n",
       "    </tr>\n",
       "    <tr>\n",
       "      <th>max</th>\n",
       "      <td>2013.000000</td>\n",
       "      <td>131.000000</td>\n",
       "      <td>5253.00000</td>\n",
       "      <td>94.100000</td>\n",
       "      <td>6.500000</td>\n",
       "      <td>23500.000000</td>\n",
       "      <td>29900.000000</td>\n",
       "      <td>15000.000000</td>\n",
       "      <td>57.164800</td>\n",
       "      <td>1.296700</td>\n",
       "    </tr>\n",
       "  </tbody>\n",
       "</table>\n",
       "</div>"
      ],
      "text/plain": [
       "       Founded_year     UK_rank  World_rank  CWUR_score  Minimum_IELTS_score  \\\n",
       "count    131.000000  131.000000   131.00000   84.000000           131.000000   \n",
       "mean    1925.221374   65.900763  1097.59542   73.960714             4.946565   \n",
       "std      139.040187   37.922158  1145.00106    6.351473             0.617850   \n",
       "min     1096.000000    1.000000     2.00000   65.900000             4.000000   \n",
       "25%     1896.000000   33.500000   196.00000   68.675000             4.500000   \n",
       "50%     1966.000000   65.000000   691.00000   72.600000             4.500000   \n",
       "75%     1992.000000   98.000000  1569.00000   77.700000             5.500000   \n",
       "max     2013.000000  131.000000  5253.00000   94.100000             6.500000   \n",
       "\n",
       "       UG_average_fees_(in_pounds)  PG_average_fees_(in_pounds)  \\\n",
       "count                   131.000000                   131.000000   \n",
       "mean                  12537.450382                 13099.763359   \n",
       "std                    2555.318861                  3106.398149   \n",
       "min                    8350.000000                  6000.000000   \n",
       "25%                   10758.000000                 11250.000000   \n",
       "50%                   12000.000000                 12500.000000   \n",
       "75%                   13825.000000                 14182.500000   \n",
       "max                   23500.000000                 29900.000000   \n",
       "\n",
       "       Estimated_cost_of_living_per_year_(in_pounds)    Latitude   Longitude  \n",
       "count                                     131.000000  131.000000  131.000000  \n",
       "mean                                     8644.732824   52.749708   -1.673287  \n",
       "std                                      1579.049538    1.638257    1.503049  \n",
       "min                                      5500.000000   50.171300   -6.675200  \n",
       "25%                                      7710.500000   51.499700   -2.748000  \n",
       "50%                                      8217.000000   52.407400   -1.551600  \n",
       "75%                                      9457.500000   53.608500   -0.388150  \n",
       "max                                     15000.000000   57.164800    1.296700  "
      ]
     },
     "execution_count": 63,
     "metadata": {},
     "output_type": "execute_result"
    }
   ],
   "source": [
    "unis.describe()"
   ]
  },
  {
   "cell_type": "code",
   "execution_count": 64,
   "metadata": {},
   "outputs": [],
   "source": [
    "# Media:\n",
    "\n",
    "\n",
    "rank_media = np.mean(unis[\"World_rank\"])\n",
    "precio_media = np.mean(precio)\n"
   ]
  },
  {
   "cell_type": "code",
   "execution_count": 65,
   "metadata": {},
   "outputs": [],
   "source": [
    "# Desviación con respecto a la media\n",
    "\n",
    "datos = unis[\"World_rank\"]\n",
    "rank_desv_media = np.abs(datos-rank_media)\n"
   ]
  },
  {
   "cell_type": "code",
   "execution_count": 66,
   "metadata": {},
   "outputs": [],
   "source": [
    "precio_desv_media = np.abs(precio-precio_media)"
   ]
  },
  {
   "cell_type": "code",
   "execution_count": 67,
   "metadata": {},
   "outputs": [
    {
     "data": {
      "text/plain": [
       "6479809.789522755"
      ]
     },
     "execution_count": 67,
     "metadata": {},
     "output_type": "execute_result"
    }
   ],
   "source": [
    "# Varianza\n",
    "\n",
    "rank_var = np.var(datos)\n",
    "precio_var = np.var(precio)\n",
    "precio_var"
   ]
  },
  {
   "cell_type": "code",
   "execution_count": 68,
   "metadata": {},
   "outputs": [],
   "source": [
    "# Desviación tipica\n",
    "rank_desv_tipica = np.std(datos)\n",
    "precio_desv_tipica = np.std(precio)"
   ]
  },
  {
   "cell_type": "code",
   "execution_count": 69,
   "metadata": {},
   "outputs": [],
   "source": [
    "# Moda\n",
    "\n",
    "rank_moda = stats.mode(datos)\n",
    "precio_moda = stats.mode(precio)\n"
   ]
  },
  {
   "cell_type": "code",
   "execution_count": 70,
   "metadata": {},
   "outputs": [],
   "source": [
    "# Mediana\n",
    "rank_mediana = np.median(datos)\n",
    "precio_mediana = np.median(precio)"
   ]
  },
  {
   "cell_type": "code",
   "execution_count": 71,
   "metadata": {},
   "outputs": [],
   "source": [
    "# Media ponderada\n",
    "\n",
    "# En este caso le damos el mismo peso a todos los valores. No son datos dónde tenga sentido aplicar una media ponderada.\n",
    "# Necesitamos un peso para cada elemento que componga la media ponderada (5 en este caso)\n",
    "# Calculamos la media ponderada usando el método average() de Numpy\n",
    "\n",
    "w = np.ones(131, dtype=np.complex64)\n",
    "\n",
    "\n",
    "rank_media_ponderada = np.average(datos, weights = w)\n",
    "precio_media_ponderada = np.average(precio, weights = w)\n"
   ]
  },
  {
   "cell_type": "code",
   "execution_count": 72,
   "metadata": {},
   "outputs": [],
   "source": [
    "# Coeficiente de variación\n",
    "\n",
    "rank_coef_var = np.std(datos) / np.abs(np.mean(datos)) # coeficiente de variación\n",
    "\n",
    "precio_coef_var = np.std(precio) / np.abs(np.mean(precio))"
   ]
  },
  {
   "cell_type": "markdown",
   "metadata": {},
   "source": [
    "VARIABLE RANK_WORLD\n",
    "\n",
    "En Uk tenemos la segunda mejor universidad del mundo, y también algunas que están en el puesto 4000 en adelante. \n",
    "De media, las universidades de UK están en el puesto 1097 aunque cuentan con 4 de entre las 15 mejores del mundo. \n",
    "\n",
    "A priori creímos que la moda no tendría sentido de estudio, pero hemos comprobado que tenemos dos universidades empatadas en un puesto de lista. Hay dos universidades en el ranking 196.\n",
    "\n",
    "No le vemos el sentido, a priori, de obtener la media ponderada de estos datos en concreto. \n",
    "\n"
   ]
  },
  {
   "cell_type": "markdown",
   "metadata": {},
   "source": [
    "VARIABLE PRECIO UNIVERSIDAD\n",
    "\n",
    "Los precios de las universidades de UK varían entre 8350 y 23500 pounds.\n",
    "La media se establece cerca de 12540, y la mediana en 12000 por lo que deducimos unos datos muy equilibrados ¿¿¿¿????\n",
    "\n",
    "Cerca de la mitad de la tabla, un poco por denajo se encuentra la moda, con 7 universidades cuyo precio es de 10500 pounds.\n",
    "\n",
    "Cómo en el otro conjuto, no le vemos sentido a realizar la media ponderada de los datos de precio.\n"
   ]
  },
  {
   "cell_type": "code",
   "execution_count": 81,
   "metadata": {},
   "outputs": [
    {
     "data": {
      "text/plain": [
       "8350"
      ]
     },
     "execution_count": 81,
     "metadata": {},
     "output_type": "execute_result"
    }
   ],
   "source": [
    "precio.min()"
   ]
  },
  {
   "cell_type": "code",
   "execution_count": 82,
   "metadata": {},
   "outputs": [
    {
     "data": {
      "text/plain": [
       "23500"
      ]
     },
     "execution_count": 82,
     "metadata": {},
     "output_type": "execute_result"
    }
   ],
   "source": [
    "precio.max()"
   ]
  },
  {
   "cell_type": "code",
   "execution_count": 73,
   "metadata": {},
   "outputs": [
    {
     "data": {
      "text/plain": [
       "0.20303546364186892"
      ]
     },
     "execution_count": 73,
     "metadata": {},
     "output_type": "execute_result"
    }
   ],
   "source": [
    "precio_coef_var"
   ]
  },
  {
   "cell_type": "code",
   "execution_count": 74,
   "metadata": {},
   "outputs": [
    {
     "data": {
      "text/plain": [
       "0       9212.549618\n",
       "1       9232.549618\n",
       "2       4502.549618\n",
       "3      10962.549618\n",
       "4       3862.549618\n",
       "           ...     \n",
       "126     1837.450382\n",
       "127     2787.450382\n",
       "128     3042.450382\n",
       "129     2287.450382\n",
       "130     3287.450382\n",
       "Name: UG_average_fees_(in_pounds), Length: 131, dtype: float64"
      ]
     },
     "execution_count": 74,
     "metadata": {},
     "output_type": "execute_result"
    }
   ],
   "source": [
    "precio_desv_media"
   ]
  },
  {
   "cell_type": "code",
   "execution_count": 75,
   "metadata": {},
   "outputs": [
    {
     "data": {
      "text/plain": [
       "2545.5470511312014"
      ]
     },
     "execution_count": 75,
     "metadata": {},
     "output_type": "execute_result"
    }
   ],
   "source": [
    "precio_desv_tipica"
   ]
  },
  {
   "cell_type": "code",
   "execution_count": 76,
   "metadata": {},
   "outputs": [
    {
     "data": {
      "text/plain": [
       "12537.45038167939"
      ]
     },
     "execution_count": 76,
     "metadata": {},
     "output_type": "execute_result"
    }
   ],
   "source": [
    "precio_media"
   ]
  },
  {
   "cell_type": "code",
   "execution_count": 77,
   "metadata": {},
   "outputs": [
    {
     "data": {
      "text/plain": [
       "(12537.45038167939+0j)"
      ]
     },
     "execution_count": 77,
     "metadata": {},
     "output_type": "execute_result"
    }
   ],
   "source": [
    "precio_media_ponderada"
   ]
  },
  {
   "cell_type": "code",
   "execution_count": 78,
   "metadata": {},
   "outputs": [
    {
     "data": {
      "text/plain": [
       "12000.0"
      ]
     },
     "execution_count": 78,
     "metadata": {},
     "output_type": "execute_result"
    }
   ],
   "source": [
    "precio_mediana"
   ]
  },
  {
   "cell_type": "code",
   "execution_count": 79,
   "metadata": {},
   "outputs": [
    {
     "data": {
      "text/plain": [
       "ModeResult(mode=array([10500]), count=array([7]))"
      ]
     },
     "execution_count": 79,
     "metadata": {},
     "output_type": "execute_result"
    }
   ],
   "source": [
    "precio_moda"
   ]
  },
  {
   "cell_type": "code",
   "execution_count": 80,
   "metadata": {},
   "outputs": [
    {
     "data": {
      "text/plain": [
       "6479809.789522755"
      ]
     },
     "execution_count": 80,
     "metadata": {},
     "output_type": "execute_result"
    }
   ],
   "source": [
    "precio_var"
   ]
  }
 ],
 "metadata": {
  "kernelspec": {
   "display_name": "Python 3.10.5 64-bit",
   "language": "python",
   "name": "python3"
  },
  "language_info": {
   "codemirror_mode": {
    "name": "ipython",
    "version": 3
   },
   "file_extension": ".py",
   "mimetype": "text/x-python",
   "name": "python",
   "nbconvert_exporter": "python",
   "pygments_lexer": "ipython3",
   "version": "3.10.5"
  },
  "orig_nbformat": 4,
  "vscode": {
   "interpreter": {
    "hash": "aee8b7b246df8f9039afb4144a1f6fd8d2ca17a180786b69acc140d282b71a49"
   }
  }
 },
 "nbformat": 4,
 "nbformat_minor": 2
}
