{
 "cells": [
  {
   "cell_type": "code",
   "execution_count": 4,
   "metadata": {},
   "outputs": [],
   "source": [
    "import numpy as np\n",
    "from scipy import stats\n",
    "import pandas as pd\n",
    "import matplotlib.pyplot as plt"
   ]
  },
  {
   "cell_type": "code",
   "execution_count": 5,
   "metadata": {},
   "outputs": [
    {
     "data": {
      "text/html": [
       "<div>\n",
       "<style scoped>\n",
       "    .dataframe tbody tr th:only-of-type {\n",
       "        vertical-align: middle;\n",
       "    }\n",
       "\n",
       "    .dataframe tbody tr th {\n",
       "        vertical-align: top;\n",
       "    }\n",
       "\n",
       "    .dataframe thead th {\n",
       "        text-align: right;\n",
       "    }\n",
       "</style>\n",
       "<table border=\"1\" class=\"dataframe\">\n",
       "  <thead>\n",
       "    <tr style=\"text-align: right;\">\n",
       "      <th></th>\n",
       "      <th>University_name</th>\n",
       "      <th>Region</th>\n",
       "      <th>Founded_year</th>\n",
       "      <th>Motto</th>\n",
       "      <th>UK_rank</th>\n",
       "      <th>World_rank</th>\n",
       "      <th>CWUR_score</th>\n",
       "      <th>Minimum_IELTS_score</th>\n",
       "      <th>UG_average_fees_(in_pounds)</th>\n",
       "      <th>PG_average_fees_(in_pounds)</th>\n",
       "      <th>...</th>\n",
       "      <th>Student_satisfaction</th>\n",
       "      <th>Student_enrollment</th>\n",
       "      <th>Academic_staff</th>\n",
       "      <th>Control_type</th>\n",
       "      <th>Academic_Calender</th>\n",
       "      <th>Campus_setting</th>\n",
       "      <th>Estimated_cost_of_living_per_year_(in_pounds)</th>\n",
       "      <th>Latitude</th>\n",
       "      <th>Longitude</th>\n",
       "      <th>Website</th>\n",
       "    </tr>\n",
       "  </thead>\n",
       "  <tbody>\n",
       "    <tr>\n",
       "      <th>0</th>\n",
       "      <td>University of Cambridge</td>\n",
       "      <td>East of England</td>\n",
       "      <td>1209</td>\n",
       "      <td>From here, light and sacred draughts</td>\n",
       "      <td>1</td>\n",
       "      <td>4</td>\n",
       "      <td>94.1</td>\n",
       "      <td>6.5</td>\n",
       "      <td>21750</td>\n",
       "      <td>23187</td>\n",
       "      <td>...</td>\n",
       "      <td>85.50%</td>\n",
       "      <td>20,000-24,999</td>\n",
       "      <td>over-5,000</td>\n",
       "      <td>Public</td>\n",
       "      <td>Trimesters</td>\n",
       "      <td>Urban</td>\n",
       "      <td>12000</td>\n",
       "      <td>52.2054</td>\n",
       "      <td>0.1132</td>\n",
       "      <td>www.cam.ac.uk</td>\n",
       "    </tr>\n",
       "    <tr>\n",
       "      <th>1</th>\n",
       "      <td>University of Oxford</td>\n",
       "      <td>South East England</td>\n",
       "      <td>1096</td>\n",
       "      <td>The Lord is my light</td>\n",
       "      <td>2</td>\n",
       "      <td>2</td>\n",
       "      <td>93.3</td>\n",
       "      <td>6.5</td>\n",
       "      <td>21770</td>\n",
       "      <td>19888</td>\n",
       "      <td>...</td>\n",
       "      <td>86.50%</td>\n",
       "      <td>25,000-29,999</td>\n",
       "      <td>over-5,000</td>\n",
       "      <td>Public</td>\n",
       "      <td>Trimesters</td>\n",
       "      <td>Urban</td>\n",
       "      <td>11500</td>\n",
       "      <td>51.7548</td>\n",
       "      <td>-1.2544</td>\n",
       "      <td>www.ox.ac.uk</td>\n",
       "    </tr>\n",
       "    <tr>\n",
       "      <th>2</th>\n",
       "      <td>University of St Andrews</td>\n",
       "      <td>Scotland</td>\n",
       "      <td>1413</td>\n",
       "      <td>Ever to excel</td>\n",
       "      <td>3</td>\n",
       "      <td>86</td>\n",
       "      <td>75.8</td>\n",
       "      <td>6.5</td>\n",
       "      <td>17040</td>\n",
       "      <td>15440</td>\n",
       "      <td>...</td>\n",
       "      <td>87.90%</td>\n",
       "      <td>10,000-14,999</td>\n",
       "      <td>1,000-1,499</td>\n",
       "      <td>Public</td>\n",
       "      <td>Semesters</td>\n",
       "      <td>Suburban</td>\n",
       "      <td>12000</td>\n",
       "      <td>56.3417</td>\n",
       "      <td>-2.7943</td>\n",
       "      <td>www.st-andrews.ac.uk</td>\n",
       "    </tr>\n",
       "    <tr>\n",
       "      <th>3</th>\n",
       "      <td>Imperial College London</td>\n",
       "      <td>London</td>\n",
       "      <td>1907</td>\n",
       "      <td>Knowledge is the adornment and safeguard of th...</td>\n",
       "      <td>4</td>\n",
       "      <td>8</td>\n",
       "      <td>86.6</td>\n",
       "      <td>6.5</td>\n",
       "      <td>23500</td>\n",
       "      <td>29900</td>\n",
       "      <td>...</td>\n",
       "      <td>77.90%</td>\n",
       "      <td>15,000-19,999</td>\n",
       "      <td>4,000-4,499</td>\n",
       "      <td>Public</td>\n",
       "      <td>Continuous</td>\n",
       "      <td>Urban</td>\n",
       "      <td>10700</td>\n",
       "      <td>51.4988</td>\n",
       "      <td>-0.1749</td>\n",
       "      <td>www.ic.ac.uk</td>\n",
       "    </tr>\n",
       "    <tr>\n",
       "      <th>4</th>\n",
       "      <td>Loughborough University</td>\n",
       "      <td>East Midlands</td>\n",
       "      <td>1966</td>\n",
       "      <td>With Truth, Knowledge and Labour</td>\n",
       "      <td>5</td>\n",
       "      <td>404</td>\n",
       "      <td>72.8</td>\n",
       "      <td>5.5</td>\n",
       "      <td>16400</td>\n",
       "      <td>16400</td>\n",
       "      <td>...</td>\n",
       "      <td>85.80%</td>\n",
       "      <td>15,000-19,999</td>\n",
       "      <td>1,500-1,999</td>\n",
       "      <td>Public</td>\n",
       "      <td>Semesters</td>\n",
       "      <td>Suburban</td>\n",
       "      <td>9398</td>\n",
       "      <td>52.7650</td>\n",
       "      <td>-1.2321</td>\n",
       "      <td>www.lboro.ac.uk/</td>\n",
       "    </tr>\n",
       "  </tbody>\n",
       "</table>\n",
       "<p>5 rows × 21 columns</p>\n",
       "</div>"
      ],
      "text/plain": [
       "            University_name              Region  Founded_year  \\\n",
       "0   University of Cambridge     East of England          1209   \n",
       "1      University of Oxford  South East England          1096   \n",
       "2  University of St Andrews            Scotland          1413   \n",
       "3   Imperial College London              London          1907   \n",
       "4   Loughborough University       East Midlands          1966   \n",
       "\n",
       "                                               Motto  UK_rank  World_rank  \\\n",
       "0               From here, light and sacred draughts        1           4   \n",
       "1                               The Lord is my light        2           2   \n",
       "2                                      Ever to excel        3          86   \n",
       "3  Knowledge is the adornment and safeguard of th...        4           8   \n",
       "4                   With Truth, Knowledge and Labour        5         404   \n",
       "\n",
       "   CWUR_score  Minimum_IELTS_score  UG_average_fees_(in_pounds)  \\\n",
       "0        94.1                  6.5                        21750   \n",
       "1        93.3                  6.5                        21770   \n",
       "2        75.8                  6.5                        17040   \n",
       "3        86.6                  6.5                        23500   \n",
       "4        72.8                  5.5                        16400   \n",
       "\n",
       "   PG_average_fees_(in_pounds)  ... Student_satisfaction Student_enrollment  \\\n",
       "0                        23187  ...               85.50%      20,000-24,999   \n",
       "1                        19888  ...               86.50%      25,000-29,999   \n",
       "2                        15440  ...               87.90%      10,000-14,999   \n",
       "3                        29900  ...               77.90%      15,000-19,999   \n",
       "4                        16400  ...               85.80%      15,000-19,999   \n",
       "\n",
       "  Academic_staff Control_type Academic_Calender Campus_setting  \\\n",
       "0     over-5,000       Public        Trimesters          Urban   \n",
       "1     over-5,000       Public        Trimesters          Urban   \n",
       "2    1,000-1,499       Public         Semesters       Suburban   \n",
       "3    4,000-4,499       Public        Continuous          Urban   \n",
       "4    1,500-1,999       Public         Semesters       Suburban   \n",
       "\n",
       "  Estimated_cost_of_living_per_year_(in_pounds)  Latitude  Longitude  \\\n",
       "0                                         12000   52.2054     0.1132   \n",
       "1                                         11500   51.7548    -1.2544   \n",
       "2                                         12000   56.3417    -2.7943   \n",
       "3                                         10700   51.4988    -0.1749   \n",
       "4                                          9398   52.7650    -1.2321   \n",
       "\n",
       "                Website  \n",
       "0         www.cam.ac.uk  \n",
       "1          www.ox.ac.uk  \n",
       "2  www.st-andrews.ac.uk  \n",
       "3          www.ic.ac.uk  \n",
       "4      www.lboro.ac.uk/  \n",
       "\n",
       "[5 rows x 21 columns]"
      ]
     },
     "execution_count": 5,
     "metadata": {},
     "output_type": "execute_result"
    }
   ],
   "source": [
    "unis = pd.read_csv(\"./Estadística/uk_universities.csv\")\n",
    "unis.head()"
   ]
  },
  {
   "cell_type": "code",
   "execution_count": 6,
   "metadata": {},
   "outputs": [],
   "source": [
    "# Ejercicio 1. Extraer los siguentes estadísiticos del conjunto de datos para varias de las varibles disponibles:\n",
    "# Utilizando métodos de pandas: media, mediana, moda, máximo y mínimo\n",
    "# Percentiles 25 y 75\n",
    "\n",
    "# Vamos a trabajar con dos variables/columnas, World_rank y UG_average_fees_(in_pounds)"
   ]
  },
  {
   "cell_type": "code",
   "execution_count": 7,
   "metadata": {},
   "outputs": [
    {
     "data": {
      "text/html": [
       "<div>\n",
       "<style scoped>\n",
       "    .dataframe tbody tr th:only-of-type {\n",
       "        vertical-align: middle;\n",
       "    }\n",
       "\n",
       "    .dataframe tbody tr th {\n",
       "        vertical-align: top;\n",
       "    }\n",
       "\n",
       "    .dataframe thead th {\n",
       "        text-align: right;\n",
       "    }\n",
       "</style>\n",
       "<table border=\"1\" class=\"dataframe\">\n",
       "  <thead>\n",
       "    <tr style=\"text-align: right;\">\n",
       "      <th></th>\n",
       "      <th>Founded_year</th>\n",
       "      <th>UK_rank</th>\n",
       "      <th>World_rank</th>\n",
       "      <th>CWUR_score</th>\n",
       "      <th>Minimum_IELTS_score</th>\n",
       "      <th>UG_average_fees_(in_pounds)</th>\n",
       "      <th>PG_average_fees_(in_pounds)</th>\n",
       "      <th>Estimated_cost_of_living_per_year_(in_pounds)</th>\n",
       "      <th>Latitude</th>\n",
       "      <th>Longitude</th>\n",
       "    </tr>\n",
       "  </thead>\n",
       "  <tbody>\n",
       "    <tr>\n",
       "      <th>count</th>\n",
       "      <td>131.000000</td>\n",
       "      <td>131.000000</td>\n",
       "      <td>131.00000</td>\n",
       "      <td>84.000000</td>\n",
       "      <td>131.000000</td>\n",
       "      <td>131.000000</td>\n",
       "      <td>131.000000</td>\n",
       "      <td>131.000000</td>\n",
       "      <td>131.000000</td>\n",
       "      <td>131.000000</td>\n",
       "    </tr>\n",
       "    <tr>\n",
       "      <th>mean</th>\n",
       "      <td>1925.221374</td>\n",
       "      <td>65.900763</td>\n",
       "      <td>1097.59542</td>\n",
       "      <td>73.960714</td>\n",
       "      <td>4.946565</td>\n",
       "      <td>12537.450382</td>\n",
       "      <td>13099.763359</td>\n",
       "      <td>8644.732824</td>\n",
       "      <td>52.749708</td>\n",
       "      <td>-1.673287</td>\n",
       "    </tr>\n",
       "    <tr>\n",
       "      <th>std</th>\n",
       "      <td>139.040187</td>\n",
       "      <td>37.922158</td>\n",
       "      <td>1145.00106</td>\n",
       "      <td>6.351473</td>\n",
       "      <td>0.617850</td>\n",
       "      <td>2555.318861</td>\n",
       "      <td>3106.398149</td>\n",
       "      <td>1579.049538</td>\n",
       "      <td>1.638257</td>\n",
       "      <td>1.503049</td>\n",
       "    </tr>\n",
       "    <tr>\n",
       "      <th>min</th>\n",
       "      <td>1096.000000</td>\n",
       "      <td>1.000000</td>\n",
       "      <td>2.00000</td>\n",
       "      <td>65.900000</td>\n",
       "      <td>4.000000</td>\n",
       "      <td>8350.000000</td>\n",
       "      <td>6000.000000</td>\n",
       "      <td>5500.000000</td>\n",
       "      <td>50.171300</td>\n",
       "      <td>-6.675200</td>\n",
       "    </tr>\n",
       "    <tr>\n",
       "      <th>25%</th>\n",
       "      <td>1896.000000</td>\n",
       "      <td>33.500000</td>\n",
       "      <td>196.00000</td>\n",
       "      <td>68.675000</td>\n",
       "      <td>4.500000</td>\n",
       "      <td>10758.000000</td>\n",
       "      <td>11250.000000</td>\n",
       "      <td>7710.500000</td>\n",
       "      <td>51.499700</td>\n",
       "      <td>-2.748000</td>\n",
       "    </tr>\n",
       "    <tr>\n",
       "      <th>50%</th>\n",
       "      <td>1966.000000</td>\n",
       "      <td>65.000000</td>\n",
       "      <td>691.00000</td>\n",
       "      <td>72.600000</td>\n",
       "      <td>4.500000</td>\n",
       "      <td>12000.000000</td>\n",
       "      <td>12500.000000</td>\n",
       "      <td>8217.000000</td>\n",
       "      <td>52.407400</td>\n",
       "      <td>-1.551600</td>\n",
       "    </tr>\n",
       "    <tr>\n",
       "      <th>75%</th>\n",
       "      <td>1992.000000</td>\n",
       "      <td>98.000000</td>\n",
       "      <td>1569.00000</td>\n",
       "      <td>77.700000</td>\n",
       "      <td>5.500000</td>\n",
       "      <td>13825.000000</td>\n",
       "      <td>14182.500000</td>\n",
       "      <td>9457.500000</td>\n",
       "      <td>53.608500</td>\n",
       "      <td>-0.388150</td>\n",
       "    </tr>\n",
       "    <tr>\n",
       "      <th>max</th>\n",
       "      <td>2013.000000</td>\n",
       "      <td>131.000000</td>\n",
       "      <td>5253.00000</td>\n",
       "      <td>94.100000</td>\n",
       "      <td>6.500000</td>\n",
       "      <td>23500.000000</td>\n",
       "      <td>29900.000000</td>\n",
       "      <td>15000.000000</td>\n",
       "      <td>57.164800</td>\n",
       "      <td>1.296700</td>\n",
       "    </tr>\n",
       "  </tbody>\n",
       "</table>\n",
       "</div>"
      ],
      "text/plain": [
       "       Founded_year     UK_rank  World_rank  CWUR_score  Minimum_IELTS_score  \\\n",
       "count    131.000000  131.000000   131.00000   84.000000           131.000000   \n",
       "mean    1925.221374   65.900763  1097.59542   73.960714             4.946565   \n",
       "std      139.040187   37.922158  1145.00106    6.351473             0.617850   \n",
       "min     1096.000000    1.000000     2.00000   65.900000             4.000000   \n",
       "25%     1896.000000   33.500000   196.00000   68.675000             4.500000   \n",
       "50%     1966.000000   65.000000   691.00000   72.600000             4.500000   \n",
       "75%     1992.000000   98.000000  1569.00000   77.700000             5.500000   \n",
       "max     2013.000000  131.000000  5253.00000   94.100000             6.500000   \n",
       "\n",
       "       UG_average_fees_(in_pounds)  PG_average_fees_(in_pounds)  \\\n",
       "count                   131.000000                   131.000000   \n",
       "mean                  12537.450382                 13099.763359   \n",
       "std                    2555.318861                  3106.398149   \n",
       "min                    8350.000000                  6000.000000   \n",
       "25%                   10758.000000                 11250.000000   \n",
       "50%                   12000.000000                 12500.000000   \n",
       "75%                   13825.000000                 14182.500000   \n",
       "max                   23500.000000                 29900.000000   \n",
       "\n",
       "       Estimated_cost_of_living_per_year_(in_pounds)    Latitude   Longitude  \n",
       "count                                     131.000000  131.000000  131.000000  \n",
       "mean                                     8644.732824   52.749708   -1.673287  \n",
       "std                                      1579.049538    1.638257    1.503049  \n",
       "min                                      5500.000000   50.171300   -6.675200  \n",
       "25%                                      7710.500000   51.499700   -2.748000  \n",
       "50%                                      8217.000000   52.407400   -1.551600  \n",
       "75%                                      9457.500000   53.608500   -0.388150  \n",
       "max                                     15000.000000   57.164800    1.296700  "
      ]
     },
     "execution_count": 7,
     "metadata": {},
     "output_type": "execute_result"
    }
   ],
   "source": [
    "unis.describe()"
   ]
  },
  {
   "cell_type": "code",
   "execution_count": 8,
   "metadata": {},
   "outputs": [],
   "source": [
    "ranking = unis[\"World_rank\"]\n",
    "precio = unis[\"UG_average_fees_(in_pounds)\"]"
   ]
  },
  {
   "cell_type": "code",
   "execution_count": 9,
   "metadata": {},
   "outputs": [
    {
     "name": "stdout",
     "output_type": "stream",
     "text": [
      "0    196\n",
      "dtype: int64\n",
      "0    10500\n",
      "dtype: int64\n"
     ]
    }
   ],
   "source": [
    "rank_moda = ranking.mode()\n",
    "precio_moda = precio.mode()\n",
    "print(rank_moda)\n",
    "print(precio_moda)"
   ]
  },
  {
   "cell_type": "code",
   "execution_count": 10,
   "metadata": {},
   "outputs": [
    {
     "data": {
      "text/plain": [
       "1373.0"
      ]
     },
     "execution_count": 10,
     "metadata": {},
     "output_type": "execute_result"
    }
   ],
   "source": [
    "# Rango intercualítico\n",
    "\n",
    "q3, q1 = np.percentile(ranking, [75, 25])\n",
    "rank_riq = q3 -q1\n",
    "rank_riq"
   ]
  },
  {
   "cell_type": "code",
   "execution_count": 11,
   "metadata": {},
   "outputs": [
    {
     "data": {
      "text/plain": [
       "3067.0"
      ]
     },
     "execution_count": 11,
     "metadata": {},
     "output_type": "execute_result"
    }
   ],
   "source": [
    "\n",
    "q3b, q1b = np.percentile(precio, [75, 25])\n",
    "precio_riq = q3b -q1b\n",
    "precio_riq"
   ]
  },
  {
   "cell_type": "code",
   "execution_count": 12,
   "metadata": {},
   "outputs": [],
   "source": [
    "# Boxplot de algunas variables"
   ]
  },
  {
   "cell_type": "code",
   "execution_count": 22,
   "metadata": {},
   "outputs": [
    {
     "data": {
      "image/png": "[encoded data removed]",
      "text/plain": [
       "<Figure size 648x432 with 1 Axes>"
      ]
     },
     "metadata": {
      "needs_background": "light"
     },
     "output_type": "display_data"
    }
   ],
   "source": [
    "datos_grafica = [ranking, precio]\n",
    "\n",
    "fig = plt.figure(1, figsize=(9, 6))\n",
    "ax = fig.add_subplot(1,1,1)\n",
    "bp = ax.boxplot(datos_grafica)"
   ]
  },
  {
   "cell_type": "code",
   "execution_count": 26,
   "metadata": {},
   "outputs": [
    {
     "data": {
      "image/png": "[encoded data removed]",
      "text/plain": [
       "<Figure size 1080x432 with 2 Axes>"
      ]
     },
     "metadata": {
      "needs_background": "light"
     },
     "output_type": "display_data"
    }
   ],
   "source": [
    "fig = plt.figure(1, figsize=(15, 6))\n",
    "\n",
    "ax1 = plt.subplot(1,2,1)\n",
    "ax2 = plt.subplot(1,2,2)\n",
    "\n",
    "ax1.boxplot(ranking)\n",
    "ax2.boxplot(precio)\n",
    "\n",
    "plt.show()"
   ]
  },
  {
   "cell_type": "code",
   "execution_count": 43,
   "metadata": {},
   "outputs": [],
   "source": [
    "# Tabla de frecuencias\n",
    "# Vamos a hacer un groupby de cualitativas\n",
    "\n",
    "unis[\"Campus_setting\"].unique()\n",
    "\n",
    "emplazamimento = unis.groupby(\"Campus_setting\")\n",
    "frecuencia_emplazamiento = emplazamimento.agg(frecuencia = (\"Campus_setting\",\"count\")).reset_index()"
   ]
  },
  {
   "cell_type": "code",
   "execution_count": 44,
   "metadata": {},
   "outputs": [
    {
     "data": {
      "text/html": [
       "<div>\n",
       "<style scoped>\n",
       "    .dataframe tbody tr th:only-of-type {\n",
       "        vertical-align: middle;\n",
       "    }\n",
       "\n",
       "    .dataframe tbody tr th {\n",
       "        vertical-align: top;\n",
       "    }\n",
       "\n",
       "    .dataframe thead th {\n",
       "        text-align: right;\n",
       "    }\n",
       "</style>\n",
       "<table border=\"1\" class=\"dataframe\">\n",
       "  <thead>\n",
       "    <tr style=\"text-align: right;\">\n",
       "      <th></th>\n",
       "      <th>Campus_setting</th>\n",
       "      <th>frecuencia</th>\n",
       "    </tr>\n",
       "  </thead>\n",
       "  <tbody>\n",
       "    <tr>\n",
       "      <th>0</th>\n",
       "      <td>Rural</td>\n",
       "      <td>8</td>\n",
       "    </tr>\n",
       "    <tr>\n",
       "      <th>1</th>\n",
       "      <td>Suburban</td>\n",
       "      <td>37</td>\n",
       "    </tr>\n",
       "    <tr>\n",
       "      <th>2</th>\n",
       "      <td>Urban</td>\n",
       "      <td>68</td>\n",
       "    </tr>\n",
       "  </tbody>\n",
       "</table>\n",
       "</div>"
      ],
      "text/plain": [
       "  Campus_setting  frecuencia\n",
       "0          Rural           8\n",
       "1       Suburban          37\n",
       "2          Urban          68"
      ]
     },
     "execution_count": 44,
     "metadata": {},
     "output_type": "execute_result"
    }
   ],
   "source": [
    "frecuencia_emplazamiento"
   ]
  },
  {
   "cell_type": "code",
   "execution_count": 16,
   "metadata": {},
   "outputs": [],
   "source": [
    "# Variables cuantitativas\n",
    "fundacion = unis.groupby(\"Founded_year\")\n",
    "frecuencia_fundacion = fundacion.agg(frecuencia = (\"Founded_year\",\"count\")).reset_index()"
   ]
  },
  {
   "cell_type": "code",
   "execution_count": 17,
   "metadata": {},
   "outputs": [
    {
     "data": {
      "text/html": [
       "<div>\n",
       "<style scoped>\n",
       "    .dataframe tbody tr th:only-of-type {\n",
       "        vertical-align: middle;\n",
       "    }\n",
       "\n",
       "    .dataframe tbody tr th {\n",
       "        vertical-align: top;\n",
       "    }\n",
       "\n",
       "    .dataframe thead th {\n",
       "        text-align: right;\n",
       "    }\n",
       "</style>\n",
       "<table border=\"1\" class=\"dataframe\">\n",
       "  <thead>\n",
       "    <tr style=\"text-align: right;\">\n",
       "      <th></th>\n",
       "      <th>Founded_year</th>\n",
       "      <th>frecuencia</th>\n",
       "    </tr>\n",
       "  </thead>\n",
       "  <tbody>\n",
       "    <tr>\n",
       "      <th>0</th>\n",
       "      <td>1096</td>\n",
       "      <td>1</td>\n",
       "    </tr>\n",
       "    <tr>\n",
       "      <th>1</th>\n",
       "      <td>1209</td>\n",
       "      <td>1</td>\n",
       "    </tr>\n",
       "    <tr>\n",
       "      <th>2</th>\n",
       "      <td>1413</td>\n",
       "      <td>1</td>\n",
       "    </tr>\n",
       "    <tr>\n",
       "      <th>3</th>\n",
       "      <td>1451</td>\n",
       "      <td>1</td>\n",
       "    </tr>\n",
       "    <tr>\n",
       "      <th>4</th>\n",
       "      <td>1495</td>\n",
       "      <td>1</td>\n",
       "    </tr>\n",
       "    <tr>\n",
       "      <th>...</th>\n",
       "      <td>...</td>\n",
       "      <td>...</td>\n",
       "    </tr>\n",
       "    <tr>\n",
       "      <th>65</th>\n",
       "      <td>2008</td>\n",
       "      <td>1</td>\n",
       "    </tr>\n",
       "    <tr>\n",
       "      <th>66</th>\n",
       "      <td>2010</td>\n",
       "      <td>1</td>\n",
       "    </tr>\n",
       "    <tr>\n",
       "      <th>67</th>\n",
       "      <td>2011</td>\n",
       "      <td>1</td>\n",
       "    </tr>\n",
       "    <tr>\n",
       "      <th>68</th>\n",
       "      <td>2012</td>\n",
       "      <td>3</td>\n",
       "    </tr>\n",
       "    <tr>\n",
       "      <th>69</th>\n",
       "      <td>2013</td>\n",
       "      <td>1</td>\n",
       "    </tr>\n",
       "  </tbody>\n",
       "</table>\n",
       "<p>70 rows × 2 columns</p>\n",
       "</div>"
      ],
      "text/plain": [
       "    Founded_year  frecuencia\n",
       "0           1096           1\n",
       "1           1209           1\n",
       "2           1413           1\n",
       "3           1451           1\n",
       "4           1495           1\n",
       "..           ...         ...\n",
       "65          2008           1\n",
       "66          2010           1\n",
       "67          2011           1\n",
       "68          2012           3\n",
       "69          2013           1\n",
       "\n",
       "[70 rows x 2 columns]"
      ]
     },
     "execution_count": 17,
     "metadata": {},
     "output_type": "execute_result"
    }
   ],
   "source": [
    "frecuencia_fundacion"
   ]
  },
  {
   "cell_type": "code",
   "execution_count": 18,
   "metadata": {},
   "outputs": [],
   "source": [
    "# frecuencia acumulada"
   ]
  },
  {
   "cell_type": "code",
   "execution_count": 32,
   "metadata": {},
   "outputs": [
    {
     "data": {
      "text/html": [
       "<div>\n",
       "<style scoped>\n",
       "    .dataframe tbody tr th:only-of-type {\n",
       "        vertical-align: middle;\n",
       "    }\n",
       "\n",
       "    .dataframe tbody tr th {\n",
       "        vertical-align: top;\n",
       "    }\n",
       "\n",
       "    .dataframe thead th {\n",
       "        text-align: right;\n",
       "    }\n",
       "</style>\n",
       "<table border=\"1\" class=\"dataframe\">\n",
       "  <thead>\n",
       "    <tr style=\"text-align: right;\">\n",
       "      <th></th>\n",
       "      <th>group</th>\n",
       "      <th>frecuencia</th>\n",
       "    </tr>\n",
       "  </thead>\n",
       "  <tbody>\n",
       "    <tr>\n",
       "      <th>0</th>\n",
       "      <td>(1095.083, 1187.7]</td>\n",
       "      <td>1</td>\n",
       "    </tr>\n",
       "    <tr>\n",
       "      <th>1</th>\n",
       "      <td>(1187.7, 1279.4]</td>\n",
       "      <td>1</td>\n",
       "    </tr>\n",
       "    <tr>\n",
       "      <th>2</th>\n",
       "      <td>(1279.4, 1371.1]</td>\n",
       "      <td>0</td>\n",
       "    </tr>\n",
       "    <tr>\n",
       "      <th>3</th>\n",
       "      <td>(1371.1, 1462.8]</td>\n",
       "      <td>2</td>\n",
       "    </tr>\n",
       "    <tr>\n",
       "      <th>4</th>\n",
       "      <td>(1462.8, 1554.5]</td>\n",
       "      <td>1</td>\n",
       "    </tr>\n",
       "    <tr>\n",
       "      <th>5</th>\n",
       "      <td>(1554.5, 1646.2]</td>\n",
       "      <td>1</td>\n",
       "    </tr>\n",
       "    <tr>\n",
       "      <th>6</th>\n",
       "      <td>(1646.2, 1737.9]</td>\n",
       "      <td>1</td>\n",
       "    </tr>\n",
       "    <tr>\n",
       "      <th>7</th>\n",
       "      <td>(1737.9, 1829.6]</td>\n",
       "      <td>3</td>\n",
       "    </tr>\n",
       "    <tr>\n",
       "      <th>8</th>\n",
       "      <td>(1829.6, 1921.3]</td>\n",
       "      <td>21</td>\n",
       "    </tr>\n",
       "    <tr>\n",
       "      <th>9</th>\n",
       "      <td>(1921.3, 2013.0]</td>\n",
       "      <td>39</td>\n",
       "    </tr>\n",
       "  </tbody>\n",
       "</table>\n",
       "</div>"
      ],
      "text/plain": [
       "                group  frecuencia\n",
       "0  (1095.083, 1187.7]           1\n",
       "1    (1187.7, 1279.4]           1\n",
       "2    (1279.4, 1371.1]           0\n",
       "3    (1371.1, 1462.8]           2\n",
       "4    (1462.8, 1554.5]           1\n",
       "5    (1554.5, 1646.2]           1\n",
       "6    (1646.2, 1737.9]           1\n",
       "7    (1737.9, 1829.6]           3\n",
       "8    (1829.6, 1921.3]          21\n",
       "9    (1921.3, 2013.0]          39"
      ]
     },
     "execution_count": 32,
     "metadata": {},
     "output_type": "execute_result"
    }
   ],
   "source": [
    "bins = 10 # intervalos de aproximadamente un siglo durante 10 siglos\n",
    "\n",
    "frecuencia_fundacion[\"group\"] = pd.cut(unis[\"Founded_year\"], bins=bins) \n",
    "\n",
    "a = frecuencia_fundacion.groupby(\"group\").agg(frecuencia=(\"Founded_year\", \"count\")).reset_index()\n",
    "a"
   ]
  },
  {
   "cell_type": "code",
   "execution_count": 33,
   "metadata": {},
   "outputs": [
    {
     "data": {
      "text/plain": [
       "0     1\n",
       "1     2\n",
       "2     2\n",
       "3     4\n",
       "4     5\n",
       "5     6\n",
       "6     7\n",
       "7    10\n",
       "8    31\n",
       "9    70\n",
       "Name: frecuencia, dtype: int64"
      ]
     },
     "execution_count": 33,
     "metadata": {},
     "output_type": "execute_result"
    }
   ],
   "source": [
    "frecuencia_acumulada = a[\"frecuencia\"].cumsum()\n",
    "frecuencia_acumulada"
   ]
  },
  {
   "cell_type": "code",
   "execution_count": null,
   "metadata": {},
   "outputs": [],
   "source": [
    "# Representación de, al menos, una tabla de"
   ]
  },
  {
   "cell_type": "code",
   "execution_count": 84,
   "metadata": {},
   "outputs": [
    {
     "data": {
      "text/plain": [
       "array(['Urban', 'Urban', 'Suburban', 'Urban', 'Suburban', 'Urban',\n",
       "       'Urban', 'Rural', 'Urban', 'Suburban', 'Suburban', 'Suburban',\n",
       "       'Urban', 'Urban', 'Urban', 'Urban', 'Rural', 'Urban', 'Suburban',\n",
       "       'Suburban', 'Suburban', 'Suburban', 'Suburban', 'Urban', 'Urban',\n",
       "       'Urban', 'Urban', 'Urban', 'Urban', 'Urban', 'Suburban',\n",
       "       'Suburban', 'Suburban', 'Urban', 'Urban', 'Urban', 'Suburban', nan,\n",
       "       nan, 'Urban', 'Suburban', nan, nan, 'Urban', 'Suburban', 'Rural',\n",
       "       'Suburban', 'Urban', 'Urban', 'Urban', 'Urban', nan, 'Suburban',\n",
       "       'Suburban', 'Rural', 'Urban', 'Urban', 'Suburban', 'Urban',\n",
       "       'Suburban', 'Urban', nan, 'Urban', 'Urban', 'Urban', 'Urban',\n",
       "       'Urban', 'Urban', 'Urban', nan, 'Suburban', nan, 'Urban', nan,\n",
       "       'Urban', nan, 'Suburban', 'Urban', 'Urban', nan, 'Urban',\n",
       "       'Suburban', 'Suburban', 'Suburban', 'Suburban', 'Urban', 'Urban',\n",
       "       'Suburban', 'Rural', 'Urban', 'Urban', 'Rural', 'Suburban',\n",
       "       'Urban', 'Suburban', 'Urban', 'Urban', 'Suburban', 'Urban',\n",
       "       'Suburban', 'Urban', 'Rural', 'Urban', nan, 'Urban', 'Urban', nan,\n",
       "       'Urban', 'Urban', 'Rural', 'Urban', 'Urban', 'Suburban', nan,\n",
       "       'Suburban', 'Suburban', 'Suburban', 'Urban', 'Urban', 'Urban', nan,\n",
       "       nan, 'Urban', nan, 'Urban', 'Urban', 'Suburban', 'Urban', nan,\n",
       "       'Urban', 'Urban'], dtype=object)"
      ]
     },
     "execution_count": 84,
     "metadata": {},
     "output_type": "execute_result"
    }
   ],
   "source": [
    "x = unis[\"Campus_setting\"].values\n",
    "x\n"
   ]
  },
  {
   "cell_type": "code",
   "execution_count": 116,
   "metadata": {},
   "outputs": [
    {
     "data": {
      "text/plain": [
       "str"
      ]
     },
     "execution_count": 116,
     "metadata": {},
     "output_type": "execute_result"
    }
   ],
   "source": [
    "type(datos[0])"
   ]
  },
  {
   "cell_type": "code",
   "execution_count": 114,
   "metadata": {},
   "outputs": [
    {
     "ename": "TypeError",
     "evalue": "'value' must be an instance of str or bytes, not a float",
     "output_type": "error",
     "traceback": [
      "\u001b[0;31m---------------------------------------------------------------------------\u001b[0m",
      "\u001b[0;31mTypeError\u001b[0m                                 Traceback (most recent call last)",
      "\u001b[0;32m/var/folders/4t/jwz4fg1j3ps9fv1187b_jzr40000gn/T/ipykernel_5771/2996672972.py\u001b[0m in \u001b[0;36m<module>\u001b[0;34m\u001b[0m\n\u001b[1;32m      1\u001b[0m \u001b[0mdatos\u001b[0m \u001b[0;34m=\u001b[0m \u001b[0mnp\u001b[0m\u001b[0;34m.\u001b[0m\u001b[0marray\u001b[0m\u001b[0;34m(\u001b[0m\u001b[0munis\u001b[0m\u001b[0;34m[\u001b[0m\u001b[0;34m\"Campus_setting\"\u001b[0m\u001b[0;34m]\u001b[0m\u001b[0;34m)\u001b[0m\u001b[0;34m\u001b[0m\u001b[0;34m\u001b[0m\u001b[0m\n\u001b[1;32m      2\u001b[0m \u001b[0mplt\u001b[0m\u001b[0;34m.\u001b[0m\u001b[0mfigure\u001b[0m\u001b[0;34m(\u001b[0m\u001b[0;34m)\u001b[0m\u001b[0;34m\u001b[0m\u001b[0;34m\u001b[0m\u001b[0m\n\u001b[0;32m----> 3\u001b[0;31m \u001b[0mplt\u001b[0m\u001b[0;34m.\u001b[0m\u001b[0mhist\u001b[0m\u001b[0;34m(\u001b[0m\u001b[0mdatos\u001b[0m\u001b[0;34m)\u001b[0m\u001b[0;34m\u001b[0m\u001b[0;34m\u001b[0m\u001b[0m\n\u001b[0m\u001b[1;32m      4\u001b[0m \u001b[0mplt\u001b[0m\u001b[0;34m.\u001b[0m\u001b[0mshow\u001b[0m\u001b[0;34m(\u001b[0m\u001b[0;34m)\u001b[0m\u001b[0;34m\u001b[0m\u001b[0;34m\u001b[0m\u001b[0m\n",
      "\u001b[0;32m~/opt/anaconda3/lib/python3.9/site-packages/matplotlib/pyplot.py\u001b[0m in \u001b[0;36mhist\u001b[0;34m(x, bins, range, density, weights, cumulative, bottom, histtype, align, orientation, rwidth, log, color, label, stacked, data, **kwargs)\u001b[0m\n\u001b[1;32m   2851\u001b[0m         \u001b[0morientation\u001b[0m\u001b[0;34m=\u001b[0m\u001b[0;34m'vertical'\u001b[0m\u001b[0;34m,\u001b[0m \u001b[0mrwidth\u001b[0m\u001b[0;34m=\u001b[0m\u001b[0;32mNone\u001b[0m\u001b[0;34m,\u001b[0m \u001b[0mlog\u001b[0m\u001b[0;34m=\u001b[0m\u001b[0;32mFalse\u001b[0m\u001b[0;34m,\u001b[0m \u001b[0mcolor\u001b[0m\u001b[0;34m=\u001b[0m\u001b[0;32mNone\u001b[0m\u001b[0;34m,\u001b[0m\u001b[0;34m\u001b[0m\u001b[0;34m\u001b[0m\u001b[0m\n\u001b[1;32m   2852\u001b[0m         label=None, stacked=False, *, data=None, **kwargs):\n\u001b[0;32m-> 2853\u001b[0;31m     return gca().hist(\n\u001b[0m\u001b[1;32m   2854\u001b[0m         \u001b[0mx\u001b[0m\u001b[0;34m,\u001b[0m \u001b[0mbins\u001b[0m\u001b[0;34m=\u001b[0m\u001b[0mbins\u001b[0m\u001b[0;34m,\u001b[0m \u001b[0mrange\u001b[0m\u001b[0;34m=\u001b[0m\u001b[0mrange\u001b[0m\u001b[0;34m,\u001b[0m \u001b[0mdensity\u001b[0m\u001b[0;34m=\u001b[0m\u001b[0mdensity\u001b[0m\u001b[0;34m,\u001b[0m \u001b[0mweights\u001b[0m\u001b[0;34m=\u001b[0m\u001b[0mweights\u001b[0m\u001b[0;34m,\u001b[0m\u001b[0;34m\u001b[0m\u001b[0;34m\u001b[0m\u001b[0m\n\u001b[1;32m   2855\u001b[0m         \u001b[0mcumulative\u001b[0m\u001b[0;34m=\u001b[0m\u001b[0mcumulative\u001b[0m\u001b[0;34m,\u001b[0m \u001b[0mbottom\u001b[0m\u001b[0;34m=\u001b[0m\u001b[0mbottom\u001b[0m\u001b[0;34m,\u001b[0m \u001b[0mhisttype\u001b[0m\u001b[0;34m=\u001b[0m\u001b[0mhisttype\u001b[0m\u001b[0;34m,\u001b[0m\u001b[0;34m\u001b[0m\u001b[0;34m\u001b[0m\u001b[0m\n",
      "\u001b[0;32m~/opt/anaconda3/lib/python3.9/site-packages/matplotlib/__init__.py\u001b[0m in \u001b[0;36minner\u001b[0;34m(ax, data, *args, **kwargs)\u001b[0m\n\u001b[1;32m   1359\u001b[0m     \u001b[0;32mdef\u001b[0m \u001b[0minner\u001b[0m\u001b[0;34m(\u001b[0m\u001b[0max\u001b[0m\u001b[0;34m,\u001b[0m \u001b[0;34m*\u001b[0m\u001b[0margs\u001b[0m\u001b[0;34m,\u001b[0m \u001b[0mdata\u001b[0m\u001b[0;34m=\u001b[0m\u001b[0;32mNone\u001b[0m\u001b[0;34m,\u001b[0m \u001b[0;34m**\u001b[0m\u001b[0mkwargs\u001b[0m\u001b[0;34m)\u001b[0m\u001b[0;34m:\u001b[0m\u001b[0;34m\u001b[0m\u001b[0;34m\u001b[0m\u001b[0m\n\u001b[1;32m   1360\u001b[0m         \u001b[0;32mif\u001b[0m \u001b[0mdata\u001b[0m \u001b[0;32mis\u001b[0m \u001b[0;32mNone\u001b[0m\u001b[0;34m:\u001b[0m\u001b[0;34m\u001b[0m\u001b[0;34m\u001b[0m\u001b[0m\n\u001b[0;32m-> 1361\u001b[0;31m             \u001b[0;32mreturn\u001b[0m \u001b[0mfunc\u001b[0m\u001b[0;34m(\u001b[0m\u001b[0max\u001b[0m\u001b[0;34m,\u001b[0m \u001b[0;34m*\u001b[0m\u001b[0mmap\u001b[0m\u001b[0;34m(\u001b[0m\u001b[0msanitize_sequence\u001b[0m\u001b[0;34m,\u001b[0m \u001b[0margs\u001b[0m\u001b[0;34m)\u001b[0m\u001b[0;34m,\u001b[0m \u001b[0;34m**\u001b[0m\u001b[0mkwargs\u001b[0m\u001b[0;34m)\u001b[0m\u001b[0;34m\u001b[0m\u001b[0;34m\u001b[0m\u001b[0m\n\u001b[0m\u001b[1;32m   1362\u001b[0m \u001b[0;34m\u001b[0m\u001b[0m\n\u001b[1;32m   1363\u001b[0m         \u001b[0mbound\u001b[0m \u001b[0;34m=\u001b[0m \u001b[0mnew_sig\u001b[0m\u001b[0;34m.\u001b[0m\u001b[0mbind\u001b[0m\u001b[0;34m(\u001b[0m\u001b[0max\u001b[0m\u001b[0;34m,\u001b[0m \u001b[0;34m*\u001b[0m\u001b[0margs\u001b[0m\u001b[0;34m,\u001b[0m \u001b[0;34m**\u001b[0m\u001b[0mkwargs\u001b[0m\u001b[0;34m)\u001b[0m\u001b[0;34m\u001b[0m\u001b[0;34m\u001b[0m\u001b[0m\n",
      "\u001b[0;32m~/opt/anaconda3/lib/python3.9/site-packages/matplotlib/axes/_axes.py\u001b[0m in \u001b[0;36mhist\u001b[0;34m(self, x, bins, range, density, weights, cumulative, bottom, histtype, align, orientation, rwidth, log, color, label, stacked, **kwargs)\u001b[0m\n\u001b[1;32m   6678\u001b[0m         \u001b[0;32mif\u001b[0m \u001b[0morientation\u001b[0m \u001b[0;34m==\u001b[0m \u001b[0;34m\"vertical\"\u001b[0m\u001b[0;34m:\u001b[0m\u001b[0;34m\u001b[0m\u001b[0;34m\u001b[0m\u001b[0m\n\u001b[1;32m   6679\u001b[0m             \u001b[0mconvert_units\u001b[0m \u001b[0;34m=\u001b[0m \u001b[0mself\u001b[0m\u001b[0;34m.\u001b[0m\u001b[0mconvert_xunits\u001b[0m\u001b[0;34m\u001b[0m\u001b[0;34m\u001b[0m\u001b[0m\n\u001b[0;32m-> 6680\u001b[0;31m             x = [*self._process_unit_info([(\"x\", x[0])], kwargs),\n\u001b[0m\u001b[1;32m   6681\u001b[0m                  *map(convert_units, x[1:])]\n\u001b[1;32m   6682\u001b[0m         \u001b[0;32melse\u001b[0m\u001b[0;34m:\u001b[0m  \u001b[0;31m# horizontal\u001b[0m\u001b[0;34m\u001b[0m\u001b[0;34m\u001b[0m\u001b[0m\n",
      "\u001b[0;32m~/opt/anaconda3/lib/python3.9/site-packages/matplotlib/axes/_base.py\u001b[0m in \u001b[0;36m_process_unit_info\u001b[0;34m(self, datasets, kwargs, convert)\u001b[0m\n\u001b[1;32m   2339\u001b[0m             \u001b[0;31m# Update from data if axis is already set but no unit is set yet.\u001b[0m\u001b[0;34m\u001b[0m\u001b[0;34m\u001b[0m\u001b[0m\n\u001b[1;32m   2340\u001b[0m             \u001b[0;32mif\u001b[0m \u001b[0maxis\u001b[0m \u001b[0;32mis\u001b[0m \u001b[0;32mnot\u001b[0m \u001b[0;32mNone\u001b[0m \u001b[0;32mand\u001b[0m \u001b[0mdata\u001b[0m \u001b[0;32mis\u001b[0m \u001b[0;32mnot\u001b[0m \u001b[0;32mNone\u001b[0m \u001b[0;32mand\u001b[0m \u001b[0;32mnot\u001b[0m \u001b[0maxis\u001b[0m\u001b[0;34m.\u001b[0m\u001b[0mhave_units\u001b[0m\u001b[0;34m(\u001b[0m\u001b[0;34m)\u001b[0m\u001b[0;34m:\u001b[0m\u001b[0;34m\u001b[0m\u001b[0;34m\u001b[0m\u001b[0m\n\u001b[0;32m-> 2341\u001b[0;31m                 \u001b[0maxis\u001b[0m\u001b[0;34m.\u001b[0m\u001b[0mupdate_units\u001b[0m\u001b[0;34m(\u001b[0m\u001b[0mdata\u001b[0m\u001b[0;34m)\u001b[0m\u001b[0;34m\u001b[0m\u001b[0;34m\u001b[0m\u001b[0m\n\u001b[0m\u001b[1;32m   2342\u001b[0m         \u001b[0;32mfor\u001b[0m \u001b[0maxis_name\u001b[0m\u001b[0;34m,\u001b[0m \u001b[0maxis\u001b[0m \u001b[0;32min\u001b[0m \u001b[0maxis_map\u001b[0m\u001b[0;34m.\u001b[0m\u001b[0mitems\u001b[0m\u001b[0;34m(\u001b[0m\u001b[0;34m)\u001b[0m\u001b[0;34m:\u001b[0m\u001b[0;34m\u001b[0m\u001b[0;34m\u001b[0m\u001b[0m\n\u001b[1;32m   2343\u001b[0m             \u001b[0;31m# Return if no axis is set.\u001b[0m\u001b[0;34m\u001b[0m\u001b[0;34m\u001b[0m\u001b[0m\n",
      "\u001b[0;32m~/opt/anaconda3/lib/python3.9/site-packages/matplotlib/axis.py\u001b[0m in \u001b[0;36mupdate_units\u001b[0;34m(self, data)\u001b[0m\n\u001b[1;32m   1446\u001b[0m         \u001b[0mneednew\u001b[0m \u001b[0;34m=\u001b[0m \u001b[0mself\u001b[0m\u001b[0;34m.\u001b[0m\u001b[0mconverter\u001b[0m \u001b[0;34m!=\u001b[0m \u001b[0mconverter\u001b[0m\u001b[0;34m\u001b[0m\u001b[0;34m\u001b[0m\u001b[0m\n\u001b[1;32m   1447\u001b[0m         \u001b[0mself\u001b[0m\u001b[0;34m.\u001b[0m\u001b[0mconverter\u001b[0m \u001b[0;34m=\u001b[0m \u001b[0mconverter\u001b[0m\u001b[0;34m\u001b[0m\u001b[0;34m\u001b[0m\u001b[0m\n\u001b[0;32m-> 1448\u001b[0;31m         \u001b[0mdefault\u001b[0m \u001b[0;34m=\u001b[0m \u001b[0mself\u001b[0m\u001b[0;34m.\u001b[0m\u001b[0mconverter\u001b[0m\u001b[0;34m.\u001b[0m\u001b[0mdefault_units\u001b[0m\u001b[0;34m(\u001b[0m\u001b[0mdata\u001b[0m\u001b[0;34m,\u001b[0m \u001b[0mself\u001b[0m\u001b[0;34m)\u001b[0m\u001b[0;34m\u001b[0m\u001b[0;34m\u001b[0m\u001b[0m\n\u001b[0m\u001b[1;32m   1449\u001b[0m         \u001b[0;32mif\u001b[0m \u001b[0mdefault\u001b[0m \u001b[0;32mis\u001b[0m \u001b[0;32mnot\u001b[0m \u001b[0;32mNone\u001b[0m \u001b[0;32mand\u001b[0m \u001b[0mself\u001b[0m\u001b[0;34m.\u001b[0m\u001b[0munits\u001b[0m \u001b[0;32mis\u001b[0m \u001b[0;32mNone\u001b[0m\u001b[0;34m:\u001b[0m\u001b[0;34m\u001b[0m\u001b[0;34m\u001b[0m\u001b[0m\n\u001b[1;32m   1450\u001b[0m             \u001b[0mself\u001b[0m\u001b[0;34m.\u001b[0m\u001b[0mset_units\u001b[0m\u001b[0;34m(\u001b[0m\u001b[0mdefault\u001b[0m\u001b[0;34m)\u001b[0m\u001b[0;34m\u001b[0m\u001b[0;34m\u001b[0m\u001b[0m\n",
      "\u001b[0;32m~/opt/anaconda3/lib/python3.9/site-packages/matplotlib/category.py\u001b[0m in \u001b[0;36mdefault_units\u001b[0;34m(data, axis)\u001b[0m\n\u001b[1;32m    107\u001b[0m         \u001b[0;31m# the conversion call stack is default_units -> axis_info -> convert\u001b[0m\u001b[0;34m\u001b[0m\u001b[0;34m\u001b[0m\u001b[0m\n\u001b[1;32m    108\u001b[0m         \u001b[0;32mif\u001b[0m \u001b[0maxis\u001b[0m\u001b[0;34m.\u001b[0m\u001b[0munits\u001b[0m \u001b[0;32mis\u001b[0m \u001b[0;32mNone\u001b[0m\u001b[0;34m:\u001b[0m\u001b[0;34m\u001b[0m\u001b[0;34m\u001b[0m\u001b[0m\n\u001b[0;32m--> 109\u001b[0;31m             \u001b[0maxis\u001b[0m\u001b[0;34m.\u001b[0m\u001b[0mset_units\u001b[0m\u001b[0;34m(\u001b[0m\u001b[0mUnitData\u001b[0m\u001b[0;34m(\u001b[0m\u001b[0mdata\u001b[0m\u001b[0;34m)\u001b[0m\u001b[0;34m)\u001b[0m\u001b[0;34m\u001b[0m\u001b[0;34m\u001b[0m\u001b[0m\n\u001b[0m\u001b[1;32m    110\u001b[0m         \u001b[0;32melse\u001b[0m\u001b[0;34m:\u001b[0m\u001b[0;34m\u001b[0m\u001b[0;34m\u001b[0m\u001b[0m\n\u001b[1;32m    111\u001b[0m             \u001b[0maxis\u001b[0m\u001b[0;34m.\u001b[0m\u001b[0munits\u001b[0m\u001b[0;34m.\u001b[0m\u001b[0mupdate\u001b[0m\u001b[0;34m(\u001b[0m\u001b[0mdata\u001b[0m\u001b[0;34m)\u001b[0m\u001b[0;34m\u001b[0m\u001b[0;34m\u001b[0m\u001b[0m\n",
      "\u001b[0;32m~/opt/anaconda3/lib/python3.9/site-packages/matplotlib/category.py\u001b[0m in \u001b[0;36m__init__\u001b[0;34m(self, data)\u001b[0m\n\u001b[1;32m    183\u001b[0m         \u001b[0mself\u001b[0m\u001b[0;34m.\u001b[0m\u001b[0m_counter\u001b[0m \u001b[0;34m=\u001b[0m \u001b[0mitertools\u001b[0m\u001b[0;34m.\u001b[0m\u001b[0mcount\u001b[0m\u001b[0;34m(\u001b[0m\u001b[0;34m)\u001b[0m\u001b[0;34m\u001b[0m\u001b[0;34m\u001b[0m\u001b[0m\n\u001b[1;32m    184\u001b[0m         \u001b[0;32mif\u001b[0m \u001b[0mdata\u001b[0m \u001b[0;32mis\u001b[0m \u001b[0;32mnot\u001b[0m \u001b[0;32mNone\u001b[0m\u001b[0;34m:\u001b[0m\u001b[0;34m\u001b[0m\u001b[0;34m\u001b[0m\u001b[0m\n\u001b[0;32m--> 185\u001b[0;31m             \u001b[0mself\u001b[0m\u001b[0;34m.\u001b[0m\u001b[0mupdate\u001b[0m\u001b[0;34m(\u001b[0m\u001b[0mdata\u001b[0m\u001b[0;34m)\u001b[0m\u001b[0;34m\u001b[0m\u001b[0;34m\u001b[0m\u001b[0m\n\u001b[0m\u001b[1;32m    186\u001b[0m \u001b[0;34m\u001b[0m\u001b[0m\n\u001b[1;32m    187\u001b[0m     \u001b[0;34m@\u001b[0m\u001b[0mstaticmethod\u001b[0m\u001b[0;34m\u001b[0m\u001b[0;34m\u001b[0m\u001b[0m\n",
      "\u001b[0;32m~/opt/anaconda3/lib/python3.9/site-packages/matplotlib/category.py\u001b[0m in \u001b[0;36mupdate\u001b[0;34m(self, data)\u001b[0m\n\u001b[1;32m    218\u001b[0m         \u001b[0;32mfor\u001b[0m \u001b[0mval\u001b[0m \u001b[0;32min\u001b[0m \u001b[0mOrderedDict\u001b[0m\u001b[0;34m.\u001b[0m\u001b[0mfromkeys\u001b[0m\u001b[0;34m(\u001b[0m\u001b[0mdata\u001b[0m\u001b[0;34m)\u001b[0m\u001b[0;34m:\u001b[0m\u001b[0;34m\u001b[0m\u001b[0;34m\u001b[0m\u001b[0m\n\u001b[1;32m    219\u001b[0m             \u001b[0;31m# OrderedDict just iterates over unique values in data.\u001b[0m\u001b[0;34m\u001b[0m\u001b[0;34m\u001b[0m\u001b[0m\n\u001b[0;32m--> 220\u001b[0;31m             \u001b[0m_api\u001b[0m\u001b[0;34m.\u001b[0m\u001b[0mcheck_isinstance\u001b[0m\u001b[0;34m(\u001b[0m\u001b[0;34m(\u001b[0m\u001b[0mstr\u001b[0m\u001b[0;34m,\u001b[0m \u001b[0mbytes\u001b[0m\u001b[0;34m)\u001b[0m\u001b[0;34m,\u001b[0m \u001b[0mvalue\u001b[0m\u001b[0;34m=\u001b[0m\u001b[0mval\u001b[0m\u001b[0;34m)\u001b[0m\u001b[0;34m\u001b[0m\u001b[0;34m\u001b[0m\u001b[0m\n\u001b[0m\u001b[1;32m    221\u001b[0m             \u001b[0;32mif\u001b[0m \u001b[0mconvertible\u001b[0m\u001b[0;34m:\u001b[0m\u001b[0;34m\u001b[0m\u001b[0;34m\u001b[0m\u001b[0m\n\u001b[1;32m    222\u001b[0m                 \u001b[0;31m# this will only be called so long as convertible is True.\u001b[0m\u001b[0;34m\u001b[0m\u001b[0;34m\u001b[0m\u001b[0m\n",
      "\u001b[0;32m~/opt/anaconda3/lib/python3.9/site-packages/matplotlib/_api/__init__.py\u001b[0m in \u001b[0;36mcheck_isinstance\u001b[0;34m(_types, **kwargs)\u001b[0m\n\u001b[1;32m     90\u001b[0m                 \u001b[0mnames\u001b[0m\u001b[0;34m.\u001b[0m\u001b[0mremove\u001b[0m\u001b[0;34m(\u001b[0m\u001b[0;34m\"None\"\u001b[0m\u001b[0;34m)\u001b[0m\u001b[0;34m\u001b[0m\u001b[0;34m\u001b[0m\u001b[0m\n\u001b[1;32m     91\u001b[0m                 \u001b[0mnames\u001b[0m\u001b[0;34m.\u001b[0m\u001b[0mappend\u001b[0m\u001b[0;34m(\u001b[0m\u001b[0;34m\"None\"\u001b[0m\u001b[0;34m)\u001b[0m\u001b[0;34m\u001b[0m\u001b[0;34m\u001b[0m\u001b[0m\n\u001b[0;32m---> 92\u001b[0;31m             raise TypeError(\n\u001b[0m\u001b[1;32m     93\u001b[0m                 \"{!r} must be an instance of {}, not a {}\".format(\n\u001b[1;32m     94\u001b[0m                     \u001b[0mk\u001b[0m\u001b[0;34m,\u001b[0m\u001b[0;34m\u001b[0m\u001b[0;34m\u001b[0m\u001b[0m\n",
      "\u001b[0;31mTypeError\u001b[0m: 'value' must be an instance of str or bytes, not a float"
     ]
    },
    {
     "data": {
      "image/png": "[encoded data removed]",
      "text/plain": [
       "<Figure size 640x480 with 1 Axes>"
      ]
     },
     "metadata": {},
     "output_type": "display_data"
    }
   ],
   "source": [
    "datos = np.array(unis[\"Campus_setting\"])\n",
    "plt.figure()\n",
    "plt.hist(datos)\n",
    "plt.show()\n"
   ]
  },
  {
   "cell_type": "code",
   "execution_count": 77,
   "metadata": {},
   "outputs": [
    {
     "data": {
      "image/png": "[encoded data removed]",
      "text/plain": [
       "<Figure size 640x480 with 1 Axes>"
      ]
     },
     "metadata": {},
     "output_type": "display_data"
    }
   ],
   "source": [
    "# Primero agrupamos el dataframe por la columna species.\n",
    "emplazamimento = unis.groupby(\"Campus_setting\") # Devolvera un objeto DataFrameGroupBy\n",
    "\n",
    "# Aplicamos el método agg para agregar los datos por la columa species.\n",
    "frecuencia_emplazamiento = emplazamimento.agg(frecuencia = (\"Campus_setting\",\"count\"))\n",
    "\n",
    "# Pandas nos proporciona el metodo plot.bar() para hacer un gráfico de barras de manera sencilla\n",
    "frecuencia_emplazamiento.plot.bar()\n",
    "\n",
    "plt.show()"
   ]
  },
  {
   "cell_type": "code",
   "execution_count": 117,
   "metadata": {},
   "outputs": [
    {
     "data": {
      "text/html": [
       "<div>\n",
       "<style scoped>\n",
       "    .dataframe tbody tr th:only-of-type {\n",
       "        vertical-align: middle;\n",
       "    }\n",
       "\n",
       "    .dataframe tbody tr th {\n",
       "        vertical-align: top;\n",
       "    }\n",
       "\n",
       "    .dataframe thead th {\n",
       "        text-align: right;\n",
       "    }\n",
       "</style>\n",
       "<table border=\"1\" class=\"dataframe\">\n",
       "  <thead>\n",
       "    <tr style=\"text-align: right;\">\n",
       "      <th></th>\n",
       "      <th>group</th>\n",
       "      <th>frecuencia</th>\n",
       "    </tr>\n",
       "  </thead>\n",
       "  <tbody>\n",
       "    <tr>\n",
       "      <th>0</th>\n",
       "      <td>(1095.083, 1187.7]</td>\n",
       "      <td>1</td>\n",
       "    </tr>\n",
       "    <tr>\n",
       "      <th>1</th>\n",
       "      <td>(1187.7, 1279.4]</td>\n",
       "      <td>1</td>\n",
       "    </tr>\n",
       "    <tr>\n",
       "      <th>2</th>\n",
       "      <td>(1279.4, 1371.1]</td>\n",
       "      <td>0</td>\n",
       "    </tr>\n",
       "    <tr>\n",
       "      <th>3</th>\n",
       "      <td>(1371.1, 1462.8]</td>\n",
       "      <td>2</td>\n",
       "    </tr>\n",
       "    <tr>\n",
       "      <th>4</th>\n",
       "      <td>(1462.8, 1554.5]</td>\n",
       "      <td>1</td>\n",
       "    </tr>\n",
       "    <tr>\n",
       "      <th>5</th>\n",
       "      <td>(1554.5, 1646.2]</td>\n",
       "      <td>1</td>\n",
       "    </tr>\n",
       "    <tr>\n",
       "      <th>6</th>\n",
       "      <td>(1646.2, 1737.9]</td>\n",
       "      <td>1</td>\n",
       "    </tr>\n",
       "    <tr>\n",
       "      <th>7</th>\n",
       "      <td>(1737.9, 1829.6]</td>\n",
       "      <td>3</td>\n",
       "    </tr>\n",
       "    <tr>\n",
       "      <th>8</th>\n",
       "      <td>(1829.6, 1921.3]</td>\n",
       "      <td>21</td>\n",
       "    </tr>\n",
       "    <tr>\n",
       "      <th>9</th>\n",
       "      <td>(1921.3, 2013.0]</td>\n",
       "      <td>39</td>\n",
       "    </tr>\n",
       "  </tbody>\n",
       "</table>\n",
       "</div>"
      ],
      "text/plain": [
       "                group  frecuencia\n",
       "0  (1095.083, 1187.7]           1\n",
       "1    (1187.7, 1279.4]           1\n",
       "2    (1279.4, 1371.1]           0\n",
       "3    (1371.1, 1462.8]           2\n",
       "4    (1462.8, 1554.5]           1\n",
       "5    (1554.5, 1646.2]           1\n",
       "6    (1646.2, 1737.9]           1\n",
       "7    (1737.9, 1829.6]           3\n",
       "8    (1829.6, 1921.3]          21\n",
       "9    (1921.3, 2013.0]          39"
      ]
     },
     "execution_count": 117,
     "metadata": {},
     "output_type": "execute_result"
    }
   ],
   "source": [
    "a = frecuencia_fundacion.groupby(\"group\").agg(frecuencia=(\"Founded_year\", \"count\")).reset_index()\n",
    "a"
   ]
  },
  {
   "cell_type": "code",
   "execution_count": null,
   "metadata": {},
   "outputs": [],
   "source": [
    "# Ejercicio 2. Interpretación de los resultados.\n",
    "# Ahora interpreta los resultados obtenidos de los diferentes estadísticos estudiados haciendo hincapié en \n",
    "# aspectos interesantes de tus datos y explica lo mejor posible la naturaleza de los mismos."
   ]
  }
 ],
 "metadata": {
  "kernelspec": {
   "display_name": "Python 3.9.7 ('base')",
   "language": "python",
   "name": "python3"
  },
  "language_info": {
   "codemirror_mode": {
    "name": "ipython",
    "version": 3
   },
   "file_extension": ".py",
   "mimetype": "text/x-python",
   "name": "python",
   "nbconvert_exporter": "python",
   "pygments_lexer": "ipython3",
   "version": "3.9.7"
  },
  "orig_nbformat": 4,
  "vscode": {
   "interpreter": {
    "hash": "fd3399778ecca89ccfd38c8963bbc048ff3198ccc7f9219d1f9dd0c6b6412bb5"
   }
  }
 },
 "nbformat": 4,
 "nbformat_minor": 2
}
