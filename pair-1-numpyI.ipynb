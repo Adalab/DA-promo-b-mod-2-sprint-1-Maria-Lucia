{
 "cells": [
  {
   "cell_type": "code",
   "execution_count": 1,
   "metadata": {},
   "outputs": [],
   "source": [
    "import numpy as np"
   ]
  },
  {
   "cell_type": "code",
   "execution_count": 2,
   "metadata": {},
   "outputs": [
    {
     "data": {
      "text/plain": [
       "array([1, 2, 3, 4, 5, 6])"
      ]
     },
     "execution_count": 2,
     "metadata": {},
     "output_type": "execute_result"
    }
   ],
   "source": [
    "# Ejercicio 1\n",
    "\n",
    "# Cread tres arrays: de una, dos y tres dimensiones.\n",
    "\n",
    "# Array 1 dimensión\n",
    "\n",
    "lista1 = [1,2,3,4,5,6]\n",
    "\n",
    "array1 = np.array(lista1)\n",
    "\n",
    "array1"
   ]
  },
  {
   "cell_type": "code",
   "execution_count": 3,
   "metadata": {},
   "outputs": [
    {
     "data": {
      "text/plain": [
       "array([[ 9, 48, 30],\n",
       "       [61,  9,  1]])"
      ]
     },
     "execution_count": 3,
     "metadata": {},
     "output_type": "execute_result"
    }
   ],
   "source": [
    "# Array 2 dimensiones\n",
    "\n",
    "array2 = np.random.randint(0,100, (2,3))\n",
    "array2"
   ]
  },
  {
   "cell_type": "code",
   "execution_count": 4,
   "metadata": {},
   "outputs": [
    {
     "data": {
      "text/plain": [
       "array([[[0.48048706, 0.14864722, 0.29263338, 0.19122859, 0.2582837 ],\n",
       "        [0.47929023, 0.43808711, 0.38249811, 0.38834075, 0.39736627],\n",
       "        [0.74912706, 0.37292679, 0.71769791, 0.74736454, 0.49064752]],\n",
       "\n",
       "       [[0.31680709, 0.33220673, 0.79278275, 0.9152476 , 0.67116356],\n",
       "        [0.8757216 , 0.5348809 , 0.49020838, 0.07922618, 0.88368927],\n",
       "        [0.96198536, 0.6663884 , 0.28394007, 0.54770346, 0.46817287]]])"
      ]
     },
     "execution_count": 4,
     "metadata": {},
     "output_type": "execute_result"
    }
   ],
   "source": [
    "# Array 3 dimensiones\n",
    "\n",
    "array3 = np.random.rand(2,3,5)\n",
    "array3"
   ]
  },
  {
   "cell_type": "code",
   "execution_count": 6,
   "metadata": {},
   "outputs": [],
   "source": [
    "# Ejercicio 2\n",
    "\n",
    "def definir_propiedades(array):\n",
    "    shape = array.shape\n",
    "    size = array.size\n",
    "    dim = array.ndim\n",
    "    type = array.dtype\n",
    "    print(f\"La forma de tu array es {shape}.\")\n",
    "    print(f\"El número total de elemnentos de tu array es {size}.\")\n",
    "    print(f\"Es un array de {dim} dimensiones.\")\n",
    "    print(f\"Los datos de tu array son de tipo {type}.\")"
   ]
  },
  {
   "cell_type": "code",
   "execution_count": 7,
   "metadata": {},
   "outputs": [
    {
     "name": "stdout",
     "output_type": "stream",
     "text": [
      "La forma de tu array es (2, 3).\n",
      "El número total de elemnentos de tu array es 6.\n",
      "Es un array de 2 dimensiones.\n",
      "Los datos de tu array son de tipo int64.\n"
     ]
    }
   ],
   "source": [
    "definir_propiedades(array2)"
   ]
  },
  {
   "cell_type": "code",
   "execution_count": 8,
   "metadata": {},
   "outputs": [
    {
     "name": "stdout",
     "output_type": "stream",
     "text": [
      "La forma de tu array es (6,).\n",
      "El número total de elemnentos de tu array es 6.\n",
      "Es un array de 1 dimensiones.\n",
      "Los datos de tu array son de tipo int64.\n"
     ]
    }
   ],
   "source": [
    "definir_propiedades(array1)"
   ]
  },
  {
   "cell_type": "code",
   "execution_count": 9,
   "metadata": {},
   "outputs": [
    {
     "name": "stdout",
     "output_type": "stream",
     "text": [
      "La forma de tu array es (2, 3, 5).\n",
      "El número total de elemnentos de tu array es 30.\n",
      "Es un array de 3 dimensiones.\n",
      "Los datos de tu array son de tipo float64.\n"
     ]
    }
   ],
   "source": [
    "definir_propiedades(array3)"
   ]
  },
  {
   "cell_type": "code",
   "execution_count": 12,
   "metadata": {},
   "outputs": [
    {
     "data": {
      "text/plain": [
       "array([[1., 0., 0.],\n",
       "       [0., 1., 0.],\n",
       "       [0., 0., 1.]])"
      ]
     },
     "execution_count": 12,
     "metadata": {},
     "output_type": "execute_result"
    }
   ],
   "source": [
    "# Ejercicio 3. Cread una matriz identidad de dos dim de tres filas y tres columnas\n",
    "identidad = np.identity(3)\n",
    "identidad\n"
   ]
  },
  {
   "cell_type": "code",
   "execution_count": 10,
   "metadata": {},
   "outputs": [
    {
     "name": "stdout",
     "output_type": "stream",
     "text": [
      "[[0. 0.]\n",
      " [1. 0.]\n",
      " [0. 1.]]\n"
     ]
    }
   ],
   "source": [
    "#Hacemos pruebas con una matriz rectangular\n",
    "\n",
    "identidad2 = np.eye(3,2, k=-1)\n",
    "print(identidad2)"
   ]
  },
  {
   "cell_type": "code",
   "execution_count": null,
   "metadata": {},
   "outputs": [],
   "source": [
    "# Ejercicio 4. Matriz de 3 dimensiones de 1 creadas igual que la anterior"
   ]
  },
  {
   "cell_type": "code",
   "execution_count": 13,
   "metadata": {},
   "outputs": [
    {
     "name": "stdout",
     "output_type": "stream",
     "text": [
      "[[1. 1. 1.]\n",
      " [1. 1. 1.]\n",
      " [1. 1. 1.]]\n"
     ]
    }
   ],
   "source": [
    "identidad3 = np.ones_like(identidad)\n",
    "print(identidad3)"
   ]
  },
  {
   "cell_type": "code",
   "execution_count": 28,
   "metadata": {},
   "outputs": [
    {
     "name": "stdout",
     "output_type": "stream",
     "text": [
      "[[62 73 89]\n",
      " [30 32  2]]\n",
      "[[1. 1. 1.]\n",
      " [1. 1. 1.]\n",
      " [1. 1. 1.]]\n"
     ]
    }
   ],
   "source": [
    "# Ejercicio 5. \n",
    "\n",
    "# ¿Se puede sumar el array de dos dimensiones que creamos en el primer ejecicios a la matriz identidad? ¿Por qué\n",
    "# \n",
    "# No podemos sumar array2 (3x2) con identidad3 (3x3) porque no tienen las misma forma\n",
    "\n",
    "# En caso de que no se puedan sumar, busca una solución para sumar una matriz identidad a otra. La solución puede ser crear un array nuevo.\n",
    "\n",
    "print(array2)\n",
    "print(identidad3)"
   ]
  },
  {
   "cell_type": "code",
   "execution_count": 30,
   "metadata": {},
   "outputs": [
    {
     "name": "stdout",
     "output_type": "stream",
     "text": [
      "[[1 1 1]\n",
      " [1 1 1]]\n"
     ]
    }
   ],
   "source": [
    "#Tenemos que cambiar la forma de una de las dos matrices para poderlas sumar\n",
    "\n",
    "identidad_suma = np.ones_like(array2)\n",
    "print(identidad_suma)"
   ]
  },
  {
   "cell_type": "code",
   "execution_count": 31,
   "metadata": {},
   "outputs": [
    {
     "data": {
      "text/plain": [
       "array([[63, 74, 90],\n",
       "       [31, 33,  3]])"
      ]
     },
     "execution_count": 31,
     "metadata": {},
     "output_type": "execute_result"
    }
   ],
   "source": [
    "# Procedemos a sumarlas con el operador suma +\n",
    "\n",
    "array2 + identidad_suma"
   ]
  },
  {
   "cell_type": "code",
   "execution_count": 32,
   "metadata": {},
   "outputs": [
    {
     "data": {
      "text/plain": [
       "array([[63, 74, 90],\n",
       "       [31, 33,  3]])"
      ]
     },
     "execution_count": 32,
     "metadata": {},
     "output_type": "execute_result"
    }
   ],
   "source": [
    "# Podemos usar el método np.add() para sumar arrays\n",
    "np.add(array2, identidad_suma)"
   ]
  },
  {
   "cell_type": "code",
   "execution_count": 14,
   "metadata": {},
   "outputs": [],
   "source": [
    "# Multiplicad la matriz identidad por la nueva matriz que os creasteis en el ejercicio anterior.\n",
    "\n",
    "# identidad_suma es una matriz de 2x3 e identidad3 es una matriz de 3x3\n",
    "\n",
    "# No podemos multiplicar esas dos matrices porque no tienen la misma forma. Probamos entonces con dos matrices de idéntica forma (3*3)\n"
   ]
  },
  {
   "cell_type": "code",
   "execution_count": 17,
   "metadata": {},
   "outputs": [
    {
     "data": {
      "text/plain": [
       "array([[1., 0., 0.],\n",
       "       [0., 1., 0.],\n",
       "       [0., 0., 1.]])"
      ]
     },
     "execution_count": 17,
     "metadata": {},
     "output_type": "execute_result"
    }
   ],
   "source": [
    "# Podemos usar el operador de multiplicar matrices de numpy *\n",
    "\n",
    "identidad * identidad3"
   ]
  },
  {
   "cell_type": "code",
   "execution_count": 18,
   "metadata": {},
   "outputs": [
    {
     "data": {
      "text/plain": [
       "array([[1., 0., 0.],\n",
       "       [0., 1., 0.],\n",
       "       [0., 0., 1.]])"
      ]
     },
     "execution_count": 18,
     "metadata": {},
     "output_type": "execute_result"
    }
   ],
   "source": [
    "# Podemos usar el método np.multiply()\n",
    "np.multiply(identidad, identidad3)"
   ]
  },
  {
   "cell_type": "code",
   "execution_count": 19,
   "metadata": {},
   "outputs": [
    {
     "data": {
      "text/plain": [
       "array([[1., 0., 0.],\n",
       "       [0., 1., 0.],\n",
       "       [0., 0., 1.]])"
      ]
     },
     "execution_count": 19,
     "metadata": {},
     "output_type": "execute_result"
    }
   ],
   "source": [
    "# Dividid las dos matricess\n",
    "\n",
    "identidad / identidad3"
   ]
  },
  {
   "cell_type": "code",
   "execution_count": 21,
   "metadata": {},
   "outputs": [
    {
     "data": {
      "text/plain": [
       "array([[1., 0., 0.],\n",
       "       [0., 1., 0.],\n",
       "       [0., 0., 1.]])"
      ]
     },
     "execution_count": 21,
     "metadata": {},
     "output_type": "execute_result"
    }
   ],
   "source": [
    "# Usando el metodo np.divide()\n",
    "np.divide(identidad, identidad3)"
   ]
  },
  {
   "cell_type": "code",
   "execution_count": null,
   "metadata": {},
   "outputs": [],
   "source": [
    "# Probamos a crear una matriz de dos dimensiones de otro modo, definiendo a mano el array"
   ]
  },
  {
   "cell_type": "code",
   "execution_count": 46,
   "metadata": {},
   "outputs": [
    {
     "data": {
      "text/plain": [
       "array([[2, 3],\n",
       "       [4, 5]])"
      ]
     },
     "execution_count": 46,
     "metadata": {},
     "output_type": "execute_result"
    }
   ],
   "source": [
    "matriz1 = np.array([[2,3],[4,5]])\n",
    "matriz1"
   ]
  },
  {
   "cell_type": "code",
   "execution_count": 47,
   "metadata": {},
   "outputs": [
    {
     "data": {
      "text/plain": [
       "2"
      ]
     },
     "execution_count": 47,
     "metadata": {},
     "output_type": "execute_result"
    }
   ],
   "source": [
    "np.ndim(matriz1)"
   ]
  },
  {
   "cell_type": "code",
   "execution_count": 48,
   "metadata": {},
   "outputs": [
    {
     "data": {
      "text/plain": [
       "array([[ 4,  9],\n",
       "       [16, 25]])"
      ]
     },
     "execution_count": 48,
     "metadata": {},
     "output_type": "execute_result"
    }
   ],
   "source": [
    "# Queremos comprobar las diferencias entre la operación de multiplicar matrices de numpy\n",
    "#  y la operación clásica de producto de matrices algebraica, que se realiza con el método np.dot\n",
    "matriz1 * matriz1"
   ]
  },
  {
   "cell_type": "code",
   "execution_count": 49,
   "metadata": {},
   "outputs": [
    {
     "data": {
      "text/plain": [
       "array([[16, 21],\n",
       "       [28, 37]])"
      ]
     },
     "execution_count": 49,
     "metadata": {},
     "output_type": "execute_result"
    }
   ],
   "source": [
    "np.dot(matriz1, matriz1)"
   ]
  },
  {
   "cell_type": "code",
   "execution_count": null,
   "metadata": {},
   "outputs": [],
   "source": [
    "# La operación multiplicación multiplica elemento a elemento siguiendo los índices de las matrices, por eso es necesario que tengan la misma forma.\n",
    "# El producto matricial que se consigue con np.dot tiene que seguir las normas del producto matricial y no tiene porqué tener la misma forma, si cumple las condiciones. "
   ]
  }
 ],
 "metadata": {
  "kernelspec": {
   "display_name": "Python 3.9.7 ('base')",
   "language": "python",
   "name": "python3"
  },
  "language_info": {
   "codemirror_mode": {
    "name": "ipython",
    "version": 3
   },
   "file_extension": ".py",
   "mimetype": "text/x-python",
   "name": "python",
   "nbconvert_exporter": "python",
   "pygments_lexer": "ipython3",
   "version": "3.9.7"
  },
  "orig_nbformat": 4,
  "vscode": {
   "interpreter": {
    "hash": "8e1f904fe714ccd05b7907fe541d28c2ec20b612a1af6f34d013e1f0fd7aabf1"
   }
  }
 },
 "nbformat": 4,
 "nbformat_minor": 2
}
