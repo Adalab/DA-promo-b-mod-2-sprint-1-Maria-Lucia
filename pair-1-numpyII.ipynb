{
 "cells": [
  {
   "cell_type": "code",
   "execution_count": 1,
   "metadata": {},
   "outputs": [],
   "source": [
    "import numpy as np"
   ]
  },
  {
   "cell_type": "code",
   "execution_count": 2,
   "metadata": {},
   "outputs": [],
   "source": [
    "# Ejercicio 1\n",
    "# Crea un array y vamos a aplicarle filtros para extraer distintos datos.\n",
    "array1 = np.random.randint(0,50,(5,3))"
   ]
  },
  {
   "cell_type": "code",
   "execution_count": 3,
   "metadata": {},
   "outputs": [
    {
     "data": {
      "text/plain": [
       "array([[26,  6, 22],\n",
       "       [48, 22, 39],\n",
       "       [22, 34, 22],\n",
       "       [19, 16, 13],\n",
       "       [18, 12, 27]])"
      ]
     },
     "execution_count": 3,
     "metadata": {},
     "output_type": "execute_result"
    }
   ],
   "source": [
    "array1"
   ]
  },
  {
   "cell_type": "code",
   "execution_count": 4,
   "metadata": {},
   "outputs": [
    {
     "data": {
      "text/plain": [
       "6"
      ]
     },
     "execution_count": 4,
     "metadata": {},
     "output_type": "execute_result"
    }
   ],
   "source": [
    "# Valor de la primera fila, segunda columna\n",
    "array1[0,1]"
   ]
  },
  {
   "cell_type": "code",
   "execution_count": 5,
   "metadata": {},
   "outputs": [
    {
     "data": {
      "text/plain": [
       "array([48, 22])"
      ]
     },
     "execution_count": 5,
     "metadata": {},
     "output_type": "execute_result"
    }
   ],
   "source": [
    "# Valores de la segunda fila y las dos primeras columnas\n",
    "array1[1,:2]"
   ]
  },
  {
   "cell_type": "code",
   "execution_count": 6,
   "metadata": {},
   "outputs": [
    {
     "data": {
      "text/plain": [
       "array([[26,  6, 22],\n",
       "       [22, 34, 22],\n",
       "       [18, 12, 27]])"
      ]
     },
     "execution_count": 6,
     "metadata": {},
     "output_type": "execute_result"
    }
   ],
   "source": [
    "# Filas pares y todas las columnas\n",
    "array1[::2,]"
   ]
  },
  {
   "cell_type": "code",
   "execution_count": 7,
   "metadata": {},
   "outputs": [
    {
     "data": {
      "text/plain": [
       "array([[26,  6, 22],\n",
       "       [22, 34, 22],\n",
       "       [18, 12, 27]])"
      ]
     },
     "execution_count": 7,
     "metadata": {},
     "output_type": "execute_result"
    }
   ],
   "source": [
    "# Filas pares y todas las columnas\n",
    "# puedes hacerlo de esta forma(sin indicar la coma que separa filas y columnas) y el resultado será el mismo\n",
    "array1[::2]"
   ]
  },
  {
   "cell_type": "code",
   "execution_count": 8,
   "metadata": {},
   "outputs": [
    {
     "data": {
      "text/plain": [
       "array([26,  6, 22, 48, 22, 39, 22, 34, 22, 19, 16, 13, 18, 12, 27])"
      ]
     },
     "execution_count": 8,
     "metadata": {},
     "output_type": "execute_result"
    }
   ],
   "source": [
    "# Todos los valores mayores que 0.5 (ojo! los decimales se defines con punto, no con coma!)\n",
    "array1[array1 > 0.5]"
   ]
  },
  {
   "cell_type": "code",
   "execution_count": 9,
   "metadata": {},
   "outputs": [
    {
     "data": {
      "text/plain": [
       "array([26,  6, 22, 48, 22, 39, 22, 34, 22, 19, 16, 13, 18, 12, 27])"
      ]
     },
     "execution_count": 9,
     "metadata": {},
     "output_type": "execute_result"
    }
   ],
   "source": [
    "# Todos los valores menores que 0.2 o mayores que 0.5\n",
    "# ojo! las condiciones tienen que ir entre parentesis\n",
    "\n",
    "array1[(array1 < 0.2 )|(array1 > 0.5)]"
   ]
  },
  {
   "cell_type": "code",
   "execution_count": 10,
   "metadata": {},
   "outputs": [
    {
     "data": {
      "text/plain": [
       "array([26, 22, 48, 22, 39, 22, 34, 22, 27])"
      ]
     },
     "execution_count": 10,
     "metadata": {},
     "output_type": "execute_result"
    }
   ],
   "source": [
    "# Como nuestro array tiene numeros enteros mayores que 1, probamos esta otra: \n",
    "# Todos los valores menores que 3 o mayores que 20\n",
    "array1[(array1 < 3)|(array1 > 20)]"
   ]
  },
  {
   "cell_type": "code",
   "execution_count": 11,
   "metadata": {},
   "outputs": [],
   "source": [
    "# Ejercicio 2\n",
    "\n",
    "# Crea dos arrays de 3 dimensiones (1. 2 matrices, 5 filas y 3 columnas, 2. 3 matrices, 2 filas y 5 columnas)\n",
    "\n",
    "array2 = np.random.randint(0,50,(2,5,3))\n",
    "array3 = np.random.randint(0,50,(3,2,5))"
   ]
  },
  {
   "cell_type": "code",
   "execution_count": 12,
   "metadata": {},
   "outputs": [],
   "source": [
    "# queremos analizar estos arrays, lo hacemos usando una función ya definida en el anterior ejercicio.\n",
    "\n",
    "def definir_propiedades(array):\n",
    "    shape = array.shape\n",
    "    size = array.size\n",
    "    dim = array.ndim\n",
    "    type = array.dtype\n",
    "    print(f\"La forma de tu array es {shape}.\")\n",
    "    print(f\"El número total de elemnentos de tu array es {size}.\")\n",
    "    print(f\"Es un array de {dim} dimensiones.\")\n",
    "    print(f\"Los datos de tu array son de tipo {type}.\")"
   ]
  },
  {
   "cell_type": "code",
   "execution_count": 13,
   "metadata": {},
   "outputs": [
    {
     "name": "stdout",
     "output_type": "stream",
     "text": [
      "La forma de tu array es (2, 5, 3).\n",
      "El número total de elemnentos de tu array es 30.\n",
      "Es un array de 3 dimensiones.\n",
      "Los datos de tu array son de tipo int64.\n"
     ]
    }
   ],
   "source": [
    "definir_propiedades(array2)\n"
   ]
  },
  {
   "cell_type": "code",
   "execution_count": 14,
   "metadata": {},
   "outputs": [
    {
     "name": "stdout",
     "output_type": "stream",
     "text": [
      "La forma de tu array es (3, 2, 5).\n",
      "El número total de elemnentos de tu array es 30.\n",
      "Es un array de 3 dimensiones.\n",
      "Los datos de tu array son de tipo int64.\n"
     ]
    }
   ],
   "source": [
    "definir_propiedades(array3)"
   ]
  },
  {
   "cell_type": "code",
   "execution_count": 15,
   "metadata": {},
   "outputs": [
    {
     "ename": "ValueError",
     "evalue": "operands could not be broadcast together with shapes (2,5,3) (3,2,5) ",
     "output_type": "error",
     "traceback": [
      "\u001b[0;31m---------------------------------------------------------------------------\u001b[0m",
      "\u001b[0;31mValueError\u001b[0m                                Traceback (most recent call last)",
      "\u001b[0;32m/tmp/ipykernel_41417/1772332442.py\u001b[0m in \u001b[0;36m<module>\u001b[0;34m\u001b[0m\n\u001b[1;32m      1\u001b[0m \u001b[0;31m# La forma de los arrays es diferente, aunque el resto de propiedades coinciden.\u001b[0m\u001b[0;34m\u001b[0m\u001b[0;34m\u001b[0m\u001b[0m\n\u001b[1;32m      2\u001b[0m \u001b[0;31m# nos piden que los sumemos. Creemos que no nos va a dejar porque la forma es diferente. Solo podemos sumar arrays con formas iguales.\u001b[0m\u001b[0;34m\u001b[0m\u001b[0;34m\u001b[0m\u001b[0m\n\u001b[0;32m----> 3\u001b[0;31m \u001b[0msuma\u001b[0m \u001b[0;34m=\u001b[0m \u001b[0marray2\u001b[0m \u001b[0;34m+\u001b[0m \u001b[0marray3\u001b[0m\u001b[0;34m\u001b[0m\u001b[0;34m\u001b[0m\u001b[0m\n\u001b[0m",
      "\u001b[0;31mValueError\u001b[0m: operands could not be broadcast together with shapes (2,5,3) (3,2,5) "
     ]
    }
   ],
   "source": [
    "# La forma de los arrays es diferente, aunque el resto de propiedades coinciden. \n",
    "# nos piden que los sumemos. Creemos que no nos va a dejar porque la forma es diferente. Solo podemos sumar arrays con formas iguales.\n",
    "suma = array2 + array3"
   ]
  },
  {
   "cell_type": "code",
   "execution_count": 16,
   "metadata": {},
   "outputs": [
    {
     "data": {
      "text/plain": [
       "array([[[36, 39,  2],\n",
       "        [15, 24, 22],\n",
       "        [45, 10, 30],\n",
       "        [16, 32, 39],\n",
       "        [41,  5, 11]],\n",
       "\n",
       "       [[ 5,  3,  2],\n",
       "        [44, 33, 47],\n",
       "        [48, 21,  7],\n",
       "        [49, 37,  3],\n",
       "        [ 9,  3, 34]]])"
      ]
     },
     "execution_count": 16,
     "metadata": {},
     "output_type": "execute_result"
    }
   ],
   "source": [
    "# Vamos a cambiarle la forma a uno de nuestros arrays para poder operar entre ellos. \n",
    "array2"
   ]
  },
  {
   "cell_type": "code",
   "execution_count": 17,
   "metadata": {},
   "outputs": [
    {
     "data": {
      "text/plain": [
       "array([[[36, 15, 45, 16, 41],\n",
       "        [ 5, 44, 48, 49,  9]],\n",
       "\n",
       "       [[39, 24, 10, 32,  5],\n",
       "        [ 3, 33, 21, 37,  3]],\n",
       "\n",
       "       [[ 2, 22, 30, 39, 11],\n",
       "        [ 2, 47,  7,  3, 34]]])"
      ]
     },
     "execution_count": 17,
     "metadata": {},
     "output_type": "execute_result"
    }
   ],
   "source": [
    "# METODO .transpose() : hemos cambiado el número de arrays por el número de filas, el número de filas por el número de columnas y el número de columnas por el número de arrays. \n",
    "array2_con_transpose = np.transpose(array2,(2,0,1))\n",
    "array2_con_transpose"
   ]
  },
  {
   "cell_type": "code",
   "execution_count": 18,
   "metadata": {},
   "outputs": [
    {
     "data": {
      "text/plain": [
       "array([[[46, 55, 46, 39, 73],\n",
       "        [22, 46, 65, 93, 47]],\n",
       "\n",
       "       [[79, 51, 17, 74,  8],\n",
       "        [ 8, 56, 58, 53, 42]],\n",
       "\n",
       "       [[36, 34, 79, 85, 20],\n",
       "        [50, 65, 37, 15, 43]]])"
      ]
     },
     "execution_count": 18,
     "metadata": {},
     "output_type": "execute_result"
    }
   ],
   "source": [
    "suma =  array2_con_transpose + array3\n",
    "suma"
   ]
  },
  {
   "cell_type": "code",
   "execution_count": 19,
   "metadata": {},
   "outputs": [
    {
     "data": {
      "text/plain": [
       "array([[[36, 39,  2],\n",
       "        [15, 24, 22],\n",
       "        [45, 10, 30],\n",
       "        [16, 32, 39],\n",
       "        [41,  5, 11]],\n",
       "\n",
       "       [[ 5,  3,  2],\n",
       "        [44, 33, 47],\n",
       "        [48, 21,  7],\n",
       "        [49, 37,  3],\n",
       "        [ 9,  3, 34]]])"
      ]
     },
     "execution_count": 19,
     "metadata": {},
     "output_type": "execute_result"
    }
   ],
   "source": [
    "array2"
   ]
  },
  {
   "cell_type": "code",
   "execution_count": 20,
   "metadata": {},
   "outputs": [
    {
     "data": {
      "text/plain": [
       "array([[[36, 39,  2, 15, 24],\n",
       "        [22, 45, 10, 30, 16]],\n",
       "\n",
       "       [[32, 39, 41,  5, 11],\n",
       "        [ 5,  3,  2, 44, 33]],\n",
       "\n",
       "       [[47, 48, 21,  7, 49],\n",
       "        [37,  3,  9,  3, 34]]])"
      ]
     },
     "execution_count": 20,
     "metadata": {},
     "output_type": "execute_result"
    }
   ],
   "source": [
    "# METODO .reshape() : coge de uno en uno los elementos del array y los ubica dentro de la \"nueva forma\" que le hemos definido. Lo hace de modo \"literal\" sin seguir una lógica de ejes.\n",
    "array2_con_reshape = np.reshape(array2,(3,2,5))\n",
    "array2_con_reshape"
   ]
  },
  {
   "cell_type": "code",
   "execution_count": 21,
   "metadata": {},
   "outputs": [
    {
     "data": {
      "text/plain": [
       "array([[[46, 79,  3, 38, 56],\n",
       "        [39, 47, 27, 74, 54]],\n",
       "\n",
       "       [[72, 66, 48, 47, 14],\n",
       "        [10, 26, 39, 60, 72]],\n",
       "\n",
       "       [[81, 60, 70, 53, 58],\n",
       "        [85, 21, 39, 15, 43]]])"
      ]
     },
     "execution_count": 21,
     "metadata": {},
     "output_type": "execute_result"
    }
   ],
   "source": [
    "suma_reshape = array2_con_reshape + array3\n",
    "suma_reshape"
   ]
  },
  {
   "cell_type": "code",
   "execution_count": null,
   "metadata": {},
   "outputs": [],
   "source": [
    "# Al aplicar distintos métodos para \"reformar\" el array, nos devuelve dsitintos resultados de suma. A tener en cuenta. "
   ]
  }
 ],
 "metadata": {
  "kernelspec": {
   "display_name": "Python 3.9.7 ('base')",
   "language": "python",
   "name": "python3"
  },
  "language_info": {
   "codemirror_mode": {
    "name": "ipython",
    "version": 3
   },
   "file_extension": ".py",
   "mimetype": "text/x-python",
   "name": "python",
   "nbconvert_exporter": "python",
   "pygments_lexer": "ipython3",
   "version": "3.9.7"
  },
  "orig_nbformat": 4,
  "vscode": {
   "interpreter": {
    "hash": "8e1f904fe714ccd05b7907fe541d28c2ec20b612a1af6f34d013e1f0fd7aabf1"
   }
  }
 },
 "nbformat": 4,
 "nbformat_minor": 2
}
