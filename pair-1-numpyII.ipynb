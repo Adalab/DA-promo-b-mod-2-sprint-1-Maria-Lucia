{
 "cells": [
  {
   "cell_type": "code",
   "execution_count": 1,
   "metadata": {},
   "outputs": [],
   "source": [
    "import numpy as np"
   ]
  },
  {
   "cell_type": "code",
   "execution_count": 8,
   "metadata": {},
   "outputs": [],
   "source": [
    "# Ejercicio 1\n",
    "array1 = np.random.randint(0,50,(5,3))"
   ]
  },
  {
   "cell_type": "code",
   "execution_count": 9,
   "metadata": {},
   "outputs": [
    {
     "data": {
      "text/plain": [
       "array([[12, 30, 28],\n",
       "       [40,  7,  1],\n",
       "       [47, 41, 17],\n",
       "       [ 5, 22,  0],\n",
       "       [42, 41, 17]])"
      ]
     },
     "execution_count": 9,
     "metadata": {},
     "output_type": "execute_result"
    }
   ],
   "source": [
    "array1"
   ]
  },
  {
   "cell_type": "code",
   "execution_count": 10,
   "metadata": {},
   "outputs": [
    {
     "data": {
      "text/plain": [
       "30"
      ]
     },
     "execution_count": 10,
     "metadata": {},
     "output_type": "execute_result"
    }
   ],
   "source": [
    "array1[0,1]"
   ]
  },
  {
   "cell_type": "code",
   "execution_count": 11,
   "metadata": {},
   "outputs": [
    {
     "data": {
      "text/plain": [
       "array([40,  7])"
      ]
     },
     "execution_count": 11,
     "metadata": {},
     "output_type": "execute_result"
    }
   ],
   "source": [
    "array1[1,:2]"
   ]
  },
  {
   "cell_type": "code",
   "execution_count": 12,
   "metadata": {},
   "outputs": [
    {
     "data": {
      "text/plain": [
       "array([[12, 30, 28],\n",
       "       [47, 41, 17],\n",
       "       [42, 41, 17]])"
      ]
     },
     "execution_count": 12,
     "metadata": {},
     "output_type": "execute_result"
    }
   ],
   "source": [
    "array1[::2,]"
   ]
  },
  {
   "cell_type": "code",
   "execution_count": 13,
   "metadata": {},
   "outputs": [
    {
     "data": {
      "text/plain": [
       "array([[12, 30, 28],\n",
       "       [47, 41, 17],\n",
       "       [42, 41, 17]])"
      ]
     },
     "execution_count": 13,
     "metadata": {},
     "output_type": "execute_result"
    }
   ],
   "source": [
    "# puedes hacerlo de esta forma(sin indicar la coma que separa filas y columnas) y el resultado será el mismo\n",
    "array1[::2]"
   ]
  },
  {
   "cell_type": "code",
   "execution_count": 17,
   "metadata": {},
   "outputs": [
    {
     "data": {
      "text/plain": [
       "array([12, 30, 28, 40,  7,  1, 47, 41, 17,  5, 22, 42, 41, 17])"
      ]
     },
     "execution_count": 17,
     "metadata": {},
     "output_type": "execute_result"
    }
   ],
   "source": [
    "array1[array1 > 0.5]"
   ]
  },
  {
   "cell_type": "code",
   "execution_count": 22,
   "metadata": {},
   "outputs": [
    {
     "data": {
      "text/plain": [
       "array([30, 28, 40,  1, 47, 41, 22,  0, 42, 41])"
      ]
     },
     "execution_count": 22,
     "metadata": {},
     "output_type": "execute_result"
    }
   ],
   "source": [
    "# ojo! las condiciones tienen que ir entre parentesis\n",
    "\n",
    "array1[(array1 < 0.2 )|(array1 > 0.5)]"
   ]
  },
  {
   "cell_type": "code",
   "execution_count": null,
   "metadata": {},
   "outputs": [],
   "source": [
    "array1[(array1 < 3)|(array1 > 20)]"
   ]
  },
  {
   "cell_type": "code",
   "execution_count": 23,
   "metadata": {},
   "outputs": [],
   "source": [
    "# Ejercicio 2\n",
    "\n",
    "array2 = np.random.randint(0,50,(2,5,3))\n",
    "array3 = np.random.randint(0,50,(3,2,5))"
   ]
  },
  {
   "cell_type": "code",
   "execution_count": 26,
   "metadata": {},
   "outputs": [],
   "source": [
    "def definir_propiedades(array):\n",
    "    shape = array.shape\n",
    "    size = array.size\n",
    "    dim = array.ndim\n",
    "    type = array.dtype\n",
    "    print(f\"La forma de tu array es {shape}\")\n",
    "    print(f\"El tamaño de tu array es {size}\")\n",
    "    print(f\"El número de dimensiones de tu array es {dim}\")\n",
    "    print(f\"El tipo de datos de tu array es {type}\")"
   ]
  },
  {
   "cell_type": "code",
   "execution_count": 27,
   "metadata": {},
   "outputs": [
    {
     "name": "stdout",
     "output_type": "stream",
     "text": [
      "La forma de tu array es (2, 5, 3)\n",
      "El tamaño de tu array es 30\n",
      "El número de dimensiones de tu array es 3\n",
      "El tipo de datos de tu array es int64\n"
     ]
    }
   ],
   "source": [
    "definir_propiedades(array2)\n"
   ]
  },
  {
   "cell_type": "code",
   "execution_count": 28,
   "metadata": {},
   "outputs": [
    {
     "name": "stdout",
     "output_type": "stream",
     "text": [
      "La forma de tu array es (3, 2, 5)\n",
      "El tamaño de tu array es 30\n",
      "El número de dimensiones de tu array es 3\n",
      "El tipo de datos de tu array es int64\n"
     ]
    }
   ],
   "source": [
    "definir_propiedades(array3)"
   ]
  },
  {
   "cell_type": "code",
   "execution_count": 29,
   "metadata": {},
   "outputs": [
    {
     "ename": "ValueError",
     "evalue": "operands could not be broadcast together with shapes (2,5,3) (3,2,5) ",
     "output_type": "error",
     "traceback": [
      "\u001b[0;31m---------------------------------------------------------------------------\u001b[0m",
      "\u001b[0;31mValueError\u001b[0m                                Traceback (most recent call last)",
      "\u001b[0;32m/tmp/ipykernel_8965/4065971015.py\u001b[0m in \u001b[0;36m<module>\u001b[0;34m\u001b[0m\n\u001b[1;32m      1\u001b[0m \u001b[0;31m# Creemos que no nos va a dejar porque la forma es diferente. Solo podemos sumar arrays con formas iguales.\u001b[0m\u001b[0;34m\u001b[0m\u001b[0;34m\u001b[0m\u001b[0m\n\u001b[0;32m----> 2\u001b[0;31m \u001b[0msuma\u001b[0m \u001b[0;34m=\u001b[0m \u001b[0marray2\u001b[0m \u001b[0;34m+\u001b[0m \u001b[0marray3\u001b[0m\u001b[0;34m\u001b[0m\u001b[0;34m\u001b[0m\u001b[0m\n\u001b[0m",
      "\u001b[0;31mValueError\u001b[0m: operands could not be broadcast together with shapes (2,5,3) (3,2,5) "
     ]
    }
   ],
   "source": [
    "# Creemos que no nos va a dejar porque la forma es diferente. Solo podemos sumar arrays con formas iguales.\n",
    "suma = array2 + array3"
   ]
  },
  {
   "cell_type": "code",
   "execution_count": 41,
   "metadata": {},
   "outputs": [
    {
     "data": {
      "text/plain": [
       "array([[[47, 15, 20],\n",
       "        [27, 28, 20],\n",
       "        [ 0, 13, 43],\n",
       "        [14, 35, 40],\n",
       "        [15, 37, 22]],\n",
       "\n",
       "       [[21, 42,  5],\n",
       "        [ 1, 10, 28],\n",
       "        [13, 48, 30],\n",
       "        [32, 24, 34],\n",
       "        [10, 42, 38]]])"
      ]
     },
     "execution_count": 41,
     "metadata": {},
     "output_type": "execute_result"
    }
   ],
   "source": [
    "array2"
   ]
  },
  {
   "cell_type": "code",
   "execution_count": 43,
   "metadata": {},
   "outputs": [
    {
     "data": {
      "text/plain": [
       "array([[[47, 27,  0, 14, 15],\n",
       "        [21,  1, 13, 32, 10]],\n",
       "\n",
       "       [[15, 28, 13, 35, 37],\n",
       "        [42, 10, 48, 24, 42]],\n",
       "\n",
       "       [[20, 20, 43, 40, 22],\n",
       "        [ 5, 28, 30, 34, 38]]])"
      ]
     },
     "execution_count": 43,
     "metadata": {},
     "output_type": "execute_result"
    }
   ],
   "source": [
    "# hemos cambiado el número de arrays por el número de filas, el número de filas por el número de columnas y el número de columnas por el número de arrays. \n",
    "array2_con_transpose = np.transpose(array2,(2,0,1))\n",
    "array2_con_transpose"
   ]
  },
  {
   "cell_type": "code",
   "execution_count": null,
   "metadata": {},
   "outputs": [],
   "source": [
    "suma =  array2_con_transpose + array3\n",
    "suma"
   ]
  },
  {
   "cell_type": "code",
   "execution_count": 42,
   "metadata": {},
   "outputs": [
    {
     "data": {
      "text/plain": [
       "array([[[47, 15, 20],\n",
       "        [27, 28, 20],\n",
       "        [ 0, 13, 43],\n",
       "        [14, 35, 40],\n",
       "        [15, 37, 22]],\n",
       "\n",
       "       [[21, 42,  5],\n",
       "        [ 1, 10, 28],\n",
       "        [13, 48, 30],\n",
       "        [32, 24, 34],\n",
       "        [10, 42, 38]]])"
      ]
     },
     "execution_count": 42,
     "metadata": {},
     "output_type": "execute_result"
    }
   ],
   "source": [
    "array2"
   ]
  },
  {
   "cell_type": "code",
   "execution_count": 40,
   "metadata": {},
   "outputs": [
    {
     "data": {
      "text/plain": [
       "array([[[47, 15, 20, 27, 28],\n",
       "        [20,  0, 13, 43, 14]],\n",
       "\n",
       "       [[35, 40, 15, 37, 22],\n",
       "        [21, 42,  5,  1, 10]],\n",
       "\n",
       "       [[28, 13, 48, 30, 32],\n",
       "        [24, 34, 10, 42, 38]]])"
      ]
     },
     "execution_count": 40,
     "metadata": {},
     "output_type": "execute_result"
    }
   ],
   "source": [
    "# coge de uno en uno los elementos del array y los ubica dentro de la \"nueva forma\" que le hemos definido. Lo hace de modo \"literal\" sin seguir una lógica de ejes.\n",
    "array2_con_reshape = np.reshape(array2,(3,2,5))\n",
    "array2_con_reshape"
   ]
  },
  {
   "cell_type": "code",
   "execution_count": null,
   "metadata": {},
   "outputs": [],
   "source": [
    "suma_reshape = array2_con_reshape + array3\n",
    "suma_reshape"
   ]
  }
 ],
 "metadata": {
  "kernelspec": {
   "display_name": "Python 3.9.7 ('base')",
   "language": "python",
   "name": "python3"
  },
  "language_info": {
   "codemirror_mode": {
    "name": "ipython",
    "version": 3
   },
   "file_extension": ".py",
   "mimetype": "text/x-python",
   "name": "python",
   "nbconvert_exporter": "python",
   "pygments_lexer": "ipython3",
   "version": "3.9.7"
  },
  "orig_nbformat": 4,
  "vscode": {
   "interpreter": {
    "hash": "8e1f904fe714ccd05b7907fe541d28c2ec20b612a1af6f34d013e1f0fd7aabf1"
   }
  }
 },
 "nbformat": 4,
 "nbformat_minor": 2
}
