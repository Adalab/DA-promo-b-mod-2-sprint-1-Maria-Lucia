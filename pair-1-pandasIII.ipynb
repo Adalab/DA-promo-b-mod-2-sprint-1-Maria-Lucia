{
 "cells": [
  {
   "cell_type": "code",
   "execution_count": null,
   "metadata": {},
   "outputs": [],
   "source": [
    "import pandas as pd"
   ]
  },
  {
   "cell_type": "code",
   "execution_count": null,
   "metadata": {},
   "outputs": [],
   "source": [
    "# 1 Cargar dataset (OJO con el encoding)\n",
    "\n",
    "tiburones = pd.read_csv(\"./ficheros_pandas/attacks.csv\")\n",
    "\n",
    "tiburones\n"
   ]
  },
  {
   "cell_type": "code",
   "execution_count": null,
   "metadata": {},
   "outputs": [],
   "source": [
    "# 2 Exploración básica del DataFrame:\n",
    "# ¿Cuántas filas y columnas tiene el DataFrame?\n",
    "tiburones.shape"
   ]
  },
  {
   "cell_type": "code",
   "execution_count": null,
   "metadata": {},
   "outputs": [],
   "source": [
    "# Mostrad las primeras cinco filas y las últimas cinco filas del DataFrame.\n",
    "tiburones.head()\n"
   ]
  },
  {
   "cell_type": "code",
   "execution_count": null,
   "metadata": {},
   "outputs": [],
   "source": [
    "tiburones.tail(5)"
   ]
  },
  {
   "cell_type": "code",
   "execution_count": null,
   "metadata": {},
   "outputs": [],
   "source": [
    "# Mostrad 2 filas al azar del DataFrame.\n",
    "tiburones.sample(2)"
   ]
  },
  {
   "cell_type": "code",
   "execution_count": null,
   "metadata": {},
   "outputs": [],
   "source": [
    "# ¿Cuál es el nombre de las columnas del DataFrame?\n",
    "tiburones.columns"
   ]
  },
  {
   "cell_type": "code",
   "execution_count": null,
   "metadata": {},
   "outputs": [],
   "source": [
    "tiburones.dtypes"
   ]
  },
  {
   "cell_type": "code",
   "execution_count": null,
   "metadata": {},
   "outputs": [],
   "source": [
    "# ¿Cuáles son los principales estádisticos del DataFrame? Mostrad por separado las variables categóricas y las variables numéricas.\n",
    "tiburones.describe()"
   ]
  },
  {
   "cell_type": "code",
   "execution_count": 84,
   "metadata": {},
   "outputs": [],
   "source": [
    "categoricas = tiburones.select_dtypes(include = \"object\")\n",
    "numericas = tiburones.select_dtypes(exclude = \"object\")\n"
   ]
  },
  {
   "cell_type": "code",
   "execution_count": 85,
   "metadata": {},
   "outputs": [],
   "source": [
    "# ¿Cuál es el porcentaje de valores nulos en cada columna?\n",
    "valores_nulos = tiburones.isna().sum()\n",
    "\n",
    "valores = []\n",
    "\n",
    "for i in valores_nulos:\n",
    "    \n",
    "    porcentaje = i * 100 / tiburones.shape[0]\n",
    "    valores.append(porcentaje)\n",
    "\n"
   ]
  },
  {
   "cell_type": "code",
   "execution_count": null,
   "metadata": {},
   "outputs": [],
   "source": [
    "tib_porcentaje = pd.DataFrame(valores, index = valores_nulos.index)\n",
    "tib_porcentaje"
   ]
  },
  {
   "cell_type": "code",
   "execution_count": 87,
   "metadata": {},
   "outputs": [],
   "source": [
    "# Sacad los valores únicos y su frecuencia de las variables numéricas. Almacenad los resultados en un diccionario. Uno para cada variable.\n",
    "#tiburones[\"Unnamed: 0\",\"Year\",\"original order\"].unique()\n",
    "\n",
    "var1_dict = dict(tiburones[\"Unnamed: 0\"].value_counts())\n",
    "var2_dict = dict(tiburones[\"Year\"].value_counts())\n",
    "var3_dict = dict(tiburones[\"original order\"].value_counts())"
   ]
  },
  {
   "cell_type": "code",
   "execution_count": 88,
   "metadata": {},
   "outputs": [],
   "source": [
    "\"\"\"\n",
    "Hemos decidido hacer este ejercicio primero para que sean los nombres originales\n",
    "\"\"\"\n",
    "# Eliminad las columnas de Unnamed: 22 y Unnamed: 23, Case Number.1, Case Number.2, original order, Investigator or Source, pdf, href formula.\n",
    "\n",
    "para_borrar = [\"Unnamed: 22\", \"Unnamed: 23\", \"Case Number.1\", \"Case Number.2\", \"original order\", \"Investigator or Source\", \"pdf\", \"href formula\"]\n",
    "\n",
    "for i in para_borrar:\n",
    "    \n",
    "    tiburones.drop(i, axis=1, inplace=True)\n"
   ]
  },
  {
   "cell_type": "code",
   "execution_count": null,
   "metadata": {},
   "outputs": [],
   "source": [
    "# Cambiad el nombre de las columnas para que todas estén en minúsculas y reemplazad los espacios por _.\n",
    "df_columnas_nuevas = {col: col.replace(\" \",\"_\").lower() for col in tiburones.columns}\n",
    "tiburones.rename(columns = df_columnas_nuevas, inplace = True)\n",
    "tiburones"
   ]
  },
  {
   "cell_type": "code",
   "execution_count": 90,
   "metadata": {},
   "outputs": [
    {
     "data": {
      "text/plain": [
       "Index(['unnamed:_0', 'case_number', 'year', 'type', 'country', 'area',\n",
       "       'location', 'activity', 'name', 'sex_', 'age', 'time', 'species_',\n",
       "       'href'],\n",
       "      dtype='object')"
      ]
     },
     "execution_count": 90,
     "metadata": {},
     "output_type": "execute_result"
    }
   ],
   "source": [
    "tiburones.columns"
   ]
  },
  {
   "cell_type": "code",
   "execution_count": 91,
   "metadata": {},
   "outputs": [],
   "source": [
    "# Guarda el csv que no tiene esas columnas para seguir usándolo mañana.\n",
    "tiburones.to_csv(\"./ficheros_pandas/tiburones.csv\")\n"
   ]
  }
 ],
 "metadata": {
  "kernelspec": {
   "display_name": "Python 3.9.7 ('base')",
   "language": "python",
   "name": "python3"
  },
  "language_info": {
   "codemirror_mode": {
    "name": "ipython",
    "version": 3
   },
   "file_extension": ".py",
   "mimetype": "text/x-python",
   "name": "python",
   "nbconvert_exporter": "python",
   "pygments_lexer": "ipython3",
   "version": "3.9.7"
  },
  "orig_nbformat": 4,
  "vscode": {
   "interpreter": {
    "hash": "8e1f904fe714ccd05b7907fe541d28c2ec20b612a1af6f34d013e1f0fd7aabf1"
   }
  }
 },
 "nbformat": 4,
 "nbformat_minor": 2
}
