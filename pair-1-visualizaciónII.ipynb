{
 "cells": [
  {
   "cell_type": "code",
   "execution_count": 21,
   "metadata": {},
   "outputs": [],
   "source": [
    "import pandas as pd\n",
    "import numpy as np\n",
    "import matplotlib.pyplot as plt"
   ]
  },
  {
   "cell_type": "code",
   "execution_count": 22,
   "metadata": {},
   "outputs": [],
   "source": [
    "df_tiburones = pd.read_csv(\"./ficheros_pandas/info_tiburones.csv\")"
   ]
  },
  {
   "cell_type": "code",
   "execution_count": 23,
   "metadata": {},
   "outputs": [
    {
     "data": {
      "text/html": [
       "<div>\n",
       "<style scoped>\n",
       "    .dataframe tbody tr th:only-of-type {\n",
       "        vertical-align: middle;\n",
       "    }\n",
       "\n",
       "    .dataframe tbody tr th {\n",
       "        vertical-align: top;\n",
       "    }\n",
       "\n",
       "    .dataframe thead th {\n",
       "        text-align: right;\n",
       "    }\n",
       "</style>\n",
       "<table border=\"1\" class=\"dataframe\">\n",
       "  <thead>\n",
       "    <tr style=\"text-align: right;\">\n",
       "      <th></th>\n",
       "      <th>case_number</th>\n",
       "      <th>Fatal (Y/N)</th>\n",
       "      <th>Injury</th>\n",
       "      <th>Date</th>\n",
       "      <th>year</th>\n",
       "      <th>type</th>\n",
       "      <th>country</th>\n",
       "      <th>area</th>\n",
       "      <th>location</th>\n",
       "      <th>activity</th>\n",
       "      <th>...</th>\n",
       "      <th>age</th>\n",
       "      <th>time</th>\n",
       "      <th>species_</th>\n",
       "      <th>href</th>\n",
       "      <th>Investigator or Source</th>\n",
       "      <th>pdf</th>\n",
       "      <th>href formula</th>\n",
       "      <th>Case Number.1</th>\n",
       "      <th>Case Number.2</th>\n",
       "      <th>original order</th>\n",
       "    </tr>\n",
       "  </thead>\n",
       "  <tbody>\n",
       "    <tr>\n",
       "      <th>0</th>\n",
       "      <td>2018.06.25</td>\n",
       "      <td>N</td>\n",
       "      <td>No injury to occupant, outrigger canoe and pad...</td>\n",
       "      <td>25-Jun-2018</td>\n",
       "      <td>2018.0</td>\n",
       "      <td>Boating</td>\n",
       "      <td>USA</td>\n",
       "      <td>California</td>\n",
       "      <td>Oceanside, San Diego County</td>\n",
       "      <td>Paddling</td>\n",
       "      <td>...</td>\n",
       "      <td>57</td>\n",
       "      <td>18h00</td>\n",
       "      <td>White shark</td>\n",
       "      <td>http://sharkattackfile.net/spreadsheets/pdf_di...</td>\n",
       "      <td>NaN</td>\n",
       "      <td>NaN</td>\n",
       "      <td>NaN</td>\n",
       "      <td>NaN</td>\n",
       "      <td>NaN</td>\n",
       "      <td>NaN</td>\n",
       "    </tr>\n",
       "    <tr>\n",
       "      <th>1</th>\n",
       "      <td>2018.06.18</td>\n",
       "      <td>N</td>\n",
       "      <td>Minor injury to left thigh</td>\n",
       "      <td>18-Jun-2018</td>\n",
       "      <td>2018.0</td>\n",
       "      <td>Unprovoked</td>\n",
       "      <td>USA</td>\n",
       "      <td>Georgia</td>\n",
       "      <td>St. Simon Island, Glynn County</td>\n",
       "      <td>Standing</td>\n",
       "      <td>...</td>\n",
       "      <td>11</td>\n",
       "      <td>14h00  -15h00</td>\n",
       "      <td>NaN</td>\n",
       "      <td>http://sharkattackfile.net/spreadsheets/pdf_di...</td>\n",
       "      <td>NaN</td>\n",
       "      <td>NaN</td>\n",
       "      <td>NaN</td>\n",
       "      <td>NaN</td>\n",
       "      <td>NaN</td>\n",
       "      <td>NaN</td>\n",
       "    </tr>\n",
       "    <tr>\n",
       "      <th>2</th>\n",
       "      <td>2018.06.09</td>\n",
       "      <td>N</td>\n",
       "      <td>Injury to left lower leg from surfboard skeg</td>\n",
       "      <td>09-Jun-2018</td>\n",
       "      <td>2018.0</td>\n",
       "      <td>Invalid</td>\n",
       "      <td>USA</td>\n",
       "      <td>Hawaii</td>\n",
       "      <td>Habush, Oahu</td>\n",
       "      <td>Surfing</td>\n",
       "      <td>...</td>\n",
       "      <td>48</td>\n",
       "      <td>07h45</td>\n",
       "      <td>NaN</td>\n",
       "      <td>http://sharkattackfile.net/spreadsheets/pdf_di...</td>\n",
       "      <td>NaN</td>\n",
       "      <td>NaN</td>\n",
       "      <td>NaN</td>\n",
       "      <td>NaN</td>\n",
       "      <td>NaN</td>\n",
       "      <td>NaN</td>\n",
       "    </tr>\n",
       "    <tr>\n",
       "      <th>3</th>\n",
       "      <td>2018.06.08</td>\n",
       "      <td>N</td>\n",
       "      <td>Minor injury to lower leg</td>\n",
       "      <td>08-Jun-2018</td>\n",
       "      <td>2018.0</td>\n",
       "      <td>Unprovoked</td>\n",
       "      <td>AUSTRALIA</td>\n",
       "      <td>New South Wales</td>\n",
       "      <td>Arrawarra Headland</td>\n",
       "      <td>Surfing</td>\n",
       "      <td>...</td>\n",
       "      <td>NaN</td>\n",
       "      <td>NaN</td>\n",
       "      <td>2 m shark</td>\n",
       "      <td>http://sharkattackfile.net/spreadsheets/pdf_di...</td>\n",
       "      <td>NaN</td>\n",
       "      <td>NaN</td>\n",
       "      <td>NaN</td>\n",
       "      <td>NaN</td>\n",
       "      <td>NaN</td>\n",
       "      <td>NaN</td>\n",
       "    </tr>\n",
       "    <tr>\n",
       "      <th>4</th>\n",
       "      <td>2018.06.04</td>\n",
       "      <td>N</td>\n",
       "      <td>Lacerations to leg &amp; hand shark PROVOKED INCIDENT</td>\n",
       "      <td>04-Jun-2018</td>\n",
       "      <td>2018.0</td>\n",
       "      <td>Provoked</td>\n",
       "      <td>MEXICO</td>\n",
       "      <td>Colima</td>\n",
       "      <td>La Ticla</td>\n",
       "      <td>Free diving</td>\n",
       "      <td>...</td>\n",
       "      <td>NaN</td>\n",
       "      <td>NaN</td>\n",
       "      <td>Tiger shark, 3m</td>\n",
       "      <td>http://sharkattackfile.net/spreadsheets/pdf_di...</td>\n",
       "      <td>NaN</td>\n",
       "      <td>NaN</td>\n",
       "      <td>NaN</td>\n",
       "      <td>NaN</td>\n",
       "      <td>NaN</td>\n",
       "      <td>NaN</td>\n",
       "    </tr>\n",
       "  </tbody>\n",
       "</table>\n",
       "<p>5 rows × 22 columns</p>\n",
       "</div>"
      ],
      "text/plain": [
       "  case_number Fatal (Y/N)                                             Injury  \\\n",
       "0  2018.06.25           N  No injury to occupant, outrigger canoe and pad...   \n",
       "1  2018.06.18           N                         Minor injury to left thigh   \n",
       "2  2018.06.09           N       Injury to left lower leg from surfboard skeg   \n",
       "3  2018.06.08           N                          Minor injury to lower leg   \n",
       "4  2018.06.04           N  Lacerations to leg & hand shark PROVOKED INCIDENT   \n",
       "\n",
       "          Date    year        type    country             area  \\\n",
       "0  25-Jun-2018  2018.0     Boating        USA       California   \n",
       "1  18-Jun-2018  2018.0  Unprovoked        USA          Georgia   \n",
       "2  09-Jun-2018  2018.0     Invalid        USA           Hawaii   \n",
       "3  08-Jun-2018  2018.0  Unprovoked  AUSTRALIA  New South Wales   \n",
       "4  04-Jun-2018  2018.0    Provoked     MEXICO           Colima   \n",
       "\n",
       "                         location     activity  ...  age           time  \\\n",
       "0     Oceanside, San Diego County     Paddling  ...   57          18h00   \n",
       "1  St. Simon Island, Glynn County     Standing  ...   11  14h00  -15h00   \n",
       "2                    Habush, Oahu      Surfing  ...   48          07h45   \n",
       "3              Arrawarra Headland      Surfing  ...  NaN            NaN   \n",
       "4                        La Ticla  Free diving  ...  NaN            NaN   \n",
       "\n",
       "          species_                                               href  \\\n",
       "0      White shark  http://sharkattackfile.net/spreadsheets/pdf_di...   \n",
       "1              NaN  http://sharkattackfile.net/spreadsheets/pdf_di...   \n",
       "2              NaN  http://sharkattackfile.net/spreadsheets/pdf_di...   \n",
       "3        2 m shark  http://sharkattackfile.net/spreadsheets/pdf_di...   \n",
       "4  Tiger shark, 3m  http://sharkattackfile.net/spreadsheets/pdf_di...   \n",
       "\n",
       "  Investigator or Source  pdf href formula Case Number.1 Case Number.2  \\\n",
       "0                    NaN  NaN          NaN           NaN           NaN   \n",
       "1                    NaN  NaN          NaN           NaN           NaN   \n",
       "2                    NaN  NaN          NaN           NaN           NaN   \n",
       "3                    NaN  NaN          NaN           NaN           NaN   \n",
       "4                    NaN  NaN          NaN           NaN           NaN   \n",
       "\n",
       "  original order  \n",
       "0            NaN  \n",
       "1            NaN  \n",
       "2            NaN  \n",
       "3            NaN  \n",
       "4            NaN  \n",
       "\n",
       "[5 rows x 22 columns]"
      ]
     },
     "execution_count": 23,
     "metadata": {},
     "output_type": "execute_result"
    }
   ],
   "source": [
    "df_tiburones.head()"
   ]
  },
  {
   "cell_type": "code",
   "execution_count": 24,
   "metadata": {},
   "outputs": [],
   "source": [
    "# Ejercicio 1\n",
    "#Ayer creamos un par de gráficas para USA y España, donde visualizamos el número de ataques en cada \n",
    "#país a lo largo de los años y el tipo de los ataques. Hoy tendréis que hacer dos gráficas con subplots:\n",
    "#En la primera debéis mostrar los tipos ataques en USA y España, cada subplot corresponderá a un país. Debéis.\n",
    "# En la segunda debéis mostrar los ataques por año para cada uno de los países."
   ]
  },
  {
   "cell_type": "code",
   "execution_count": 25,
   "metadata": {},
   "outputs": [],
   "source": [
    "# primero hacemos un filtro para ataques en USA y en España\n",
    "\n",
    "ataques_usa = df_tiburones[df_tiburones[\"country\"] == \"USA\"]\n",
    "ataques_spain = df_tiburones[df_tiburones[\"country\"] == \"SPAIN\"]"
   ]
  },
  {
   "cell_type": "code",
   "execution_count": 26,
   "metadata": {},
   "outputs": [
    {
     "data": {
      "text/html": [
       "<div>\n",
       "<style scoped>\n",
       "    .dataframe tbody tr th:only-of-type {\n",
       "        vertical-align: middle;\n",
       "    }\n",
       "\n",
       "    .dataframe tbody tr th {\n",
       "        vertical-align: top;\n",
       "    }\n",
       "\n",
       "    .dataframe thead th {\n",
       "        text-align: right;\n",
       "    }\n",
       "</style>\n",
       "<table border=\"1\" class=\"dataframe\">\n",
       "  <thead>\n",
       "    <tr style=\"text-align: right;\">\n",
       "      <th></th>\n",
       "      <th>case_number</th>\n",
       "      <th>Fatal (Y/N)</th>\n",
       "      <th>Injury</th>\n",
       "      <th>Date</th>\n",
       "      <th>year</th>\n",
       "      <th>type</th>\n",
       "      <th>country</th>\n",
       "      <th>area</th>\n",
       "      <th>location</th>\n",
       "      <th>activity</th>\n",
       "      <th>...</th>\n",
       "      <th>age</th>\n",
       "      <th>time</th>\n",
       "      <th>species_</th>\n",
       "      <th>href</th>\n",
       "      <th>Investigator or Source</th>\n",
       "      <th>pdf</th>\n",
       "      <th>href formula</th>\n",
       "      <th>Case Number.1</th>\n",
       "      <th>Case Number.2</th>\n",
       "      <th>original order</th>\n",
       "    </tr>\n",
       "  </thead>\n",
       "  <tbody>\n",
       "    <tr>\n",
       "      <th>0</th>\n",
       "      <td>2018.06.25</td>\n",
       "      <td>N</td>\n",
       "      <td>No injury to occupant, outrigger canoe and pad...</td>\n",
       "      <td>25-Jun-2018</td>\n",
       "      <td>2018.0</td>\n",
       "      <td>Boating</td>\n",
       "      <td>USA</td>\n",
       "      <td>California</td>\n",
       "      <td>Oceanside, San Diego County</td>\n",
       "      <td>Paddling</td>\n",
       "      <td>...</td>\n",
       "      <td>57</td>\n",
       "      <td>18h00</td>\n",
       "      <td>White shark</td>\n",
       "      <td>http://sharkattackfile.net/spreadsheets/pdf_di...</td>\n",
       "      <td>NaN</td>\n",
       "      <td>NaN</td>\n",
       "      <td>NaN</td>\n",
       "      <td>NaN</td>\n",
       "      <td>NaN</td>\n",
       "      <td>NaN</td>\n",
       "    </tr>\n",
       "    <tr>\n",
       "      <th>1</th>\n",
       "      <td>2018.06.18</td>\n",
       "      <td>N</td>\n",
       "      <td>Minor injury to left thigh</td>\n",
       "      <td>18-Jun-2018</td>\n",
       "      <td>2018.0</td>\n",
       "      <td>Unprovoked</td>\n",
       "      <td>USA</td>\n",
       "      <td>Georgia</td>\n",
       "      <td>St. Simon Island, Glynn County</td>\n",
       "      <td>Standing</td>\n",
       "      <td>...</td>\n",
       "      <td>11</td>\n",
       "      <td>14h00  -15h00</td>\n",
       "      <td>NaN</td>\n",
       "      <td>http://sharkattackfile.net/spreadsheets/pdf_di...</td>\n",
       "      <td>NaN</td>\n",
       "      <td>NaN</td>\n",
       "      <td>NaN</td>\n",
       "      <td>NaN</td>\n",
       "      <td>NaN</td>\n",
       "      <td>NaN</td>\n",
       "    </tr>\n",
       "  </tbody>\n",
       "</table>\n",
       "<p>2 rows × 22 columns</p>\n",
       "</div>"
      ],
      "text/plain": [
       "  case_number Fatal (Y/N)                                             Injury  \\\n",
       "0  2018.06.25           N  No injury to occupant, outrigger canoe and pad...   \n",
       "1  2018.06.18           N                         Minor injury to left thigh   \n",
       "\n",
       "          Date    year        type country        area  \\\n",
       "0  25-Jun-2018  2018.0     Boating     USA  California   \n",
       "1  18-Jun-2018  2018.0  Unprovoked     USA     Georgia   \n",
       "\n",
       "                         location  activity  ... age           time  \\\n",
       "0     Oceanside, San Diego County  Paddling  ...  57          18h00   \n",
       "1  St. Simon Island, Glynn County  Standing  ...  11  14h00  -15h00   \n",
       "\n",
       "      species_                                               href  \\\n",
       "0  White shark  http://sharkattackfile.net/spreadsheets/pdf_di...   \n",
       "1          NaN  http://sharkattackfile.net/spreadsheets/pdf_di...   \n",
       "\n",
       "  Investigator or Source  pdf href formula Case Number.1 Case Number.2  \\\n",
       "0                    NaN  NaN          NaN           NaN           NaN   \n",
       "1                    NaN  NaN          NaN           NaN           NaN   \n",
       "\n",
       "  original order  \n",
       "0            NaN  \n",
       "1            NaN  \n",
       "\n",
       "[2 rows x 22 columns]"
      ]
     },
     "execution_count": 26,
     "metadata": {},
     "output_type": "execute_result"
    }
   ],
   "source": [
    "ataques_usa.head(2)"
   ]
  },
  {
   "cell_type": "code",
   "execution_count": 27,
   "metadata": {},
   "outputs": [
    {
     "data": {
      "text/plain": [
       "Unprovoked      1717\n",
       "Provoked         206\n",
       "Invalid          192\n",
       "Boating           52\n",
       "Sea Disaster      32\n",
       "Boat              23\n",
       "Name: type, dtype: int64"
      ]
     },
     "execution_count": 27,
     "metadata": {},
     "output_type": "execute_result"
    }
   ],
   "source": [
    "type1 = ataques_usa[\"type\"].value_counts()\n",
    "type1"
   ]
  },
  {
   "cell_type": "code",
   "execution_count": 28,
   "metadata": {},
   "outputs": [
    {
     "data": {
      "text/plain": [
       "Unprovoked    28\n",
       "Invalid       10\n",
       "Provoked       5\n",
       "Boating        1\n",
       "Name: type, dtype: int64"
      ]
     },
     "execution_count": 28,
     "metadata": {},
     "output_type": "execute_result"
    }
   ],
   "source": [
    "type2 = ataques_spain[\"type\"].value_counts()\n",
    "type2"
   ]
  },
  {
   "cell_type": "code",
   "execution_count": 29,
   "metadata": {},
   "outputs": [
    {
     "data": {
      "text/plain": [
       "<function matplotlib.pyplot.show(close=None, block=None)>"
      ]
     },
     "execution_count": 29,
     "metadata": {},
     "output_type": "execute_result"
    },
    {
     "data": {
      "image/png": "[encoded data removed]",
      "text/plain": [
       "<Figure size 1080x360 with 2 Axes>"
      ]
     },
     "metadata": {
      "needs_background": "light"
     },
     "output_type": "display_data"
    }
   ],
   "source": [
    "# Poner nombre a los ejes de cada uno de los subplots\n",
    "\n",
    "\n",
    "fig, ax= plt.subplots(1,2, figsize = (15,5))\n",
    "\n",
    "x1 = type1.index\n",
    "y1 = type1.values\n",
    "x2 = type2.index\n",
    "y2 = type2.values\n",
    "\n",
    "ax[0].plot(x1,y1, marker = \"o\", markersize = 10, color = \"r\")\n",
    "ax[0].set_title(\"Naturaleza de los ataques de tiburones en USA\") #el título de la gráfica\n",
    "ax[0].set_xlabel(\"Tipos de ataque\") # etiqueta del eje x\n",
    "ax[0].set_ylabel(\"Num. de ataques\") # etiqueta del eje y\n",
    "ax[0].grid(color = \"black\")\n",
    "\n",
    "ax[1].plot(x2,y2, marker = \"o\", markersize = 10, color = \"r\")\n",
    "ax[1].set_title(\"Naturaleza de los ataques de tiburones en SPAIN\") #el título de la gráfica\n",
    "ax[1].set_xlabel(\"Tipos de ataque\") # etiqueta del eje x\n",
    "ax[1].set_ylabel(\"Num. de ataques\") # etiqueta del eje y\n",
    "ax[1].grid(color = \"black\")\n",
    "\n",
    "plt.savefig('./visualizacion_2/imagen01a.png')\n",
    "\n",
    "plt.show"
   ]
  },
  {
   "cell_type": "code",
   "execution_count": 30,
   "metadata": {},
   "outputs": [
    {
     "data": {
      "text/plain": [
       "2015.0    73\n",
       "2007.0    66\n",
       "2017.0    65\n",
       "2014.0    65\n",
       "2016.0    64\n",
       "          ..\n",
       "1862.0     1\n",
       "1860.0     1\n",
       "1859.0     1\n",
       "1857.0     1\n",
       "1927.0     1\n",
       "Name: year, Length: 180, dtype: int64"
      ]
     },
     "execution_count": 30,
     "metadata": {},
     "output_type": "execute_result"
    }
   ],
   "source": [
    "type3 = ataques_usa[\"year\"].value_counts()\n",
    "type3"
   ]
  },
  {
   "cell_type": "code",
   "execution_count": 31,
   "metadata": {},
   "outputs": [
    {
     "data": {
      "text/plain": [
       "1862.0    5\n",
       "2017.0    4\n",
       "2014.0    4\n",
       "1908.0    2\n",
       "2015.0    2\n",
       "2016.0    2\n",
       "1986.0    2\n",
       "1912.0    1\n",
       "1911.0    1\n",
       "1909.0    1\n",
       "1864.0    1\n",
       "1879.0    1\n",
       "1924.0    1\n",
       "1836.0    1\n",
       "1819.0    1\n",
       "1764.0    1\n",
       "1916.0    1\n",
       "1926.0    1\n",
       "1925.0    1\n",
       "1929.0    1\n",
       "1930.0    1\n",
       "1962.0    1\n",
       "1970.0    1\n",
       "1980.0    1\n",
       "1993.0    1\n",
       "2006.0    1\n",
       "2009.0    1\n",
       "2010.0    1\n",
       "2013.0    1\n",
       "0.0       1\n",
       "Name: year, dtype: int64"
      ]
     },
     "execution_count": 31,
     "metadata": {},
     "output_type": "execute_result"
    }
   ],
   "source": [
    "type4 = ataques_spain[\"year\"].value_counts()\n",
    "type4"
   ]
  },
  {
   "cell_type": "code",
   "execution_count": 32,
   "metadata": {},
   "outputs": [
    {
     "data": {
      "text/plain": [
       "<function matplotlib.pyplot.show(close=None, block=None)>"
      ]
     },
     "execution_count": 32,
     "metadata": {},
     "output_type": "execute_result"
    },
    {
     "data": {
      "image/png": "[encoded data removed]",
      "text/plain": [
       "<Figure size 1080x720 with 2 Axes>"
      ]
     },
     "metadata": {
      "needs_background": "light"
     },
     "output_type": "display_data"
    }
   ],
   "source": [
    "fig, ax= plt.subplots(2,1, figsize = (15,10))\n",
    "\n",
    "x3 = type3.index\n",
    "y3 = type3.values\n",
    "x4 = type4.index\n",
    "y4 = type4.values\n",
    "\n",
    "ax[0].bar(x3,y3, color = \"g\")\n",
    "ax[0].set_title(\"Evolución a lo largo del tiempo de los ataques en USA\") #el título de la gráfica\n",
    "ax[0].set_xlabel(\"Años\") # etiqueta del eje x\n",
    "ax[0].set_ylabel(\"Num. de ataques\") # etiqueta del eje y\n",
    "ax[0].grid(color = \"black\")\n",
    "\n",
    "ax[1].bar(x4,y4, color = \"b\")\n",
    "ax[1].set_title(\"Evolución a lo largo del tiempo de los ataques en Spain\") #el título de la gráfica\n",
    "ax[1].set_xlabel(\"Años\") # etiqueta del eje x\n",
    "ax[1].set_ylabel(\"Num. de ataques\") # etiqueta del eje y\n",
    "ax[1].grid(color = \"black\")\n",
    "\n",
    "plt.savefig('./visualizacion_2/imagen01b.png')\n",
    "\n",
    "plt.show"
   ]
  },
  {
   "cell_type": "code",
   "execution_count": 33,
   "metadata": {},
   "outputs": [],
   "source": [
    "# Ejercicio 2. Cread un único gráfico donde juntéis las gráficas de los tipos de ataques en una sola. Debéis:\n",
    "# Poner leyenda a la gráfica\n",
    "# Cada línea debe ir en un color\n",
    "# Ponerle nombre a los ejes y a la gráfica.\n",
    "# Poner marcadores a las lineas."
   ]
  },
  {
   "cell_type": "code",
   "execution_count": 35,
   "metadata": {},
   "outputs": [
    {
     "data": {
      "text/plain": [
       "<function matplotlib.pyplot.show(close=None, block=None)>"
      ]
     },
     "execution_count": 35,
     "metadata": {},
     "output_type": "execute_result"
    },
    {
     "data": {
      "image/png": "[encoded data removed]",
      "text/plain": [
       "<Figure size 1080x360 with 1 Axes>"
      ]
     },
     "metadata": {
      "needs_background": "light"
     },
     "output_type": "display_data"
    }
   ],
   "source": [
    "\n",
    "fig, ax= plt.subplots(figsize = (15,5))\n",
    "\n",
    "x1 = type1.index\n",
    "y1 = type1.values\n",
    "x2 = type2.index\n",
    "y2 = type2.values\n",
    "\n",
    "ax.plot(x1,y1, marker = \"X\", markersize = 10, color = \"g\")\n",
    "ax.plot(x2,y2, marker = \"o\", markersize = 10, color = \"b\")\n",
    "ax.set_title(\"Naturaleza de los ataques de tiburones en USA\") #el título de la gráfica\n",
    "ax.set_xlabel(\"Tipos de ataque\") # etiqueta del eje x\n",
    "ax.set_ylabel(\"Num. de ataques\") # etiqueta del eje y\n",
    "ax.grid(color = \"gray\")\n",
    "\n",
    "plt.savefig('./visualizacion_2/imagen02.png')\n",
    "plt.show"
   ]
  },
  {
   "cell_type": "code",
   "execution_count": null,
   "metadata": {},
   "outputs": [],
   "source": [
    "# Guardad las figuras creadas en cada caso. Podéis usar el formato que queráis. \n",
    "# Guarda todas las fotos en una carpeta llamada Visualizacion-II."
   ]
  }
 ],
 "metadata": {
  "kernelspec": {
   "display_name": "Python 3.9.7 ('base')",
   "language": "python",
   "name": "python3"
  },
  "language_info": {
   "codemirror_mode": {
    "name": "ipython",
    "version": 3
   },
   "file_extension": ".py",
   "mimetype": "text/x-python",
   "name": "python",
   "nbconvert_exporter": "python",
   "pygments_lexer": "ipython3",
   "version": "3.9.7"
  },
  "orig_nbformat": 4,
  "vscode": {
   "interpreter": {
    "hash": "fd3399778ecca89ccfd38c8963bbc048ff3198ccc7f9219d1f9dd0c6b6412bb5"
   }
  }
 },
 "nbformat": 4,
 "nbformat_minor": 2
}
